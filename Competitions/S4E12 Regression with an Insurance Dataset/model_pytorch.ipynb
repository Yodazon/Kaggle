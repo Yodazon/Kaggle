{
 "cells": [
  {
   "cell_type": "code",
   "execution_count": 160,
   "metadata": {},
   "outputs": [],
   "source": [
    "import pandas as pd\n",
    "import numpy as np\n",
    "\n",
    "import torch\n",
    "import torch.nn as nn\n",
    "import torch.optim as optim\n",
    "from torch.utils.data import DataLoader, TensorDataset\n"
   ]
  },
  {
   "cell_type": "code",
   "execution_count": 161,
   "metadata": {},
   "outputs": [],
   "source": [
    "file_path = \"playground-series-s4e12//\"\n",
    "\n",
    "df_train = pd.read_csv(file_path +\"train.csv\")\n",
    "df_test = pd.read_csv(file_path +\"test.csv\")"
   ]
  },
  {
   "cell_type": "code",
   "execution_count": 162,
   "metadata": {},
   "outputs": [
    {
     "data": {
      "text/plain": [
       "Index(['id', 'Age', 'Gender', 'Annual Income', 'Marital Status',\n",
       "       'Number of Dependents', 'Education Level', 'Occupation', 'Health Score',\n",
       "       'Location', 'Policy Type', 'Previous Claims', 'Vehicle Age',\n",
       "       'Credit Score', 'Insurance Duration', 'Policy Start Date',\n",
       "       'Customer Feedback', 'Smoking Status', 'Exercise Frequency',\n",
       "       'Property Type', 'Premium Amount'],\n",
       "      dtype='object')"
      ]
     },
     "execution_count": 162,
     "metadata": {},
     "output_type": "execute_result"
    }
   ],
   "source": [
    "df_train.columns"
   ]
  },
  {
   "cell_type": "code",
   "execution_count": 163,
   "metadata": {},
   "outputs": [
    {
     "data": {
      "text/plain": [
       "id                      [0, 1, 2, 3, 4, 5, 6, 7, 8, 9, 10, 11, 12, 13,...\n",
       "Age                     [19.0, 39.0, 23.0, 21.0, 29.0, 41.0, 48.0, 44....\n",
       "Gender                                                     [Female, Male]\n",
       "Annual Income           [10049.0, 31678.0, 25602.0, 141855.0, 39651.0,...\n",
       "Marital Status                           [Married, Divorced, Single, nan]\n",
       "Number of Dependents                       [1.0, 3.0, 2.0, 0.0, 4.0, nan]\n",
       "Education Level                  [Bachelor's, Master's, High School, PhD]\n",
       "Occupation                     [Self-Employed, nan, Employed, Unemployed]\n",
       "Health Score            [22.59876067181393, 15.569730989408043, 47.177...\n",
       "Location                                         [Urban, Rural, Suburban]\n",
       "Policy Type                               [Premium, Comprehensive, Basic]\n",
       "Previous Claims         [2.0, 1.0, 0.0, nan, 3.0, 4.0, 5.0, 6.0, 7.0, ...\n",
       "Vehicle Age             [17.0, 12.0, 14.0, 0.0, 8.0, 4.0, 11.0, 10.0, ...\n",
       "Credit Score            [372.0, 694.0, nan, 367.0, 598.0, 614.0, 807.0...\n",
       "Insurance Duration      [5.0, 2.0, 3.0, 1.0, 4.0, 6.0, 8.0, 9.0, 7.0, ...\n",
       "Policy Start Date       [2023-12-23 15:21:39.134960, 2023-06-12 15:21:...\n",
       "Customer Feedback                              [Poor, Average, Good, nan]\n",
       "Smoking Status                                                  [No, Yes]\n",
       "Exercise Frequency                       [Weekly, Monthly, Daily, Rarely]\n",
       "Property Type                                   [House, Apartment, Condo]\n",
       "Premium Amount          [2869.0, 1483.0, 567.0, 765.0, 2022.0, 3202.0,...\n",
       "dtype: object"
      ]
     },
     "execution_count": 163,
     "metadata": {},
     "output_type": "execute_result"
    }
   ],
   "source": [
    "pd.Series({c: df_train[c].unique() for c in df_train})"
   ]
  },
  {
   "cell_type": "code",
   "execution_count": 164,
   "metadata": {},
   "outputs": [],
   "source": [
    "from sklearn.preprocessing import LabelEncoder\n",
    "\n",
    "# Define the columns to encode\n",
    "columns_to_encode = [\n",
    "    'Gender',\n",
    "    'Marital Status',\n",
    "    'Education Level',\n",
    "    'Occupation',\n",
    "    'Location',\n",
    "    'Policy Type',\n",
    "    'Customer Feedback',\n",
    "    'Smoking Status',\n",
    "    'Exercise Frequency',\n",
    "    'Property Type',\n",
    "]\n",
    "\n",
    "# Encode columns\n",
    "for col in columns_to_encode:\n",
    "    # Use LabelEncoder for encoding\n",
    "    le = LabelEncoder()\n",
    "    df_train[col] = le.fit_transform(df_train[col].astype(str))  # Convert to string to handle NaN\n",
    "    df_train[col] = df_train[col].astype(float)\n"
   ]
  },
  {
   "cell_type": "code",
   "execution_count": 165,
   "metadata": {},
   "outputs": [],
   "source": [
    "#df_train.hist(figsize=(15,10), grid=False)"
   ]
  },
  {
   "cell_type": "code",
   "execution_count": 166,
   "metadata": {},
   "outputs": [],
   "source": [
    "df_train = df_train.drop(['id','Policy Start Date'], axis=1)\n",
    "features = df_train.drop(['Premium Amount'], axis=1)\n",
    "label = df_train.pop('Premium Amount')\n",
    "train_dataset = df_train.sample(frac=0.8, random_state=0)\n",
    "test_dataset = df_train.drop(train_dataset.index)\n"
   ]
  },
  {
   "cell_type": "code",
   "execution_count": 167,
   "metadata": {},
   "outputs": [
    {
     "data": {
      "text/plain": [
       "Age                     float64\n",
       "Gender                  float64\n",
       "Annual Income           float64\n",
       "Marital Status          float64\n",
       "Number of Dependents    float64\n",
       "Education Level         float64\n",
       "Occupation              float64\n",
       "Health Score            float64\n",
       "Location                float64\n",
       "Policy Type             float64\n",
       "Previous Claims         float64\n",
       "Vehicle Age             float64\n",
       "Credit Score            float64\n",
       "Insurance Duration      float64\n",
       "Customer Feedback       float64\n",
       "Smoking Status          float64\n",
       "Exercise Frequency      float64\n",
       "Property Type           float64\n",
       "dtype: object"
      ]
     },
     "execution_count": 167,
     "metadata": {},
     "output_type": "execute_result"
    }
   ],
   "source": [
    "df_train.dtypes"
   ]
  },
  {
   "cell_type": "code",
   "execution_count": 168,
   "metadata": {},
   "outputs": [
    {
     "data": {
      "text/plain": [
       "(1200000, 18)"
      ]
     },
     "execution_count": 168,
     "metadata": {},
     "output_type": "execute_result"
    }
   ],
   "source": [
    "df_train.shape\n"
   ]
  },
  {
   "cell_type": "code",
   "execution_count": 169,
   "metadata": {},
   "outputs": [
    {
     "name": "stdout",
     "output_type": "stream",
     "text": [
      "Using mps device\n"
     ]
    }
   ],
   "source": [
    "device = torch.device(\"mps\" if torch.backends.mps.is_available() else \"cpu\")\n",
    "\n",
    "print(f\"Using {device} device\")"
   ]
  },
  {
   "cell_type": "code",
   "execution_count": 170,
   "metadata": {},
   "outputs": [],
   "source": [
    "#Defining model\n",
    "model = nn.Sequential(\n",
    "    nn.Linear(19, 50),\n",
    "    nn.ReLU(),\n",
    "    nn.Linear(50, 50),\n",
    "    nn.ReLU(),\n",
    "    nn.Linear(50, 50),\n",
    "    nn.ReLU(),\n",
    "    nn.Linear(50, 50),\n",
    "    nn.ReLU(),\n",
    "    nn.Linear(50, 1)\n",
    ")"
   ]
  },
  {
   "cell_type": "code",
   "execution_count": null,
   "metadata": {},
   "outputs": [],
   "source": [
    "class PyTorchModel(nn.Module):\n",
    "    def __init__(self):\n",
    "        super().__init__()\n",
    "    #     self.layer1 = nn.Sequential(\n",
    "    #         nn.Linear(18, 36),\n",
    "    #         nn.ReLU(),\n",
    "    #         nn.Dropout(p=0.25)\n",
    "    #     )\n",
    "    #     self.layer2 = nn.Sequential(\n",
    "    #         nn.Linear(36, 72),\n",
    "    #         nn.SiLU(),\n",
    "    #         #nn.Dropout(p=0.25)\n",
    "    #     )\n",
    "    #     self.layer3 = nn.Sequential(\n",
    "    #         nn.Linear(72, 72),\n",
    "    #         nn.SiLU(),\n",
    "    #         #nn.Dropout(p=0.25)\n",
    "    #     )\n",
    "    #     self.layer4 = nn.Sequential(\n",
    "    #         nn.Linear(72, 36),\n",
    "    #         nn.ReLU(),\n",
    "    #         #nn.Dropout(p=0.25)\n",
    "    #     )\n",
    "    #     self.layer5 = nn.Sequential(\n",
    "    #         nn.Linear(36, 1)\n",
    "    #     )\n",
    "    # def forward(self,x):\n",
    "    #     out = self.layer1(x)\n",
    "    #     out = self.layer2(out)\n",
    "    #     out = self.layer3(out)\n",
    "    #     out = self.layer4(out)\n",
    "    #     out = self.layer5(out)\n",
    "    #     return out\n",
    "        self.layer = nn.Sequential(\n",
    "                nn.Linear(18, 128),\n",
    "                nn.ReLU(),\n",
    "                nn.Linear(128, 64),\n",
    "                nn.SiLU(),\n",
    "                nn.Linear(64, 32),\n",
    "                nn.SiLU(),\n",
    "                nn.Linear(32, 32),\n",
    "                nn.ReLU(),\n",
    "                nn.Linear(32, 1)\n",
    "        )\n",
    "    def forward(self,x):\n",
    "        return self.layer(x)"
   ]
  },
  {
   "cell_type": "code",
   "execution_count": 187,
   "metadata": {},
   "outputs": [
    {
     "name": "stdout",
     "output_type": "stream",
     "text": [
      "PyTorchModel(\n",
      "  (layer): Sequential(\n",
      "    (0): Linear(in_features=18, out_features=36, bias=True)\n",
      "    (1): ReLU()\n",
      "    (2): Dropout(p=0.25, inplace=False)\n",
      "    (3): Linear(in_features=36, out_features=72, bias=True)\n",
      "    (4): SiLU()\n",
      "    (5): Linear(in_features=72, out_features=72, bias=True)\n",
      "    (6): SiLU()\n",
      "    (7): Linear(in_features=72, out_features=36, bias=True)\n",
      "    (8): ReLU()\n",
      "    (9): Linear(in_features=36, out_features=1, bias=True)\n",
      "  )\n",
      ")\n"
     ]
    }
   ],
   "source": [
    "model = PyTorchModel().to(device)\n",
    "print(model)"
   ]
  },
  {
   "cell_type": "code",
   "execution_count": 188,
   "metadata": {},
   "outputs": [],
   "source": [
    "loss_fn = nn.MSELoss()\n",
    "optimizer = optim.Adam(model.parameters(), lr=0.05)"
   ]
  },
  {
   "cell_type": "code",
   "execution_count": 189,
   "metadata": {},
   "outputs": [],
   "source": [
    "from sklearn.model_selection import train_test_split\n",
    "\n",
    "X_train, X_test, y_train, y_test = train_test_split(features, label, train_size= 0.8, shuffle=True)\n",
    "epochs = 25\n",
    "batch_size = 1024\n"
   ]
  },
  {
   "cell_type": "code",
   "execution_count": 190,
   "metadata": {},
   "outputs": [],
   "source": [
    "from sklearn.preprocessing import StandardScaler\n",
    "\n",
    "\n",
    "# Normalize data\n",
    "scaler = StandardScaler()\n",
    "X_train_scaled = scaler.fit_transform(X_train)\n",
    "X_test_scaled = scaler.transform(X_test)\n",
    "\n",
    "# Ensure target variables are numpy arrays\n",
    "y_train_scaled = (y_train / y_train.max()).values  # Convert to numpy\n",
    "y_test_scaled = (y_test / y_train.max()).values  # Convert to numpy\n",
    "\n",
    "# PyTorch tensors\n",
    "train_dataset = TensorDataset(\n",
    "    torch.tensor(X_train_scaled, dtype=torch.float32).to(device),\n",
    "    torch.tensor(y_train_scaled, dtype=torch.float32).to(device)\n",
    ")\n",
    "test_dataset = TensorDataset(\n",
    "    torch.tensor(X_test_scaled, dtype=torch.float32).to(device),\n",
    "    torch.tensor(y_test_scaled, dtype=torch.float32).to(device)\n",
    ")\n",
    "\n",
    "# Use DataLoader\n",
    "train_loader = DataLoader(train_dataset, batch_size=batch_size, shuffle=True)\n",
    "test_loader = DataLoader(test_dataset, batch_size=batch_size, shuffle=False)"
   ]
  },
  {
   "cell_type": "code",
   "execution_count": null,
   "metadata": {},
   "outputs": [
    {
     "name": "stdout",
     "output_type": "stream",
     "text": [
      "Epoch 1/25, Loss: 0.0305\n",
      "Epoch 2/25, Loss: 0.0300\n",
      "Epoch 3/25, Loss: 0.0300\n",
      "Epoch 4/25, Loss: 0.0301\n",
      "Epoch 5/25, Loss: 0.0300\n",
      "Epoch 6/25, Loss: 0.0300\n",
      "Epoch 7/25, Loss: 0.0300\n",
      "Epoch 8/25, Loss: 0.0300\n",
      "Epoch 9/25, Loss: 0.0300\n",
      "Epoch 10/25, Loss: 0.0300\n",
      "Epoch 11/25, Loss: 0.0301\n"
     ]
    }
   ],
   "source": [
    "for epoch in range(epochs):\n",
    "    model.train()  # Set the model to training mode\n",
    "    epoch_loss = 0.0\n",
    "    \n",
    "    for batch_x, batch_y in train_loader:\n",
    "        # Forward pass\n",
    "        predictions = model(batch_x).squeeze()  # Squeeze if output shape needs to match labels\n",
    "        loss = loss_fn(predictions, batch_y)\n",
    "        \n",
    "        # Backward pass and optimization\n",
    "        optimizer.zero_grad()\n",
    "        loss.backward()\n",
    "        optimizer.step()\n",
    "        \n",
    "        epoch_loss += loss.item()\n",
    "\n",
    "    # Average loss for the epoch\n",
    "    print(f\"Epoch {epoch + 1}/{epochs}, Loss: {epoch_loss / len(train_loader):.4f}\")\n"
   ]
  },
  {
   "cell_type": "code",
   "execution_count": null,
   "metadata": {},
   "outputs": [
    {
     "name": "stdout",
     "output_type": "stream",
     "text": [
      "Mean Squared Error (MSE): 0.0300\n",
      "R-squared (R²): -0.0000\n"
     ]
    },
    {
     "name": "stderr",
     "output_type": "stream",
     "text": [
      "/var/folders/xs/7cmd8k6907zbj8nkv6m694rc0000gn/T/ipykernel_8176/2693548901.py:40: UserWarning: No artists with labels found to put in legend.  Note that artists whose label start with an underscore are ignored when legend() is called with no argument.\n",
      "  plt.legend()\n"
     ]
    },
    {
     "data": {
      "image/png": "[encoded data removed]",
      "text/plain": [
       "<Figure size 640x480 with 1 Axes>"
      ]
     },
     "metadata": {},
     "output_type": "display_data"
    }
   ],
   "source": [
    "from sklearn.metrics import mean_squared_error, r2_score\n",
    "import matplotlib.pyplot as plt\n",
    "\n",
    "# Set model to evaluation mode\n",
    "model.eval()\n",
    "\n",
    "# Initialize lists for predictions and actual values\n",
    "predictions_list = []\n",
    "y_test_list = []\n",
    "\n",
    "# Disable gradient calculation\n",
    "with torch.no_grad():\n",
    "    for batch_x, batch_y in test_loader:\n",
    "        batch_x = batch_x.to(device)\n",
    "        batch_y = batch_y.to(device)\n",
    "\n",
    "        # Get predictions\n",
    "        predictions = model(batch_x).squeeze()\n",
    "        predictions_list.append(predictions.cpu().numpy())  # Move to CPU for compatibility\n",
    "        y_test_list.append(batch_y.cpu().numpy())  # Move true labels to CPU\n",
    "\n",
    "# Flatten lists to arrays\n",
    "predictions_array = np.concatenate(predictions_list, axis=0)\n",
    "y_test_array = np.concatenate(y_test_list, axis=0)\n",
    "\n",
    "# Compute MSE and R²\n",
    "mse = mean_squared_error(y_test_array, predictions_array)\n",
    "r2 = r2_score(y_test_array, predictions_array)\n",
    "\n",
    "# Print metrics\n",
    "print(f\"Mean Squared Error (MSE): {mse:.4f}\")\n",
    "print(f\"R-squared (R²): {r2:.4f}\")\n",
    "\n",
    "# Optional: Plot predictions vs true values\n",
    "plt.scatter(y_test_array, predictions_array)\n",
    "plt.plot([min(y_test_array), max(y_test_array)], [min(y_test_array), max(y_test_array)], color='red', lw=2)\n",
    "plt.xlabel(\"True Values\")\n",
    "plt.ylabel(\"Predictions\")\n",
    "plt.title(\"True vs Predicted Values\")\n",
    "plt.show()"
   ]
  }
 ],
 "metadata": {
  "kernelspec": {
   "display_name": "Python 3",
   "language": "python",
   "name": "python3"
  },
  "language_info": {
   "codemirror_mode": {
    "name": "ipython",
    "version": 3
   },
   "file_extension": ".py",
   "mimetype": "text/x-python",
   "name": "python",
   "nbconvert_exporter": "python",
   "pygments_lexer": "ipython3",
   "version": "3.12.5"
  }
 },
 "nbformat": 4,
 "nbformat_minor": 2
}
