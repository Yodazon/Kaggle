{
 "cells": [
  {
   "cell_type": "code",
   "execution_count": 17,
   "metadata": {},
   "outputs": [],
   "source": [
    "import zipfile\n",
    "import pandas as pd\n",
    "import numpy as np\n",
    "import xgboost as xgb\n",
    "from sklearn.model_selection import train_test_split\n",
    "from sklearn.metrics import accuracy_score, classification_report\n",
    "\n",
    "# import packages for hyperparameters tuning\n",
    "from hyperopt import STATUS_OK, Trials, fmin, hp, tpe"
   ]
  },
  {
   "cell_type": "code",
   "execution_count": 18,
   "metadata": {},
   "outputs": [],
   "source": [
    "zf = zipfile.ZipFile(\"playground-series-s4e6.zip\")\n",
    "df_train = pd.read_csv(zf.open(\"train.csv\"))\n",
    "df_test = pd.read_csv(zf.open(\"test.csv\"))"
   ]
  },
  {
   "cell_type": "code",
   "execution_count": 19,
   "metadata": {},
   "outputs": [
    {
     "data": {
      "text/html": [
       "<div>\n",
       "<style scoped>\n",
       "    .dataframe tbody tr th:only-of-type {\n",
       "        vertical-align: middle;\n",
       "    }\n",
       "\n",
       "    .dataframe tbody tr th {\n",
       "        vertical-align: top;\n",
       "    }\n",
       "\n",
       "    .dataframe thead th {\n",
       "        text-align: right;\n",
       "    }\n",
       "</style>\n",
       "<table border=\"1\" class=\"dataframe\">\n",
       "  <thead>\n",
       "    <tr style=\"text-align: right;\">\n",
       "      <th></th>\n",
       "      <th>id</th>\n",
       "      <th>Marital status</th>\n",
       "      <th>Application mode</th>\n",
       "      <th>Application order</th>\n",
       "      <th>Course</th>\n",
       "      <th>Daytime/evening attendance</th>\n",
       "      <th>Previous qualification</th>\n",
       "      <th>Previous qualification (grade)</th>\n",
       "      <th>Nacionality</th>\n",
       "      <th>Mother's qualification</th>\n",
       "      <th>...</th>\n",
       "      <th>Curricular units 2nd sem (credited)</th>\n",
       "      <th>Curricular units 2nd sem (enrolled)</th>\n",
       "      <th>Curricular units 2nd sem (evaluations)</th>\n",
       "      <th>Curricular units 2nd sem (approved)</th>\n",
       "      <th>Curricular units 2nd sem (grade)</th>\n",
       "      <th>Curricular units 2nd sem (without evaluations)</th>\n",
       "      <th>Unemployment rate</th>\n",
       "      <th>Inflation rate</th>\n",
       "      <th>GDP</th>\n",
       "      <th>Target</th>\n",
       "    </tr>\n",
       "  </thead>\n",
       "  <tbody>\n",
       "    <tr>\n",
       "      <th>0</th>\n",
       "      <td>0</td>\n",
       "      <td>1</td>\n",
       "      <td>1</td>\n",
       "      <td>1</td>\n",
       "      <td>9238</td>\n",
       "      <td>1</td>\n",
       "      <td>1</td>\n",
       "      <td>126.0</td>\n",
       "      <td>1</td>\n",
       "      <td>1</td>\n",
       "      <td>...</td>\n",
       "      <td>0</td>\n",
       "      <td>6</td>\n",
       "      <td>7</td>\n",
       "      <td>6</td>\n",
       "      <td>12.428571</td>\n",
       "      <td>0</td>\n",
       "      <td>11.1</td>\n",
       "      <td>0.6</td>\n",
       "      <td>2.02</td>\n",
       "      <td>Graduate</td>\n",
       "    </tr>\n",
       "    <tr>\n",
       "      <th>1</th>\n",
       "      <td>1</td>\n",
       "      <td>1</td>\n",
       "      <td>17</td>\n",
       "      <td>1</td>\n",
       "      <td>9238</td>\n",
       "      <td>1</td>\n",
       "      <td>1</td>\n",
       "      <td>125.0</td>\n",
       "      <td>1</td>\n",
       "      <td>19</td>\n",
       "      <td>...</td>\n",
       "      <td>0</td>\n",
       "      <td>6</td>\n",
       "      <td>9</td>\n",
       "      <td>0</td>\n",
       "      <td>0.000000</td>\n",
       "      <td>0</td>\n",
       "      <td>11.1</td>\n",
       "      <td>0.6</td>\n",
       "      <td>2.02</td>\n",
       "      <td>Dropout</td>\n",
       "    </tr>\n",
       "    <tr>\n",
       "      <th>2</th>\n",
       "      <td>2</td>\n",
       "      <td>1</td>\n",
       "      <td>17</td>\n",
       "      <td>2</td>\n",
       "      <td>9254</td>\n",
       "      <td>1</td>\n",
       "      <td>1</td>\n",
       "      <td>137.0</td>\n",
       "      <td>1</td>\n",
       "      <td>3</td>\n",
       "      <td>...</td>\n",
       "      <td>0</td>\n",
       "      <td>6</td>\n",
       "      <td>0</td>\n",
       "      <td>0</td>\n",
       "      <td>0.000000</td>\n",
       "      <td>0</td>\n",
       "      <td>16.2</td>\n",
       "      <td>0.3</td>\n",
       "      <td>-0.92</td>\n",
       "      <td>Dropout</td>\n",
       "    </tr>\n",
       "    <tr>\n",
       "      <th>3</th>\n",
       "      <td>3</td>\n",
       "      <td>1</td>\n",
       "      <td>1</td>\n",
       "      <td>3</td>\n",
       "      <td>9500</td>\n",
       "      <td>1</td>\n",
       "      <td>1</td>\n",
       "      <td>131.0</td>\n",
       "      <td>1</td>\n",
       "      <td>19</td>\n",
       "      <td>...</td>\n",
       "      <td>0</td>\n",
       "      <td>8</td>\n",
       "      <td>11</td>\n",
       "      <td>7</td>\n",
       "      <td>12.820000</td>\n",
       "      <td>0</td>\n",
       "      <td>11.1</td>\n",
       "      <td>0.6</td>\n",
       "      <td>2.02</td>\n",
       "      <td>Enrolled</td>\n",
       "    </tr>\n",
       "    <tr>\n",
       "      <th>4</th>\n",
       "      <td>4</td>\n",
       "      <td>1</td>\n",
       "      <td>1</td>\n",
       "      <td>2</td>\n",
       "      <td>9500</td>\n",
       "      <td>1</td>\n",
       "      <td>1</td>\n",
       "      <td>132.0</td>\n",
       "      <td>1</td>\n",
       "      <td>19</td>\n",
       "      <td>...</td>\n",
       "      <td>0</td>\n",
       "      <td>7</td>\n",
       "      <td>12</td>\n",
       "      <td>6</td>\n",
       "      <td>12.933333</td>\n",
       "      <td>0</td>\n",
       "      <td>7.6</td>\n",
       "      <td>2.6</td>\n",
       "      <td>0.32</td>\n",
       "      <td>Graduate</td>\n",
       "    </tr>\n",
       "  </tbody>\n",
       "</table>\n",
       "<p>5 rows × 38 columns</p>\n",
       "</div>"
      ],
      "text/plain": [
       "   id  Marital status  Application mode  Application order  Course  \\\n",
       "0   0               1                 1                  1    9238   \n",
       "1   1               1                17                  1    9238   \n",
       "2   2               1                17                  2    9254   \n",
       "3   3               1                 1                  3    9500   \n",
       "4   4               1                 1                  2    9500   \n",
       "\n",
       "   Daytime/evening attendance  Previous qualification  \\\n",
       "0                           1                       1   \n",
       "1                           1                       1   \n",
       "2                           1                       1   \n",
       "3                           1                       1   \n",
       "4                           1                       1   \n",
       "\n",
       "   Previous qualification (grade)  Nacionality  Mother's qualification  ...  \\\n",
       "0                           126.0            1                       1  ...   \n",
       "1                           125.0            1                      19  ...   \n",
       "2                           137.0            1                       3  ...   \n",
       "3                           131.0            1                      19  ...   \n",
       "4                           132.0            1                      19  ...   \n",
       "\n",
       "   Curricular units 2nd sem (credited)  Curricular units 2nd sem (enrolled)  \\\n",
       "0                                    0                                    6   \n",
       "1                                    0                                    6   \n",
       "2                                    0                                    6   \n",
       "3                                    0                                    8   \n",
       "4                                    0                                    7   \n",
       "\n",
       "   Curricular units 2nd sem (evaluations)  \\\n",
       "0                                       7   \n",
       "1                                       9   \n",
       "2                                       0   \n",
       "3                                      11   \n",
       "4                                      12   \n",
       "\n",
       "   Curricular units 2nd sem (approved)  Curricular units 2nd sem (grade)  \\\n",
       "0                                    6                         12.428571   \n",
       "1                                    0                          0.000000   \n",
       "2                                    0                          0.000000   \n",
       "3                                    7                         12.820000   \n",
       "4                                    6                         12.933333   \n",
       "\n",
       "   Curricular units 2nd sem (without evaluations)  Unemployment rate  \\\n",
       "0                                               0               11.1   \n",
       "1                                               0               11.1   \n",
       "2                                               0               16.2   \n",
       "3                                               0               11.1   \n",
       "4                                               0                7.6   \n",
       "\n",
       "   Inflation rate   GDP    Target  \n",
       "0             0.6  2.02  Graduate  \n",
       "1             0.6  2.02   Dropout  \n",
       "2             0.3 -0.92   Dropout  \n",
       "3             0.6  2.02  Enrolled  \n",
       "4             2.6  0.32  Graduate  \n",
       "\n",
       "[5 rows x 38 columns]"
      ]
     },
     "execution_count": 19,
     "metadata": {},
     "output_type": "execute_result"
    }
   ],
   "source": [
    "df_train.head(5)"
   ]
  },
  {
   "cell_type": "code",
   "execution_count": 60,
   "metadata": {},
   "outputs": [
    {
     "name": "stdout",
     "output_type": "stream",
     "text": [
      "       Target\n",
      "0           2\n",
      "1           0\n",
      "2           0\n",
      "3           1\n",
      "4           2\n",
      "...       ...\n",
      "76513       2\n",
      "76514       2\n",
      "76515       1\n",
      "76516       0\n",
      "76517       2\n",
      "\n",
      "[76518 rows x 1 columns]\n"
     ]
    }
   ],
   "source": [
    "#One liner to code the final column that is the outcome of our model\n",
    "y_coded_column = pd.DataFrame({\"Target\": np.argmax((pd.get_dummies(df_train[\"Target\"], dtype= float)), axis=1)})\n",
    "\n",
    "#Setting up variables for train/test split\n",
    "y = y_coded_column\n",
    "x = df_train.drop([\"id\", \"Target\"], axis=1)\n",
    "\n",
    "print (y)\n"
   ]
  },
  {
   "cell_type": "code",
   "execution_count": 21,
   "metadata": {},
   "outputs": [],
   "source": [
    "x_train, x_test, y_train, y_test = train_test_split(x,y, random_state=42)"
   ]
  },
  {
   "cell_type": "code",
   "execution_count": 55,
   "metadata": {},
   "outputs": [
    {
     "name": "stdout",
     "output_type": "stream",
     "text": [
      "  0%|          | 0/100 [00:00<?, ?trial/s, best loss=?]"
     ]
    },
    {
     "name": "stderr",
     "output_type": "stream",
     "text": [
      "C:\\Users\\heroa\\AppData\\Local\\Packages\\PythonSoftwareFoundation.Python.3.11_qbz5n2kfra8p0\\LocalCache\\local-packages\\Python311\\site-packages\\xgboost\\sklearn.py:889: UserWarning: `eval_metric` in `fit` method is deprecated for better compatibility with scikit-learn, use `eval_metric` in constructor or`set_params` instead.\n",
      "  warnings.warn(\n",
      "\n",
      "C:\\Users\\heroa\\AppData\\Local\\Packages\\PythonSoftwareFoundation.Python.3.11_qbz5n2kfra8p0\\LocalCache\\local-packages\\Python311\\site-packages\\xgboost\\sklearn.py:889: UserWarning: `early_stopping_rounds` in `fit` method is deprecated for better compatibility with scikit-learn, use `early_stopping_rounds` in constructor or`set_params` instead.\n",
      "  warnings.warn(\n",
      "\n"
     ]
    },
    {
     "name": "stdout",
     "output_type": "stream",
     "text": [
      "SCORE:                                                 \n",
      "0.4446941975953999                                     \n",
      "  1%|          | 1/100 [00:03<05:59,  3.63s/trial, best loss: -0.4446941975953999]"
     ]
    },
    {
     "name": "stderr",
     "output_type": "stream",
     "text": [
      "C:\\Users\\heroa\\AppData\\Local\\Packages\\PythonSoftwareFoundation.Python.3.11_qbz5n2kfra8p0\\LocalCache\\local-packages\\Python311\\site-packages\\xgboost\\sklearn.py:889: UserWarning: `eval_metric` in `fit` method is deprecated for better compatibility with scikit-learn, use `eval_metric` in constructor or`set_params` instead.\n",
      "  warnings.warn(\n",
      "\n",
      "C:\\Users\\heroa\\AppData\\Local\\Packages\\PythonSoftwareFoundation.Python.3.11_qbz5n2kfra8p0\\LocalCache\\local-packages\\Python311\\site-packages\\xgboost\\sklearn.py:889: UserWarning: `early_stopping_rounds` in `fit` method is deprecated for better compatibility with scikit-learn, use `early_stopping_rounds` in constructor or`set_params` instead.\n",
      "  warnings.warn(\n",
      "\n"
     ]
    },
    {
     "name": "stdout",
     "output_type": "stream",
     "text": [
      "SCORE:                                                                            \n",
      "0.4445896497647674                                                                \n",
      "  2%|▏         | 2/100 [00:07<05:57,  3.65s/trial, best loss: -0.4446941975953999]"
     ]
    },
    {
     "name": "stderr",
     "output_type": "stream",
     "text": [
      "C:\\Users\\heroa\\AppData\\Local\\Packages\\PythonSoftwareFoundation.Python.3.11_qbz5n2kfra8p0\\LocalCache\\local-packages\\Python311\\site-packages\\xgboost\\sklearn.py:889: UserWarning: `eval_metric` in `fit` method is deprecated for better compatibility with scikit-learn, use `eval_metric` in constructor or`set_params` instead.\n",
      "  warnings.warn(\n",
      "\n",
      "C:\\Users\\heroa\\AppData\\Local\\Packages\\PythonSoftwareFoundation.Python.3.11_qbz5n2kfra8p0\\LocalCache\\local-packages\\Python311\\site-packages\\xgboost\\sklearn.py:889: UserWarning: `early_stopping_rounds` in `fit` method is deprecated for better compatibility with scikit-learn, use `early_stopping_rounds` in constructor or`set_params` instead.\n",
      "  warnings.warn(\n",
      "\n"
     ]
    },
    {
     "name": "stdout",
     "output_type": "stream",
     "text": [
      "SCORE:                                                                            \n",
      "0.443282801881861                                                                 \n",
      "  3%|▎         | 3/100 [00:10<05:42,  3.53s/trial, best loss: -0.4446941975953999]"
     ]
    },
    {
     "name": "stderr",
     "output_type": "stream",
     "text": [
      "C:\\Users\\heroa\\AppData\\Local\\Packages\\PythonSoftwareFoundation.Python.3.11_qbz5n2kfra8p0\\LocalCache\\local-packages\\Python311\\site-packages\\xgboost\\sklearn.py:889: UserWarning: `eval_metric` in `fit` method is deprecated for better compatibility with scikit-learn, use `eval_metric` in constructor or`set_params` instead.\n",
      "  warnings.warn(\n",
      "\n",
      "C:\\Users\\heroa\\AppData\\Local\\Packages\\PythonSoftwareFoundation.Python.3.11_qbz5n2kfra8p0\\LocalCache\\local-packages\\Python311\\site-packages\\xgboost\\sklearn.py:889: UserWarning: `early_stopping_rounds` in `fit` method is deprecated for better compatibility with scikit-learn, use `early_stopping_rounds` in constructor or`set_params` instead.\n",
      "  warnings.warn(\n",
      "\n"
     ]
    },
    {
     "name": "stdout",
     "output_type": "stream",
     "text": [
      "SCORE:                                                                            \n",
      "0.443282801881861                                                                 \n",
      "  4%|▍         | 4/100 [00:14<05:34,  3.49s/trial, best loss: -0.4446941975953999]"
     ]
    },
    {
     "name": "stderr",
     "output_type": "stream",
     "text": [
      "C:\\Users\\heroa\\AppData\\Local\\Packages\\PythonSoftwareFoundation.Python.3.11_qbz5n2kfra8p0\\LocalCache\\local-packages\\Python311\\site-packages\\xgboost\\sklearn.py:889: UserWarning: `eval_metric` in `fit` method is deprecated for better compatibility with scikit-learn, use `eval_metric` in constructor or`set_params` instead.\n",
      "  warnings.warn(\n",
      "\n",
      "C:\\Users\\heroa\\AppData\\Local\\Packages\\PythonSoftwareFoundation.Python.3.11_qbz5n2kfra8p0\\LocalCache\\local-packages\\Python311\\site-packages\\xgboost\\sklearn.py:889: UserWarning: `early_stopping_rounds` in `fit` method is deprecated for better compatibility with scikit-learn, use `early_stopping_rounds` in constructor or`set_params` instead.\n",
      "  warnings.warn(\n",
      "\n"
     ]
    },
    {
     "name": "stdout",
     "output_type": "stream",
     "text": [
      "SCORE:                                                                            \n",
      "0.443282801881861                                                                 \n",
      "  5%|▌         | 5/100 [00:17<05:26,  3.44s/trial, best loss: -0.4446941975953999]"
     ]
    },
    {
     "name": "stderr",
     "output_type": "stream",
     "text": [
      "C:\\Users\\heroa\\AppData\\Local\\Packages\\PythonSoftwareFoundation.Python.3.11_qbz5n2kfra8p0\\LocalCache\\local-packages\\Python311\\site-packages\\xgboost\\sklearn.py:889: UserWarning: `eval_metric` in `fit` method is deprecated for better compatibility with scikit-learn, use `eval_metric` in constructor or`set_params` instead.\n",
      "  warnings.warn(\n",
      "\n",
      "C:\\Users\\heroa\\AppData\\Local\\Packages\\PythonSoftwareFoundation.Python.3.11_qbz5n2kfra8p0\\LocalCache\\local-packages\\Python311\\site-packages\\xgboost\\sklearn.py:889: UserWarning: `early_stopping_rounds` in `fit` method is deprecated for better compatibility with scikit-learn, use `early_stopping_rounds` in constructor or`set_params` instead.\n",
      "  warnings.warn(\n",
      "\n"
     ]
    },
    {
     "name": "stdout",
     "output_type": "stream",
     "text": [
      "SCORE:                                                                            \n",
      "0.44453737584945113                                                               \n",
      "  6%|▌         | 6/100 [00:21<05:27,  3.48s/trial, best loss: -0.4446941975953999]"
     ]
    },
    {
     "name": "stderr",
     "output_type": "stream",
     "text": [
      "C:\\Users\\heroa\\AppData\\Local\\Packages\\PythonSoftwareFoundation.Python.3.11_qbz5n2kfra8p0\\LocalCache\\local-packages\\Python311\\site-packages\\xgboost\\sklearn.py:889: UserWarning: `eval_metric` in `fit` method is deprecated for better compatibility with scikit-learn, use `eval_metric` in constructor or`set_params` instead.\n",
      "  warnings.warn(\n",
      "\n",
      "C:\\Users\\heroa\\AppData\\Local\\Packages\\PythonSoftwareFoundation.Python.3.11_qbz5n2kfra8p0\\LocalCache\\local-packages\\Python311\\site-packages\\xgboost\\sklearn.py:889: UserWarning: `early_stopping_rounds` in `fit` method is deprecated for better compatibility with scikit-learn, use `early_stopping_rounds` in constructor or`set_params` instead.\n",
      "  warnings.warn(\n",
      "\n"
     ]
    },
    {
     "name": "stdout",
     "output_type": "stream",
     "text": [
      "SCORE:                                                                            \n",
      "0.4445896497647674                                                                \n",
      "  7%|▋         | 7/100 [00:24<05:26,  3.51s/trial, best loss: -0.4446941975953999]"
     ]
    },
    {
     "name": "stderr",
     "output_type": "stream",
     "text": [
      "C:\\Users\\heroa\\AppData\\Local\\Packages\\PythonSoftwareFoundation.Python.3.11_qbz5n2kfra8p0\\LocalCache\\local-packages\\Python311\\site-packages\\xgboost\\sklearn.py:889: UserWarning: `eval_metric` in `fit` method is deprecated for better compatibility with scikit-learn, use `eval_metric` in constructor or`set_params` instead.\n",
      "  warnings.warn(\n",
      "\n",
      "C:\\Users\\heroa\\AppData\\Local\\Packages\\PythonSoftwareFoundation.Python.3.11_qbz5n2kfra8p0\\LocalCache\\local-packages\\Python311\\site-packages\\xgboost\\sklearn.py:889: UserWarning: `early_stopping_rounds` in `fit` method is deprecated for better compatibility with scikit-learn, use `early_stopping_rounds` in constructor or`set_params` instead.\n",
      "  warnings.warn(\n",
      "\n"
     ]
    },
    {
     "name": "stdout",
     "output_type": "stream",
     "text": [
      "SCORE:                                                                            \n",
      "0.4442237323575536                                                                \n",
      "  8%|▊         | 8/100 [00:28<05:24,  3.52s/trial, best loss: -0.4446941975953999]"
     ]
    },
    {
     "name": "stderr",
     "output_type": "stream",
     "text": [
      "C:\\Users\\heroa\\AppData\\Local\\Packages\\PythonSoftwareFoundation.Python.3.11_qbz5n2kfra8p0\\LocalCache\\local-packages\\Python311\\site-packages\\xgboost\\sklearn.py:889: UserWarning: `eval_metric` in `fit` method is deprecated for better compatibility with scikit-learn, use `eval_metric` in constructor or`set_params` instead.\n",
      "  warnings.warn(\n",
      "\n",
      "C:\\Users\\heroa\\AppData\\Local\\Packages\\PythonSoftwareFoundation.Python.3.11_qbz5n2kfra8p0\\LocalCache\\local-packages\\Python311\\site-packages\\xgboost\\sklearn.py:889: UserWarning: `early_stopping_rounds` in `fit` method is deprecated for better compatibility with scikit-learn, use `early_stopping_rounds` in constructor or`set_params` instead.\n",
      "  warnings.warn(\n",
      "\n"
     ]
    },
    {
     "name": "stdout",
     "output_type": "stream",
     "text": [
      "SCORE:                                                                            \n",
      "0.4430214323052797                                                                \n",
      "  9%|▉         | 9/100 [00:31<05:15,  3.47s/trial, best loss: -0.4446941975953999]"
     ]
    },
    {
     "name": "stderr",
     "output_type": "stream",
     "text": [
      "C:\\Users\\heroa\\AppData\\Local\\Packages\\PythonSoftwareFoundation.Python.3.11_qbz5n2kfra8p0\\LocalCache\\local-packages\\Python311\\site-packages\\xgboost\\sklearn.py:889: UserWarning: `eval_metric` in `fit` method is deprecated for better compatibility with scikit-learn, use `eval_metric` in constructor or`set_params` instead.\n",
      "  warnings.warn(\n",
      "\n",
      "C:\\Users\\heroa\\AppData\\Local\\Packages\\PythonSoftwareFoundation.Python.3.11_qbz5n2kfra8p0\\LocalCache\\local-packages\\Python311\\site-packages\\xgboost\\sklearn.py:889: UserWarning: `early_stopping_rounds` in `fit` method is deprecated for better compatibility with scikit-learn, use `early_stopping_rounds` in constructor or`set_params` instead.\n",
      "  warnings.warn(\n",
      "\n"
     ]
    },
    {
     "name": "stdout",
     "output_type": "stream",
     "text": [
      "SCORE:                                                                            \n",
      "0.44385781495033977                                                               \n",
      " 10%|█         | 10/100 [00:35<05:16,  3.52s/trial, best loss: -0.4446941975953999]"
     ]
    },
    {
     "name": "stderr",
     "output_type": "stream",
     "text": [
      "C:\\Users\\heroa\\AppData\\Local\\Packages\\PythonSoftwareFoundation.Python.3.11_qbz5n2kfra8p0\\LocalCache\\local-packages\\Python311\\site-packages\\xgboost\\sklearn.py:889: UserWarning: `eval_metric` in `fit` method is deprecated for better compatibility with scikit-learn, use `eval_metric` in constructor or`set_params` instead.\n",
      "  warnings.warn(\n",
      "\n",
      "C:\\Users\\heroa\\AppData\\Local\\Packages\\PythonSoftwareFoundation.Python.3.11_qbz5n2kfra8p0\\LocalCache\\local-packages\\Python311\\site-packages\\xgboost\\sklearn.py:889: UserWarning: `early_stopping_rounds` in `fit` method is deprecated for better compatibility with scikit-learn, use `early_stopping_rounds` in constructor or`set_params` instead.\n",
      "  warnings.warn(\n",
      "\n"
     ]
    },
    {
     "name": "stdout",
     "output_type": "stream",
     "text": [
      "SCORE:                                                                             \n",
      "0.4422373235755358                                                                 \n",
      " 11%|█         | 11/100 [00:38<05:08,  3.46s/trial, best loss: -0.4446941975953999]"
     ]
    },
    {
     "name": "stderr",
     "output_type": "stream",
     "text": [
      "C:\\Users\\heroa\\AppData\\Local\\Packages\\PythonSoftwareFoundation.Python.3.11_qbz5n2kfra8p0\\LocalCache\\local-packages\\Python311\\site-packages\\xgboost\\sklearn.py:889: UserWarning: `eval_metric` in `fit` method is deprecated for better compatibility with scikit-learn, use `eval_metric` in constructor or`set_params` instead.\n",
      "  warnings.warn(\n",
      "\n",
      "C:\\Users\\heroa\\AppData\\Local\\Packages\\PythonSoftwareFoundation.Python.3.11_qbz5n2kfra8p0\\LocalCache\\local-packages\\Python311\\site-packages\\xgboost\\sklearn.py:889: UserWarning: `early_stopping_rounds` in `fit` method is deprecated for better compatibility with scikit-learn, use `early_stopping_rounds` in constructor or`set_params` instead.\n",
      "  warnings.warn(\n",
      "\n"
     ]
    },
    {
     "name": "stdout",
     "output_type": "stream",
     "text": [
      "SCORE:                                                                             \n",
      "0.4435441714584422                                                                 \n",
      " 12%|█▏        | 12/100 [00:41<05:02,  3.44s/trial, best loss: -0.4446941975953999]"
     ]
    },
    {
     "name": "stderr",
     "output_type": "stream",
     "text": [
      "C:\\Users\\heroa\\AppData\\Local\\Packages\\PythonSoftwareFoundation.Python.3.11_qbz5n2kfra8p0\\LocalCache\\local-packages\\Python311\\site-packages\\xgboost\\sklearn.py:889: UserWarning: `eval_metric` in `fit` method is deprecated for better compatibility with scikit-learn, use `eval_metric` in constructor or`set_params` instead.\n",
      "  warnings.warn(\n",
      "\n",
      "C:\\Users\\heroa\\AppData\\Local\\Packages\\PythonSoftwareFoundation.Python.3.11_qbz5n2kfra8p0\\LocalCache\\local-packages\\Python311\\site-packages\\xgboost\\sklearn.py:889: UserWarning: `early_stopping_rounds` in `fit` method is deprecated for better compatibility with scikit-learn, use `early_stopping_rounds` in constructor or`set_params` instead.\n",
      "  warnings.warn(\n",
      "\n"
     ]
    },
    {
     "name": "stdout",
     "output_type": "stream",
     "text": [
      "SCORE:                                                                             \n",
      "0.44438055410350236                                                                \n",
      " 13%|█▎        | 13/100 [00:45<05:04,  3.50s/trial, best loss: -0.4446941975953999]"
     ]
    },
    {
     "name": "stderr",
     "output_type": "stream",
     "text": [
      "C:\\Users\\heroa\\AppData\\Local\\Packages\\PythonSoftwareFoundation.Python.3.11_qbz5n2kfra8p0\\LocalCache\\local-packages\\Python311\\site-packages\\xgboost\\sklearn.py:889: UserWarning: `eval_metric` in `fit` method is deprecated for better compatibility with scikit-learn, use `eval_metric` in constructor or`set_params` instead.\n",
      "  warnings.warn(\n",
      "\n",
      "C:\\Users\\heroa\\AppData\\Local\\Packages\\PythonSoftwareFoundation.Python.3.11_qbz5n2kfra8p0\\LocalCache\\local-packages\\Python311\\site-packages\\xgboost\\sklearn.py:889: UserWarning: `early_stopping_rounds` in `fit` method is deprecated for better compatibility with scikit-learn, use `early_stopping_rounds` in constructor or`set_params` instead.\n",
      "  warnings.warn(\n",
      "\n"
     ]
    },
    {
     "name": "stdout",
     "output_type": "stream",
     "text": [
      "SCORE:                                                                             \n",
      "0.44385781495033977                                                                \n",
      " 14%|█▍        | 14/100 [00:48<04:57,  3.45s/trial, best loss: -0.4446941975953999]"
     ]
    },
    {
     "name": "stderr",
     "output_type": "stream",
     "text": [
      "C:\\Users\\heroa\\AppData\\Local\\Packages\\PythonSoftwareFoundation.Python.3.11_qbz5n2kfra8p0\\LocalCache\\local-packages\\Python311\\site-packages\\xgboost\\sklearn.py:889: UserWarning: `eval_metric` in `fit` method is deprecated for better compatibility with scikit-learn, use `eval_metric` in constructor or`set_params` instead.\n",
      "  warnings.warn(\n",
      "\n",
      "C:\\Users\\heroa\\AppData\\Local\\Packages\\PythonSoftwareFoundation.Python.3.11_qbz5n2kfra8p0\\LocalCache\\local-packages\\Python311\\site-packages\\xgboost\\sklearn.py:889: UserWarning: `early_stopping_rounds` in `fit` method is deprecated for better compatibility with scikit-learn, use `early_stopping_rounds` in constructor or`set_params` instead.\n",
      "  warnings.warn(\n",
      "\n"
     ]
    },
    {
     "name": "stdout",
     "output_type": "stream",
     "text": [
      "SCORE:                                                                             \n",
      "0.44411918452692106                                                                \n",
      " 15%|█▌        | 15/100 [00:52<04:56,  3.48s/trial, best loss: -0.4446941975953999]"
     ]
    },
    {
     "name": "stderr",
     "output_type": "stream",
     "text": [
      "C:\\Users\\heroa\\AppData\\Local\\Packages\\PythonSoftwareFoundation.Python.3.11_qbz5n2kfra8p0\\LocalCache\\local-packages\\Python311\\site-packages\\xgboost\\sklearn.py:889: UserWarning: `eval_metric` in `fit` method is deprecated for better compatibility with scikit-learn, use `eval_metric` in constructor or`set_params` instead.\n",
      "  warnings.warn(\n",
      "\n",
      "C:\\Users\\heroa\\AppData\\Local\\Packages\\PythonSoftwareFoundation.Python.3.11_qbz5n2kfra8p0\\LocalCache\\local-packages\\Python311\\site-packages\\xgboost\\sklearn.py:889: UserWarning: `early_stopping_rounds` in `fit` method is deprecated for better compatibility with scikit-learn, use `early_stopping_rounds` in constructor or`set_params` instead.\n",
      "  warnings.warn(\n",
      "\n"
     ]
    },
    {
     "name": "stdout",
     "output_type": "stream",
     "text": [
      "SCORE:                                                                             \n",
      "0.442080501829587                                                                  \n",
      " 16%|█▌        | 16/100 [00:55<04:50,  3.46s/trial, best loss: -0.4446941975953999]"
     ]
    },
    {
     "name": "stderr",
     "output_type": "stream",
     "text": [
      "C:\\Users\\heroa\\AppData\\Local\\Packages\\PythonSoftwareFoundation.Python.3.11_qbz5n2kfra8p0\\LocalCache\\local-packages\\Python311\\site-packages\\xgboost\\sklearn.py:889: UserWarning: `eval_metric` in `fit` method is deprecated for better compatibility with scikit-learn, use `eval_metric` in constructor or`set_params` instead.\n",
      "  warnings.warn(\n",
      "\n",
      "C:\\Users\\heroa\\AppData\\Local\\Packages\\PythonSoftwareFoundation.Python.3.11_qbz5n2kfra8p0\\LocalCache\\local-packages\\Python311\\site-packages\\xgboost\\sklearn.py:889: UserWarning: `early_stopping_rounds` in `fit` method is deprecated for better compatibility with scikit-learn, use `early_stopping_rounds` in constructor or`set_params` instead.\n",
      "  warnings.warn(\n",
      "\n"
     ]
    },
    {
     "name": "stdout",
     "output_type": "stream",
     "text": [
      "SCORE:                                                                             \n",
      "0.4432305279665447                                                                 \n",
      " 17%|█▋        | 17/100 [00:59<04:44,  3.43s/trial, best loss: -0.4446941975953999]"
     ]
    },
    {
     "name": "stderr",
     "output_type": "stream",
     "text": [
      "C:\\Users\\heroa\\AppData\\Local\\Packages\\PythonSoftwareFoundation.Python.3.11_qbz5n2kfra8p0\\LocalCache\\local-packages\\Python311\\site-packages\\xgboost\\sklearn.py:889: UserWarning: `eval_metric` in `fit` method is deprecated for better compatibility with scikit-learn, use `eval_metric` in constructor or`set_params` instead.\n",
      "  warnings.warn(\n",
      "\n",
      "C:\\Users\\heroa\\AppData\\Local\\Packages\\PythonSoftwareFoundation.Python.3.11_qbz5n2kfra8p0\\LocalCache\\local-packages\\Python311\\site-packages\\xgboost\\sklearn.py:889: UserWarning: `early_stopping_rounds` in `fit` method is deprecated for better compatibility with scikit-learn, use `early_stopping_rounds` in constructor or`set_params` instead.\n",
      "  warnings.warn(\n",
      "\n"
     ]
    },
    {
     "name": "stdout",
     "output_type": "stream",
     "text": [
      "SCORE:                                                                             \n",
      "0.4427600627286984                                                                 \n",
      " 18%|█▊        | 18/100 [01:02<04:39,  3.41s/trial, best loss: -0.4446941975953999]"
     ]
    },
    {
     "name": "stderr",
     "output_type": "stream",
     "text": [
      "C:\\Users\\heroa\\AppData\\Local\\Packages\\PythonSoftwareFoundation.Python.3.11_qbz5n2kfra8p0\\LocalCache\\local-packages\\Python311\\site-packages\\xgboost\\sklearn.py:889: UserWarning: `eval_metric` in `fit` method is deprecated for better compatibility with scikit-learn, use `eval_metric` in constructor or`set_params` instead.\n",
      "  warnings.warn(\n",
      "\n",
      "C:\\Users\\heroa\\AppData\\Local\\Packages\\PythonSoftwareFoundation.Python.3.11_qbz5n2kfra8p0\\LocalCache\\local-packages\\Python311\\site-packages\\xgboost\\sklearn.py:889: UserWarning: `early_stopping_rounds` in `fit` method is deprecated for better compatibility with scikit-learn, use `early_stopping_rounds` in constructor or`set_params` instead.\n",
      "  warnings.warn(\n",
      "\n"
     ]
    },
    {
     "name": "stdout",
     "output_type": "stream",
     "text": [
      "SCORE:                                                                             \n",
      "0.4442237323575536                                                                 \n",
      " 19%|█▉        | 19/100 [01:05<04:34,  3.39s/trial, best loss: -0.4446941975953999]"
     ]
    },
    {
     "name": "stderr",
     "output_type": "stream",
     "text": [
      "C:\\Users\\heroa\\AppData\\Local\\Packages\\PythonSoftwareFoundation.Python.3.11_qbz5n2kfra8p0\\LocalCache\\local-packages\\Python311\\site-packages\\xgboost\\sklearn.py:889: UserWarning: `eval_metric` in `fit` method is deprecated for better compatibility with scikit-learn, use `eval_metric` in constructor or`set_params` instead.\n",
      "  warnings.warn(\n",
      "\n",
      "C:\\Users\\heroa\\AppData\\Local\\Packages\\PythonSoftwareFoundation.Python.3.11_qbz5n2kfra8p0\\LocalCache\\local-packages\\Python311\\site-packages\\xgboost\\sklearn.py:889: UserWarning: `early_stopping_rounds` in `fit` method is deprecated for better compatibility with scikit-learn, use `early_stopping_rounds` in constructor or`set_params` instead.\n",
      "  warnings.warn(\n",
      "\n"
     ]
    },
    {
     "name": "stdout",
     "output_type": "stream",
     "text": [
      "SCORE:                                                                             \n",
      "0.44349189754312596                                                                \n",
      " 20%|██        | 20/100 [01:09<04:35,  3.44s/trial, best loss: -0.4446941975953999]"
     ]
    },
    {
     "name": "stderr",
     "output_type": "stream",
     "text": [
      "C:\\Users\\heroa\\AppData\\Local\\Packages\\PythonSoftwareFoundation.Python.3.11_qbz5n2kfra8p0\\LocalCache\\local-packages\\Python311\\site-packages\\xgboost\\sklearn.py:889: UserWarning: `eval_metric` in `fit` method is deprecated for better compatibility with scikit-learn, use `eval_metric` in constructor or`set_params` instead.\n",
      "  warnings.warn(\n",
      "\n",
      "C:\\Users\\heroa\\AppData\\Local\\Packages\\PythonSoftwareFoundation.Python.3.11_qbz5n2kfra8p0\\LocalCache\\local-packages\\Python311\\site-packages\\xgboost\\sklearn.py:889: UserWarning: `early_stopping_rounds` in `fit` method is deprecated for better compatibility with scikit-learn, use `early_stopping_rounds` in constructor or`set_params` instead.\n",
      "  warnings.warn(\n",
      "\n"
     ]
    },
    {
     "name": "stdout",
     "output_type": "stream",
     "text": [
      "SCORE:                                                                             \n",
      "0.4447987454260324                                                                 \n",
      " 21%|██        | 21/100 [01:13<04:36,  3.50s/trial, best loss: -0.4447987454260324]"
     ]
    },
    {
     "name": "stderr",
     "output_type": "stream",
     "text": [
      "C:\\Users\\heroa\\AppData\\Local\\Packages\\PythonSoftwareFoundation.Python.3.11_qbz5n2kfra8p0\\LocalCache\\local-packages\\Python311\\site-packages\\xgboost\\sklearn.py:889: UserWarning: `eval_metric` in `fit` method is deprecated for better compatibility with scikit-learn, use `eval_metric` in constructor or`set_params` instead.\n",
      "  warnings.warn(\n",
      "\n",
      "C:\\Users\\heroa\\AppData\\Local\\Packages\\PythonSoftwareFoundation.Python.3.11_qbz5n2kfra8p0\\LocalCache\\local-packages\\Python311\\site-packages\\xgboost\\sklearn.py:889: UserWarning: `early_stopping_rounds` in `fit` method is deprecated for better compatibility with scikit-learn, use `early_stopping_rounds` in constructor or`set_params` instead.\n",
      "  warnings.warn(\n",
      "\n"
     ]
    },
    {
     "name": "stdout",
     "output_type": "stream",
     "text": [
      "SCORE:                                                                             \n",
      "0.44474647151071617                                                                \n",
      " 22%|██▏       | 22/100 [01:16<04:38,  3.57s/trial, best loss: -0.4447987454260324]"
     ]
    },
    {
     "name": "stderr",
     "output_type": "stream",
     "text": [
      "C:\\Users\\heroa\\AppData\\Local\\Packages\\PythonSoftwareFoundation.Python.3.11_qbz5n2kfra8p0\\LocalCache\\local-packages\\Python311\\site-packages\\xgboost\\sklearn.py:889: UserWarning: `eval_metric` in `fit` method is deprecated for better compatibility with scikit-learn, use `eval_metric` in constructor or`set_params` instead.\n",
      "  warnings.warn(\n",
      "\n",
      "C:\\Users\\heroa\\AppData\\Local\\Packages\\PythonSoftwareFoundation.Python.3.11_qbz5n2kfra8p0\\LocalCache\\local-packages\\Python311\\site-packages\\xgboost\\sklearn.py:889: UserWarning: `early_stopping_rounds` in `fit` method is deprecated for better compatibility with scikit-learn, use `early_stopping_rounds` in constructor or`set_params` instead.\n",
      "  warnings.warn(\n",
      "\n"
     ]
    },
    {
     "name": "stdout",
     "output_type": "stream",
     "text": [
      "SCORE:                                                                             \n",
      "0.4444851019341349                                                                 \n",
      " 23%|██▎       | 23/100 [01:20<04:36,  3.60s/trial, best loss: -0.4447987454260324]"
     ]
    },
    {
     "name": "stderr",
     "output_type": "stream",
     "text": [
      "C:\\Users\\heroa\\AppData\\Local\\Packages\\PythonSoftwareFoundation.Python.3.11_qbz5n2kfra8p0\\LocalCache\\local-packages\\Python311\\site-packages\\xgboost\\sklearn.py:889: UserWarning: `eval_metric` in `fit` method is deprecated for better compatibility with scikit-learn, use `eval_metric` in constructor or`set_params` instead.\n",
      "  warnings.warn(\n",
      "\n",
      "C:\\Users\\heroa\\AppData\\Local\\Packages\\PythonSoftwareFoundation.Python.3.11_qbz5n2kfra8p0\\LocalCache\\local-packages\\Python311\\site-packages\\xgboost\\sklearn.py:889: UserWarning: `early_stopping_rounds` in `fit` method is deprecated for better compatibility with scikit-learn, use `early_stopping_rounds` in constructor or`set_params` instead.\n",
      "  warnings.warn(\n",
      "\n"
     ]
    },
    {
     "name": "stdout",
     "output_type": "stream",
     "text": [
      "SCORE:                                                                             \n",
      "0.4438055410350235                                                                 \n",
      " 24%|██▍       | 24/100 [01:24<04:35,  3.62s/trial, best loss: -0.4447987454260324]"
     ]
    },
    {
     "name": "stderr",
     "output_type": "stream",
     "text": [
      "C:\\Users\\heroa\\AppData\\Local\\Packages\\PythonSoftwareFoundation.Python.3.11_qbz5n2kfra8p0\\LocalCache\\local-packages\\Python311\\site-packages\\xgboost\\sklearn.py:889: UserWarning: `eval_metric` in `fit` method is deprecated for better compatibility with scikit-learn, use `eval_metric` in constructor or`set_params` instead.\n",
      "  warnings.warn(\n",
      "\n",
      "C:\\Users\\heroa\\AppData\\Local\\Packages\\PythonSoftwareFoundation.Python.3.11_qbz5n2kfra8p0\\LocalCache\\local-packages\\Python311\\site-packages\\xgboost\\sklearn.py:889: UserWarning: `early_stopping_rounds` in `fit` method is deprecated for better compatibility with scikit-learn, use `early_stopping_rounds` in constructor or`set_params` instead.\n",
      "  warnings.warn(\n",
      "\n"
     ]
    },
    {
     "name": "stdout",
     "output_type": "stream",
     "text": [
      "SCORE:                                                                             \n",
      "0.44464192368008365                                                                \n",
      " 25%|██▌       | 25/100 [01:27<04:31,  3.62s/trial, best loss: -0.4447987454260324]"
     ]
    },
    {
     "name": "stderr",
     "output_type": "stream",
     "text": [
      "C:\\Users\\heroa\\AppData\\Local\\Packages\\PythonSoftwareFoundation.Python.3.11_qbz5n2kfra8p0\\LocalCache\\local-packages\\Python311\\site-packages\\xgboost\\sklearn.py:889: UserWarning: `eval_metric` in `fit` method is deprecated for better compatibility with scikit-learn, use `eval_metric` in constructor or`set_params` instead.\n",
      "  warnings.warn(\n",
      "\n",
      "C:\\Users\\heroa\\AppData\\Local\\Packages\\PythonSoftwareFoundation.Python.3.11_qbz5n2kfra8p0\\LocalCache\\local-packages\\Python311\\site-packages\\xgboost\\sklearn.py:889: UserWarning: `early_stopping_rounds` in `fit` method is deprecated for better compatibility with scikit-learn, use `early_stopping_rounds` in constructor or`set_params` instead.\n",
      "  warnings.warn(\n",
      "\n"
     ]
    },
    {
     "name": "stdout",
     "output_type": "stream",
     "text": [
      "SCORE:                                                                             \n",
      "0.4450601150026137                                                                 \n",
      " 26%|██▌       | 26/100 [01:31<04:29,  3.64s/trial, best loss: -0.4450601150026137]"
     ]
    },
    {
     "name": "stderr",
     "output_type": "stream",
     "text": [
      "C:\\Users\\heroa\\AppData\\Local\\Packages\\PythonSoftwareFoundation.Python.3.11_qbz5n2kfra8p0\\LocalCache\\local-packages\\Python311\\site-packages\\xgboost\\sklearn.py:889: UserWarning: `eval_metric` in `fit` method is deprecated for better compatibility with scikit-learn, use `eval_metric` in constructor or`set_params` instead.\n",
      "  warnings.warn(\n",
      "\n",
      "C:\\Users\\heroa\\AppData\\Local\\Packages\\PythonSoftwareFoundation.Python.3.11_qbz5n2kfra8p0\\LocalCache\\local-packages\\Python311\\site-packages\\xgboost\\sklearn.py:889: UserWarning: `early_stopping_rounds` in `fit` method is deprecated for better compatibility with scikit-learn, use `early_stopping_rounds` in constructor or`set_params` instead.\n",
      "  warnings.warn(\n",
      "\n"
     ]
    },
    {
     "name": "stdout",
     "output_type": "stream",
     "text": [
      "SCORE:                                                                             \n",
      "0.44500784108729746                                                                \n",
      " 27%|██▋       | 27/100 [01:35<04:28,  3.68s/trial, best loss: -0.4450601150026137]"
     ]
    },
    {
     "name": "stderr",
     "output_type": "stream",
     "text": [
      "C:\\Users\\heroa\\AppData\\Local\\Packages\\PythonSoftwareFoundation.Python.3.11_qbz5n2kfra8p0\\LocalCache\\local-packages\\Python311\\site-packages\\xgboost\\sklearn.py:889: UserWarning: `eval_metric` in `fit` method is deprecated for better compatibility with scikit-learn, use `eval_metric` in constructor or`set_params` instead.\n",
      "  warnings.warn(\n",
      "\n",
      "C:\\Users\\heroa\\AppData\\Local\\Packages\\PythonSoftwareFoundation.Python.3.11_qbz5n2kfra8p0\\LocalCache\\local-packages\\Python311\\site-packages\\xgboost\\sklearn.py:889: UserWarning: `early_stopping_rounds` in `fit` method is deprecated for better compatibility with scikit-learn, use `early_stopping_rounds` in constructor or`set_params` instead.\n",
      "  warnings.warn(\n",
      "\n"
     ]
    },
    {
     "name": "stdout",
     "output_type": "stream",
     "text": [
      "SCORE:                                                                             \n",
      "0.44511238891793                                                                   \n",
      " 28%|██▊       | 28/100 [01:38<04:24,  3.67s/trial, best loss: -0.44511238891793]  "
     ]
    },
    {
     "name": "stderr",
     "output_type": "stream",
     "text": [
      "C:\\Users\\heroa\\AppData\\Local\\Packages\\PythonSoftwareFoundation.Python.3.11_qbz5n2kfra8p0\\LocalCache\\local-packages\\Python311\\site-packages\\xgboost\\sklearn.py:889: UserWarning: `eval_metric` in `fit` method is deprecated for better compatibility with scikit-learn, use `eval_metric` in constructor or`set_params` instead.\n",
      "  warnings.warn(\n",
      "\n",
      "C:\\Users\\heroa\\AppData\\Local\\Packages\\PythonSoftwareFoundation.Python.3.11_qbz5n2kfra8p0\\LocalCache\\local-packages\\Python311\\site-packages\\xgboost\\sklearn.py:889: UserWarning: `early_stopping_rounds` in `fit` method is deprecated for better compatibility with scikit-learn, use `early_stopping_rounds` in constructor or`set_params` instead.\n",
      "  warnings.warn(\n",
      "\n"
     ]
    },
    {
     "name": "stdout",
     "output_type": "stream",
     "text": [
      "SCORE:                                                                           \n",
      "0.4447987454260324                                                               \n",
      " 29%|██▉       | 29/100 [01:42<04:19,  3.65s/trial, best loss: -0.44511238891793]"
     ]
    },
    {
     "name": "stderr",
     "output_type": "stream",
     "text": [
      "C:\\Users\\heroa\\AppData\\Local\\Packages\\PythonSoftwareFoundation.Python.3.11_qbz5n2kfra8p0\\LocalCache\\local-packages\\Python311\\site-packages\\xgboost\\sklearn.py:889: UserWarning: `eval_metric` in `fit` method is deprecated for better compatibility with scikit-learn, use `eval_metric` in constructor or`set_params` instead.\n",
      "  warnings.warn(\n",
      "\n",
      "C:\\Users\\heroa\\AppData\\Local\\Packages\\PythonSoftwareFoundation.Python.3.11_qbz5n2kfra8p0\\LocalCache\\local-packages\\Python311\\site-packages\\xgboost\\sklearn.py:889: UserWarning: `early_stopping_rounds` in `fit` method is deprecated for better compatibility with scikit-learn, use `early_stopping_rounds` in constructor or`set_params` instead.\n",
      "  warnings.warn(\n",
      "\n"
     ]
    },
    {
     "name": "stdout",
     "output_type": "stream",
     "text": [
      "SCORE:                                                                           \n",
      "0.4451646628332462                                                               \n",
      " 30%|███       | 30/100 [01:46<04:15,  3.65s/trial, best loss: -0.4451646628332462]"
     ]
    },
    {
     "name": "stderr",
     "output_type": "stream",
     "text": [
      "C:\\Users\\heroa\\AppData\\Local\\Packages\\PythonSoftwareFoundation.Python.3.11_qbz5n2kfra8p0\\LocalCache\\local-packages\\Python311\\site-packages\\xgboost\\sklearn.py:889: UserWarning: `eval_metric` in `fit` method is deprecated for better compatibility with scikit-learn, use `eval_metric` in constructor or`set_params` instead.\n",
      "  warnings.warn(\n",
      "\n",
      "C:\\Users\\heroa\\AppData\\Local\\Packages\\PythonSoftwareFoundation.Python.3.11_qbz5n2kfra8p0\\LocalCache\\local-packages\\Python311\\site-packages\\xgboost\\sklearn.py:889: UserWarning: `early_stopping_rounds` in `fit` method is deprecated for better compatibility with scikit-learn, use `early_stopping_rounds` in constructor or`set_params` instead.\n",
      "  warnings.warn(\n",
      "\n"
     ]
    },
    {
     "name": "stdout",
     "output_type": "stream",
     "text": [
      "SCORE:                                                                             \n",
      "0.4446941975953999                                                                 \n",
      " 31%|███       | 31/100 [01:49<04:11,  3.64s/trial, best loss: -0.4451646628332462]"
     ]
    },
    {
     "name": "stderr",
     "output_type": "stream",
     "text": [
      "C:\\Users\\heroa\\AppData\\Local\\Packages\\PythonSoftwareFoundation.Python.3.11_qbz5n2kfra8p0\\LocalCache\\local-packages\\Python311\\site-packages\\xgboost\\sklearn.py:889: UserWarning: `eval_metric` in `fit` method is deprecated for better compatibility with scikit-learn, use `eval_metric` in constructor or`set_params` instead.\n",
      "  warnings.warn(\n",
      "\n",
      "C:\\Users\\heroa\\AppData\\Local\\Packages\\PythonSoftwareFoundation.Python.3.11_qbz5n2kfra8p0\\LocalCache\\local-packages\\Python311\\site-packages\\xgboost\\sklearn.py:889: UserWarning: `early_stopping_rounds` in `fit` method is deprecated for better compatibility with scikit-learn, use `early_stopping_rounds` in constructor or`set_params` instead.\n",
      "  warnings.warn(\n",
      "\n"
     ]
    },
    {
     "name": "stdout",
     "output_type": "stream",
     "text": [
      "SCORE:                                                                             \n",
      "0.44401463669628854                                                                \n",
      " 32%|███▏      | 32/100 [01:53<04:06,  3.63s/trial, best loss: -0.4451646628332462]"
     ]
    },
    {
     "name": "stderr",
     "output_type": "stream",
     "text": [
      "C:\\Users\\heroa\\AppData\\Local\\Packages\\PythonSoftwareFoundation.Python.3.11_qbz5n2kfra8p0\\LocalCache\\local-packages\\Python311\\site-packages\\xgboost\\sklearn.py:889: UserWarning: `eval_metric` in `fit` method is deprecated for better compatibility with scikit-learn, use `eval_metric` in constructor or`set_params` instead.\n",
      "  warnings.warn(\n",
      "\n",
      "C:\\Users\\heroa\\AppData\\Local\\Packages\\PythonSoftwareFoundation.Python.3.11_qbz5n2kfra8p0\\LocalCache\\local-packages\\Python311\\site-packages\\xgboost\\sklearn.py:889: UserWarning: `early_stopping_rounds` in `fit` method is deprecated for better compatibility with scikit-learn, use `early_stopping_rounds` in constructor or`set_params` instead.\n",
      "  warnings.warn(\n",
      "\n"
     ]
    },
    {
     "name": "stdout",
     "output_type": "stream",
     "text": [
      "SCORE:                                                                             \n",
      "0.4448510193413487                                                                 \n",
      " 33%|███▎      | 33/100 [01:57<04:04,  3.65s/trial, best loss: -0.4451646628332462]"
     ]
    },
    {
     "name": "stderr",
     "output_type": "stream",
     "text": [
      "C:\\Users\\heroa\\AppData\\Local\\Packages\\PythonSoftwareFoundation.Python.3.11_qbz5n2kfra8p0\\LocalCache\\local-packages\\Python311\\site-packages\\xgboost\\sklearn.py:889: UserWarning: `eval_metric` in `fit` method is deprecated for better compatibility with scikit-learn, use `eval_metric` in constructor or`set_params` instead.\n",
      "  warnings.warn(\n",
      "\n",
      "C:\\Users\\heroa\\AppData\\Local\\Packages\\PythonSoftwareFoundation.Python.3.11_qbz5n2kfra8p0\\LocalCache\\local-packages\\Python311\\site-packages\\xgboost\\sklearn.py:889: UserWarning: `early_stopping_rounds` in `fit` method is deprecated for better compatibility with scikit-learn, use `early_stopping_rounds` in constructor or`set_params` instead.\n",
      "  warnings.warn(\n",
      "\n"
     ]
    },
    {
     "name": "stdout",
     "output_type": "stream",
     "text": [
      "SCORE:                                                                             \n",
      "0.443910088865656                                                                  \n",
      " 34%|███▍      | 34/100 [02:00<04:00,  3.64s/trial, best loss: -0.4451646628332462]"
     ]
    },
    {
     "name": "stderr",
     "output_type": "stream",
     "text": [
      "C:\\Users\\heroa\\AppData\\Local\\Packages\\PythonSoftwareFoundation.Python.3.11_qbz5n2kfra8p0\\LocalCache\\local-packages\\Python311\\site-packages\\xgboost\\sklearn.py:889: UserWarning: `eval_metric` in `fit` method is deprecated for better compatibility with scikit-learn, use `eval_metric` in constructor or`set_params` instead.\n",
      "  warnings.warn(\n",
      "\n",
      "C:\\Users\\heroa\\AppData\\Local\\Packages\\PythonSoftwareFoundation.Python.3.11_qbz5n2kfra8p0\\LocalCache\\local-packages\\Python311\\site-packages\\xgboost\\sklearn.py:889: UserWarning: `early_stopping_rounds` in `fit` method is deprecated for better compatibility with scikit-learn, use `early_stopping_rounds` in constructor or`set_params` instead.\n",
      "  warnings.warn(\n",
      "\n"
     ]
    },
    {
     "name": "stdout",
     "output_type": "stream",
     "text": [
      "SCORE:                                                                             \n",
      "0.44270778881338213                                                                \n",
      " 35%|███▌      | 35/100 [02:04<03:51,  3.56s/trial, best loss: -0.4451646628332462]"
     ]
    },
    {
     "name": "stderr",
     "output_type": "stream",
     "text": [
      "C:\\Users\\heroa\\AppData\\Local\\Packages\\PythonSoftwareFoundation.Python.3.11_qbz5n2kfra8p0\\LocalCache\\local-packages\\Python311\\site-packages\\xgboost\\sklearn.py:889: UserWarning: `eval_metric` in `fit` method is deprecated for better compatibility with scikit-learn, use `eval_metric` in constructor or`set_params` instead.\n",
      "  warnings.warn(\n",
      "\n",
      "C:\\Users\\heroa\\AppData\\Local\\Packages\\PythonSoftwareFoundation.Python.3.11_qbz5n2kfra8p0\\LocalCache\\local-packages\\Python311\\site-packages\\xgboost\\sklearn.py:889: UserWarning: `early_stopping_rounds` in `fit` method is deprecated for better compatibility with scikit-learn, use `early_stopping_rounds` in constructor or`set_params` instead.\n",
      "  warnings.warn(\n",
      "\n"
     ]
    },
    {
     "name": "stdout",
     "output_type": "stream",
     "text": [
      "SCORE:                                                                             \n",
      "0.4438055410350235                                                                 \n",
      " 36%|███▌      | 36/100 [02:07<03:48,  3.57s/trial, best loss: -0.4451646628332462]"
     ]
    },
    {
     "name": "stderr",
     "output_type": "stream",
     "text": [
      "C:\\Users\\heroa\\AppData\\Local\\Packages\\PythonSoftwareFoundation.Python.3.11_qbz5n2kfra8p0\\LocalCache\\local-packages\\Python311\\site-packages\\xgboost\\sklearn.py:889: UserWarning: `eval_metric` in `fit` method is deprecated for better compatibility with scikit-learn, use `eval_metric` in constructor or`set_params` instead.\n",
      "  warnings.warn(\n",
      "\n",
      "C:\\Users\\heroa\\AppData\\Local\\Packages\\PythonSoftwareFoundation.Python.3.11_qbz5n2kfra8p0\\LocalCache\\local-packages\\Python311\\site-packages\\xgboost\\sklearn.py:889: UserWarning: `early_stopping_rounds` in `fit` method is deprecated for better compatibility with scikit-learn, use `early_stopping_rounds` in constructor or`set_params` instead.\n",
      "  warnings.warn(\n",
      "\n"
     ]
    },
    {
     "name": "stdout",
     "output_type": "stream",
     "text": [
      "SCORE:                                                                             \n",
      "0.4444851019341349                                                                 \n",
      " 37%|███▋      | 37/100 [02:11<03:45,  3.58s/trial, best loss: -0.4451646628332462]"
     ]
    },
    {
     "name": "stderr",
     "output_type": "stream",
     "text": [
      "C:\\Users\\heroa\\AppData\\Local\\Packages\\PythonSoftwareFoundation.Python.3.11_qbz5n2kfra8p0\\LocalCache\\local-packages\\Python311\\site-packages\\xgboost\\sklearn.py:889: UserWarning: `eval_metric` in `fit` method is deprecated for better compatibility with scikit-learn, use `eval_metric` in constructor or`set_params` instead.\n",
      "  warnings.warn(\n",
      "\n",
      "C:\\Users\\heroa\\AppData\\Local\\Packages\\PythonSoftwareFoundation.Python.3.11_qbz5n2kfra8p0\\LocalCache\\local-packages\\Python311\\site-packages\\xgboost\\sklearn.py:889: UserWarning: `early_stopping_rounds` in `fit` method is deprecated for better compatibility with scikit-learn, use `early_stopping_rounds` in constructor or`set_params` instead.\n",
      "  warnings.warn(\n",
      "\n"
     ]
    },
    {
     "name": "stdout",
     "output_type": "stream",
     "text": [
      "SCORE:                                                                             \n",
      "0.4445896497647674                                                                 \n",
      " 38%|███▊      | 38/100 [02:14<03:43,  3.60s/trial, best loss: -0.4451646628332462]"
     ]
    },
    {
     "name": "stderr",
     "output_type": "stream",
     "text": [
      "C:\\Users\\heroa\\AppData\\Local\\Packages\\PythonSoftwareFoundation.Python.3.11_qbz5n2kfra8p0\\LocalCache\\local-packages\\Python311\\site-packages\\xgboost\\sklearn.py:889: UserWarning: `eval_metric` in `fit` method is deprecated for better compatibility with scikit-learn, use `eval_metric` in constructor or`set_params` instead.\n",
      "  warnings.warn(\n",
      "\n",
      "C:\\Users\\heroa\\AppData\\Local\\Packages\\PythonSoftwareFoundation.Python.3.11_qbz5n2kfra8p0\\LocalCache\\local-packages\\Python311\\site-packages\\xgboost\\sklearn.py:889: UserWarning: `early_stopping_rounds` in `fit` method is deprecated for better compatibility with scikit-learn, use `early_stopping_rounds` in constructor or`set_params` instead.\n",
      "  warnings.warn(\n",
      "\n"
     ]
    },
    {
     "name": "stdout",
     "output_type": "stream",
     "text": [
      "SCORE:                                                                             \n",
      "0.4446941975953999                                                                 \n",
      " 39%|███▉      | 39/100 [02:18<03:41,  3.63s/trial, best loss: -0.4451646628332462]"
     ]
    },
    {
     "name": "stderr",
     "output_type": "stream",
     "text": [
      "C:\\Users\\heroa\\AppData\\Local\\Packages\\PythonSoftwareFoundation.Python.3.11_qbz5n2kfra8p0\\LocalCache\\local-packages\\Python311\\site-packages\\xgboost\\sklearn.py:889: UserWarning: `eval_metric` in `fit` method is deprecated for better compatibility with scikit-learn, use `eval_metric` in constructor or`set_params` instead.\n",
      "  warnings.warn(\n",
      "\n",
      "C:\\Users\\heroa\\AppData\\Local\\Packages\\PythonSoftwareFoundation.Python.3.11_qbz5n2kfra8p0\\LocalCache\\local-packages\\Python311\\site-packages\\xgboost\\sklearn.py:889: UserWarning: `early_stopping_rounds` in `fit` method is deprecated for better compatibility with scikit-learn, use `early_stopping_rounds` in constructor or`set_params` instead.\n",
      "  warnings.warn(\n",
      "\n"
     ]
    },
    {
     "name": "stdout",
     "output_type": "stream",
     "text": [
      "SCORE:                                                                             \n",
      "0.44474647151071617                                                                \n",
      " 40%|████      | 40/100 [02:22<03:36,  3.61s/trial, best loss: -0.4451646628332462]"
     ]
    },
    {
     "name": "stderr",
     "output_type": "stream",
     "text": [
      "C:\\Users\\heroa\\AppData\\Local\\Packages\\PythonSoftwareFoundation.Python.3.11_qbz5n2kfra8p0\\LocalCache\\local-packages\\Python311\\site-packages\\xgboost\\sklearn.py:889: UserWarning: `eval_metric` in `fit` method is deprecated for better compatibility with scikit-learn, use `eval_metric` in constructor or`set_params` instead.\n",
      "  warnings.warn(\n",
      "\n",
      "C:\\Users\\heroa\\AppData\\Local\\Packages\\PythonSoftwareFoundation.Python.3.11_qbz5n2kfra8p0\\LocalCache\\local-packages\\Python311\\site-packages\\xgboost\\sklearn.py:889: UserWarning: `early_stopping_rounds` in `fit` method is deprecated for better compatibility with scikit-learn, use `early_stopping_rounds` in constructor or`set_params` instead.\n",
      "  warnings.warn(\n",
      "\n"
     ]
    },
    {
     "name": "stdout",
     "output_type": "stream",
     "text": [
      "SCORE:                                                                             \n",
      "0.4430214323052797                                                                 \n",
      " 41%|████      | 41/100 [02:25<03:33,  3.61s/trial, best loss: -0.4451646628332462]"
     ]
    },
    {
     "name": "stderr",
     "output_type": "stream",
     "text": [
      "C:\\Users\\heroa\\AppData\\Local\\Packages\\PythonSoftwareFoundation.Python.3.11_qbz5n2kfra8p0\\LocalCache\\local-packages\\Python311\\site-packages\\xgboost\\sklearn.py:889: UserWarning: `eval_metric` in `fit` method is deprecated for better compatibility with scikit-learn, use `eval_metric` in constructor or`set_params` instead.\n",
      "  warnings.warn(\n",
      "\n",
      "C:\\Users\\heroa\\AppData\\Local\\Packages\\PythonSoftwareFoundation.Python.3.11_qbz5n2kfra8p0\\LocalCache\\local-packages\\Python311\\site-packages\\xgboost\\sklearn.py:889: UserWarning: `early_stopping_rounds` in `fit` method is deprecated for better compatibility with scikit-learn, use `early_stopping_rounds` in constructor or`set_params` instead.\n",
      "  warnings.warn(\n",
      "\n"
     ]
    },
    {
     "name": "stdout",
     "output_type": "stream",
     "text": [
      "SCORE:                                                                             \n",
      "0.4439623627809723                                                                 \n",
      " 42%|████▏     | 42/100 [02:29<03:29,  3.61s/trial, best loss: -0.4451646628332462]"
     ]
    },
    {
     "name": "stderr",
     "output_type": "stream",
     "text": [
      "C:\\Users\\heroa\\AppData\\Local\\Packages\\PythonSoftwareFoundation.Python.3.11_qbz5n2kfra8p0\\LocalCache\\local-packages\\Python311\\site-packages\\xgboost\\sklearn.py:889: UserWarning: `eval_metric` in `fit` method is deprecated for better compatibility with scikit-learn, use `eval_metric` in constructor or`set_params` instead.\n",
      "  warnings.warn(\n",
      "\n",
      "C:\\Users\\heroa\\AppData\\Local\\Packages\\PythonSoftwareFoundation.Python.3.11_qbz5n2kfra8p0\\LocalCache\\local-packages\\Python311\\site-packages\\xgboost\\sklearn.py:889: UserWarning: `early_stopping_rounds` in `fit` method is deprecated for better compatibility with scikit-learn, use `early_stopping_rounds` in constructor or`set_params` instead.\n",
      "  warnings.warn(\n",
      "\n"
     ]
    },
    {
     "name": "stdout",
     "output_type": "stream",
     "text": [
      "SCORE:                                                                             \n",
      "0.4440669106116048                                                                 \n",
      " 43%|████▎     | 43/100 [02:32<03:24,  3.59s/trial, best loss: -0.4451646628332462]"
     ]
    },
    {
     "name": "stderr",
     "output_type": "stream",
     "text": [
      "C:\\Users\\heroa\\AppData\\Local\\Packages\\PythonSoftwareFoundation.Python.3.11_qbz5n2kfra8p0\\LocalCache\\local-packages\\Python311\\site-packages\\xgboost\\sklearn.py:889: UserWarning: `eval_metric` in `fit` method is deprecated for better compatibility with scikit-learn, use `eval_metric` in constructor or`set_params` instead.\n",
      "  warnings.warn(\n",
      "\n",
      "C:\\Users\\heroa\\AppData\\Local\\Packages\\PythonSoftwareFoundation.Python.3.11_qbz5n2kfra8p0\\LocalCache\\local-packages\\Python311\\site-packages\\xgboost\\sklearn.py:889: UserWarning: `early_stopping_rounds` in `fit` method is deprecated for better compatibility with scikit-learn, use `early_stopping_rounds` in constructor or`set_params` instead.\n",
      "  warnings.warn(\n",
      "\n"
     ]
    },
    {
     "name": "stdout",
     "output_type": "stream",
     "text": [
      "SCORE:                                                                             \n",
      "0.44438055410350236                                                                \n",
      " 44%|████▍     | 44/100 [02:36<03:23,  3.63s/trial, best loss: -0.4451646628332462]"
     ]
    },
    {
     "name": "stderr",
     "output_type": "stream",
     "text": [
      "C:\\Users\\heroa\\AppData\\Local\\Packages\\PythonSoftwareFoundation.Python.3.11_qbz5n2kfra8p0\\LocalCache\\local-packages\\Python311\\site-packages\\xgboost\\sklearn.py:889: UserWarning: `eval_metric` in `fit` method is deprecated for better compatibility with scikit-learn, use `eval_metric` in constructor or`set_params` instead.\n",
      "  warnings.warn(\n",
      "\n",
      "C:\\Users\\heroa\\AppData\\Local\\Packages\\PythonSoftwareFoundation.Python.3.11_qbz5n2kfra8p0\\LocalCache\\local-packages\\Python311\\site-packages\\xgboost\\sklearn.py:889: UserWarning: `early_stopping_rounds` in `fit` method is deprecated for better compatibility with scikit-learn, use `early_stopping_rounds` in constructor or`set_params` instead.\n",
      "  warnings.warn(\n",
      "\n"
     ]
    },
    {
     "name": "stdout",
     "output_type": "stream",
     "text": [
      "SCORE:                                                                             \n",
      "0.4438055410350235                                                                 \n",
      " 45%|████▌     | 45/100 [02:40<03:19,  3.62s/trial, best loss: -0.4451646628332462]"
     ]
    },
    {
     "name": "stderr",
     "output_type": "stream",
     "text": [
      "C:\\Users\\heroa\\AppData\\Local\\Packages\\PythonSoftwareFoundation.Python.3.11_qbz5n2kfra8p0\\LocalCache\\local-packages\\Python311\\site-packages\\xgboost\\sklearn.py:889: UserWarning: `eval_metric` in `fit` method is deprecated for better compatibility with scikit-learn, use `eval_metric` in constructor or`set_params` instead.\n",
      "  warnings.warn(\n",
      "\n",
      "C:\\Users\\heroa\\AppData\\Local\\Packages\\PythonSoftwareFoundation.Python.3.11_qbz5n2kfra8p0\\LocalCache\\local-packages\\Python311\\site-packages\\xgboost\\sklearn.py:889: UserWarning: `early_stopping_rounds` in `fit` method is deprecated for better compatibility with scikit-learn, use `early_stopping_rounds` in constructor or`set_params` instead.\n",
      "  warnings.warn(\n",
      "\n"
     ]
    },
    {
     "name": "stdout",
     "output_type": "stream",
     "text": [
      "SCORE:                                                                             \n",
      "0.44375326711970725                                                                \n",
      " 46%|████▌     | 46/100 [02:43<03:14,  3.61s/trial, best loss: -0.4451646628332462]"
     ]
    },
    {
     "name": "stderr",
     "output_type": "stream",
     "text": [
      "C:\\Users\\heroa\\AppData\\Local\\Packages\\PythonSoftwareFoundation.Python.3.11_qbz5n2kfra8p0\\LocalCache\\local-packages\\Python311\\site-packages\\xgboost\\sklearn.py:889: UserWarning: `eval_metric` in `fit` method is deprecated for better compatibility with scikit-learn, use `eval_metric` in constructor or`set_params` instead.\n",
      "  warnings.warn(\n",
      "\n",
      "C:\\Users\\heroa\\AppData\\Local\\Packages\\PythonSoftwareFoundation.Python.3.11_qbz5n2kfra8p0\\LocalCache\\local-packages\\Python311\\site-packages\\xgboost\\sklearn.py:889: UserWarning: `early_stopping_rounds` in `fit` method is deprecated for better compatibility with scikit-learn, use `early_stopping_rounds` in constructor or`set_params` instead.\n",
      "  warnings.warn(\n",
      "\n"
     ]
    },
    {
     "name": "stdout",
     "output_type": "stream",
     "text": [
      "SCORE:                                                                             \n",
      "0.4444851019341349                                                                 \n",
      " 47%|████▋     | 47/100 [02:47<03:11,  3.61s/trial, best loss: -0.4451646628332462]"
     ]
    },
    {
     "name": "stderr",
     "output_type": "stream",
     "text": [
      "C:\\Users\\heroa\\AppData\\Local\\Packages\\PythonSoftwareFoundation.Python.3.11_qbz5n2kfra8p0\\LocalCache\\local-packages\\Python311\\site-packages\\xgboost\\sklearn.py:889: UserWarning: `eval_metric` in `fit` method is deprecated for better compatibility with scikit-learn, use `eval_metric` in constructor or`set_params` instead.\n",
      "  warnings.warn(\n",
      "\n",
      "C:\\Users\\heroa\\AppData\\Local\\Packages\\PythonSoftwareFoundation.Python.3.11_qbz5n2kfra8p0\\LocalCache\\local-packages\\Python311\\site-packages\\xgboost\\sklearn.py:889: UserWarning: `early_stopping_rounds` in `fit` method is deprecated for better compatibility with scikit-learn, use `early_stopping_rounds` in constructor or`set_params` instead.\n",
      "  warnings.warn(\n",
      "\n"
     ]
    },
    {
     "name": "stdout",
     "output_type": "stream",
     "text": [
      "SCORE:                                                                             \n",
      "0.4452692106638787                                                                 \n",
      " 48%|████▊     | 48/100 [02:51<03:08,  3.63s/trial, best loss: -0.4452692106638787]"
     ]
    },
    {
     "name": "stderr",
     "output_type": "stream",
     "text": [
      "C:\\Users\\heroa\\AppData\\Local\\Packages\\PythonSoftwareFoundation.Python.3.11_qbz5n2kfra8p0\\LocalCache\\local-packages\\Python311\\site-packages\\xgboost\\sklearn.py:889: UserWarning: `eval_metric` in `fit` method is deprecated for better compatibility with scikit-learn, use `eval_metric` in constructor or`set_params` instead.\n",
      "  warnings.warn(\n",
      "\n",
      "C:\\Users\\heroa\\AppData\\Local\\Packages\\PythonSoftwareFoundation.Python.3.11_qbz5n2kfra8p0\\LocalCache\\local-packages\\Python311\\site-packages\\xgboost\\sklearn.py:889: UserWarning: `early_stopping_rounds` in `fit` method is deprecated for better compatibility with scikit-learn, use `early_stopping_rounds` in constructor or`set_params` instead.\n",
      "  warnings.warn(\n",
      "\n"
     ]
    },
    {
     "name": "stdout",
     "output_type": "stream",
     "text": [
      "SCORE:                                                                             \n",
      "0.4440669106116048                                                                 \n",
      " 49%|████▉     | 49/100 [02:54<03:04,  3.63s/trial, best loss: -0.4452692106638787]"
     ]
    },
    {
     "name": "stderr",
     "output_type": "stream",
     "text": [
      "C:\\Users\\heroa\\AppData\\Local\\Packages\\PythonSoftwareFoundation.Python.3.11_qbz5n2kfra8p0\\LocalCache\\local-packages\\Python311\\site-packages\\xgboost\\sklearn.py:889: UserWarning: `eval_metric` in `fit` method is deprecated for better compatibility with scikit-learn, use `eval_metric` in constructor or`set_params` instead.\n",
      "  warnings.warn(\n",
      "\n",
      "C:\\Users\\heroa\\AppData\\Local\\Packages\\PythonSoftwareFoundation.Python.3.11_qbz5n2kfra8p0\\LocalCache\\local-packages\\Python311\\site-packages\\xgboost\\sklearn.py:889: UserWarning: `early_stopping_rounds` in `fit` method is deprecated for better compatibility with scikit-learn, use `early_stopping_rounds` in constructor or`set_params` instead.\n",
      "  warnings.warn(\n",
      "\n"
     ]
    },
    {
     "name": "stdout",
     "output_type": "stream",
     "text": [
      "SCORE:                                                                             \n",
      "0.44385781495033977                                                                \n",
      " 50%|█████     | 50/100 [02:58<02:59,  3.58s/trial, best loss: -0.4452692106638787]"
     ]
    },
    {
     "name": "stderr",
     "output_type": "stream",
     "text": [
      "C:\\Users\\heroa\\AppData\\Local\\Packages\\PythonSoftwareFoundation.Python.3.11_qbz5n2kfra8p0\\LocalCache\\local-packages\\Python311\\site-packages\\xgboost\\sklearn.py:889: UserWarning: `eval_metric` in `fit` method is deprecated for better compatibility with scikit-learn, use `eval_metric` in constructor or`set_params` instead.\n",
      "  warnings.warn(\n",
      "\n",
      "C:\\Users\\heroa\\AppData\\Local\\Packages\\PythonSoftwareFoundation.Python.3.11_qbz5n2kfra8p0\\LocalCache\\local-packages\\Python311\\site-packages\\xgboost\\sklearn.py:889: UserWarning: `early_stopping_rounds` in `fit` method is deprecated for better compatibility with scikit-learn, use `early_stopping_rounds` in constructor or`set_params` instead.\n",
      "  warnings.warn(\n",
      "\n"
     ]
    },
    {
     "name": "stdout",
     "output_type": "stream",
     "text": [
      "SCORE:                                                                             \n",
      "0.4445896497647674                                                                 \n",
      " 51%|█████     | 51/100 [03:01<02:56,  3.61s/trial, best loss: -0.4452692106638787]"
     ]
    },
    {
     "name": "stderr",
     "output_type": "stream",
     "text": [
      "C:\\Users\\heroa\\AppData\\Local\\Packages\\PythonSoftwareFoundation.Python.3.11_qbz5n2kfra8p0\\LocalCache\\local-packages\\Python311\\site-packages\\xgboost\\sklearn.py:889: UserWarning: `eval_metric` in `fit` method is deprecated for better compatibility with scikit-learn, use `eval_metric` in constructor or`set_params` instead.\n",
      "  warnings.warn(\n",
      "\n",
      "C:\\Users\\heroa\\AppData\\Local\\Packages\\PythonSoftwareFoundation.Python.3.11_qbz5n2kfra8p0\\LocalCache\\local-packages\\Python311\\site-packages\\xgboost\\sklearn.py:889: UserWarning: `early_stopping_rounds` in `fit` method is deprecated for better compatibility with scikit-learn, use `early_stopping_rounds` in constructor or`set_params` instead.\n",
      "  warnings.warn(\n",
      "\n"
     ]
    },
    {
     "name": "stdout",
     "output_type": "stream",
     "text": [
      "SCORE:                                                                             \n",
      "0.4446941975953999                                                                 \n",
      " 52%|█████▏    | 52/100 [03:05<02:54,  3.64s/trial, best loss: -0.4452692106638787]"
     ]
    },
    {
     "name": "stderr",
     "output_type": "stream",
     "text": [
      "C:\\Users\\heroa\\AppData\\Local\\Packages\\PythonSoftwareFoundation.Python.3.11_qbz5n2kfra8p0\\LocalCache\\local-packages\\Python311\\site-packages\\xgboost\\sklearn.py:889: UserWarning: `eval_metric` in `fit` method is deprecated for better compatibility with scikit-learn, use `eval_metric` in constructor or`set_params` instead.\n",
      "  warnings.warn(\n",
      "\n",
      "C:\\Users\\heroa\\AppData\\Local\\Packages\\PythonSoftwareFoundation.Python.3.11_qbz5n2kfra8p0\\LocalCache\\local-packages\\Python311\\site-packages\\xgboost\\sklearn.py:889: UserWarning: `early_stopping_rounds` in `fit` method is deprecated for better compatibility with scikit-learn, use `early_stopping_rounds` in constructor or`set_params` instead.\n",
      "  warnings.warn(\n",
      "\n"
     ]
    },
    {
     "name": "stdout",
     "output_type": "stream",
     "text": [
      "SCORE:                                                                             \n",
      "0.4444328280188186                                                                 \n",
      " 53%|█████▎    | 53/100 [03:09<02:51,  3.64s/trial, best loss: -0.4452692106638787]"
     ]
    },
    {
     "name": "stderr",
     "output_type": "stream",
     "text": [
      "C:\\Users\\heroa\\AppData\\Local\\Packages\\PythonSoftwareFoundation.Python.3.11_qbz5n2kfra8p0\\LocalCache\\local-packages\\Python311\\site-packages\\xgboost\\sklearn.py:889: UserWarning: `eval_metric` in `fit` method is deprecated for better compatibility with scikit-learn, use `eval_metric` in constructor or`set_params` instead.\n",
      "  warnings.warn(\n",
      "\n",
      "C:\\Users\\heroa\\AppData\\Local\\Packages\\PythonSoftwareFoundation.Python.3.11_qbz5n2kfra8p0\\LocalCache\\local-packages\\Python311\\site-packages\\xgboost\\sklearn.py:889: UserWarning: `early_stopping_rounds` in `fit` method is deprecated for better compatibility with scikit-learn, use `early_stopping_rounds` in constructor or`set_params` instead.\n",
      "  warnings.warn(\n",
      "\n"
     ]
    },
    {
     "name": "stdout",
     "output_type": "stream",
     "text": [
      "SCORE:                                                                             \n",
      "0.4445896497647674                                                                 \n",
      " 54%|█████▍    | 54/100 [03:12<02:47,  3.65s/trial, best loss: -0.4452692106638787]"
     ]
    },
    {
     "name": "stderr",
     "output_type": "stream",
     "text": [
      "C:\\Users\\heroa\\AppData\\Local\\Packages\\PythonSoftwareFoundation.Python.3.11_qbz5n2kfra8p0\\LocalCache\\local-packages\\Python311\\site-packages\\xgboost\\sklearn.py:889: UserWarning: `eval_metric` in `fit` method is deprecated for better compatibility with scikit-learn, use `eval_metric` in constructor or`set_params` instead.\n",
      "  warnings.warn(\n",
      "\n",
      "C:\\Users\\heroa\\AppData\\Local\\Packages\\PythonSoftwareFoundation.Python.3.11_qbz5n2kfra8p0\\LocalCache\\local-packages\\Python311\\site-packages\\xgboost\\sklearn.py:889: UserWarning: `early_stopping_rounds` in `fit` method is deprecated for better compatibility with scikit-learn, use `early_stopping_rounds` in constructor or`set_params` instead.\n",
      "  warnings.warn(\n",
      "\n"
     ]
    },
    {
     "name": "stdout",
     "output_type": "stream",
     "text": [
      "SCORE:                                                                             \n",
      "0.4442237323575536                                                                 \n",
      " 55%|█████▌    | 55/100 [03:16<02:43,  3.63s/trial, best loss: -0.4452692106638787]"
     ]
    },
    {
     "name": "stderr",
     "output_type": "stream",
     "text": [
      "C:\\Users\\heroa\\AppData\\Local\\Packages\\PythonSoftwareFoundation.Python.3.11_qbz5n2kfra8p0\\LocalCache\\local-packages\\Python311\\site-packages\\xgboost\\sklearn.py:889: UserWarning: `eval_metric` in `fit` method is deprecated for better compatibility with scikit-learn, use `eval_metric` in constructor or`set_params` instead.\n",
      "  warnings.warn(\n",
      "\n",
      "C:\\Users\\heroa\\AppData\\Local\\Packages\\PythonSoftwareFoundation.Python.3.11_qbz5n2kfra8p0\\LocalCache\\local-packages\\Python311\\site-packages\\xgboost\\sklearn.py:889: UserWarning: `early_stopping_rounds` in `fit` method is deprecated for better compatibility with scikit-learn, use `early_stopping_rounds` in constructor or`set_params` instead.\n",
      "  warnings.warn(\n",
      "\n"
     ]
    },
    {
     "name": "stdout",
     "output_type": "stream",
     "text": [
      "SCORE:                                                                             \n",
      "0.44427600627286984                                                                \n",
      " 56%|█████▌    | 56/100 [03:19<02:37,  3.58s/trial, best loss: -0.4452692106638787]"
     ]
    },
    {
     "name": "stderr",
     "output_type": "stream",
     "text": [
      "C:\\Users\\heroa\\AppData\\Local\\Packages\\PythonSoftwareFoundation.Python.3.11_qbz5n2kfra8p0\\LocalCache\\local-packages\\Python311\\site-packages\\xgboost\\sklearn.py:889: UserWarning: `eval_metric` in `fit` method is deprecated for better compatibility with scikit-learn, use `eval_metric` in constructor or`set_params` instead.\n",
      "  warnings.warn(\n",
      "\n",
      "C:\\Users\\heroa\\AppData\\Local\\Packages\\PythonSoftwareFoundation.Python.3.11_qbz5n2kfra8p0\\LocalCache\\local-packages\\Python311\\site-packages\\xgboost\\sklearn.py:889: UserWarning: `early_stopping_rounds` in `fit` method is deprecated for better compatibility with scikit-learn, use `early_stopping_rounds` in constructor or`set_params` instead.\n",
      "  warnings.warn(\n",
      "\n"
     ]
    },
    {
     "name": "stdout",
     "output_type": "stream",
     "text": [
      "SCORE:                                                                             \n",
      "0.44385781495033977                                                                \n",
      " 57%|█████▋    | 57/100 [03:23<02:34,  3.60s/trial, best loss: -0.4452692106638787]"
     ]
    },
    {
     "name": "stderr",
     "output_type": "stream",
     "text": [
      "C:\\Users\\heroa\\AppData\\Local\\Packages\\PythonSoftwareFoundation.Python.3.11_qbz5n2kfra8p0\\LocalCache\\local-packages\\Python311\\site-packages\\xgboost\\sklearn.py:889: UserWarning: `eval_metric` in `fit` method is deprecated for better compatibility with scikit-learn, use `eval_metric` in constructor or`set_params` instead.\n",
      "  warnings.warn(\n",
      "\n",
      "C:\\Users\\heroa\\AppData\\Local\\Packages\\PythonSoftwareFoundation.Python.3.11_qbz5n2kfra8p0\\LocalCache\\local-packages\\Python311\\site-packages\\xgboost\\sklearn.py:889: UserWarning: `early_stopping_rounds` in `fit` method is deprecated for better compatibility with scikit-learn, use `early_stopping_rounds` in constructor or`set_params` instead.\n",
      "  warnings.warn(\n",
      "\n"
     ]
    },
    {
     "name": "stdout",
     "output_type": "stream",
     "text": [
      "SCORE:                                                                             \n",
      "0.443910088865656                                                                  \n",
      " 58%|█████▊    | 58/100 [03:26<02:29,  3.55s/trial, best loss: -0.4452692106638787]"
     ]
    },
    {
     "name": "stderr",
     "output_type": "stream",
     "text": [
      "C:\\Users\\heroa\\AppData\\Local\\Packages\\PythonSoftwareFoundation.Python.3.11_qbz5n2kfra8p0\\LocalCache\\local-packages\\Python311\\site-packages\\xgboost\\sklearn.py:889: UserWarning: `eval_metric` in `fit` method is deprecated for better compatibility with scikit-learn, use `eval_metric` in constructor or`set_params` instead.\n",
      "  warnings.warn(\n",
      "\n",
      "C:\\Users\\heroa\\AppData\\Local\\Packages\\PythonSoftwareFoundation.Python.3.11_qbz5n2kfra8p0\\LocalCache\\local-packages\\Python311\\site-packages\\xgboost\\sklearn.py:889: UserWarning: `early_stopping_rounds` in `fit` method is deprecated for better compatibility with scikit-learn, use `early_stopping_rounds` in constructor or`set_params` instead.\n",
      "  warnings.warn(\n",
      "\n"
     ]
    },
    {
     "name": "stdout",
     "output_type": "stream",
     "text": [
      "SCORE:                                                                             \n",
      "0.44427600627286984                                                                \n",
      " 59%|█████▉    | 59/100 [03:30<02:26,  3.58s/trial, best loss: -0.4452692106638787]"
     ]
    },
    {
     "name": "stderr",
     "output_type": "stream",
     "text": [
      "C:\\Users\\heroa\\AppData\\Local\\Packages\\PythonSoftwareFoundation.Python.3.11_qbz5n2kfra8p0\\LocalCache\\local-packages\\Python311\\site-packages\\xgboost\\sklearn.py:889: UserWarning: `eval_metric` in `fit` method is deprecated for better compatibility with scikit-learn, use `eval_metric` in constructor or`set_params` instead.\n",
      "  warnings.warn(\n",
      "\n",
      "C:\\Users\\heroa\\AppData\\Local\\Packages\\PythonSoftwareFoundation.Python.3.11_qbz5n2kfra8p0\\LocalCache\\local-packages\\Python311\\site-packages\\xgboost\\sklearn.py:889: UserWarning: `early_stopping_rounds` in `fit` method is deprecated for better compatibility with scikit-learn, use `early_stopping_rounds` in constructor or`set_params` instead.\n",
      "  warnings.warn(\n",
      "\n"
     ]
    },
    {
     "name": "stdout",
     "output_type": "stream",
     "text": [
      "SCORE:                                                                             \n",
      "0.44281233664401465                                                                \n",
      " 60%|██████    | 60/100 [03:34<02:21,  3.53s/trial, best loss: -0.4452692106638787]"
     ]
    },
    {
     "name": "stderr",
     "output_type": "stream",
     "text": [
      "C:\\Users\\heroa\\AppData\\Local\\Packages\\PythonSoftwareFoundation.Python.3.11_qbz5n2kfra8p0\\LocalCache\\local-packages\\Python311\\site-packages\\xgboost\\sklearn.py:889: UserWarning: `eval_metric` in `fit` method is deprecated for better compatibility with scikit-learn, use `eval_metric` in constructor or`set_params` instead.\n",
      "  warnings.warn(\n",
      "\n",
      "C:\\Users\\heroa\\AppData\\Local\\Packages\\PythonSoftwareFoundation.Python.3.11_qbz5n2kfra8p0\\LocalCache\\local-packages\\Python311\\site-packages\\xgboost\\sklearn.py:889: UserWarning: `early_stopping_rounds` in `fit` method is deprecated for better compatibility with scikit-learn, use `early_stopping_rounds` in constructor or`set_params` instead.\n",
      "  warnings.warn(\n",
      "\n"
     ]
    },
    {
     "name": "stdout",
     "output_type": "stream",
     "text": [
      "SCORE:                                                                             \n",
      "0.44255096706743335                                                                \n",
      " 61%|██████    | 61/100 [03:37<02:16,  3.50s/trial, best loss: -0.4452692106638787]"
     ]
    },
    {
     "name": "stderr",
     "output_type": "stream",
     "text": [
      "C:\\Users\\heroa\\AppData\\Local\\Packages\\PythonSoftwareFoundation.Python.3.11_qbz5n2kfra8p0\\LocalCache\\local-packages\\Python311\\site-packages\\xgboost\\sklearn.py:889: UserWarning: `eval_metric` in `fit` method is deprecated for better compatibility with scikit-learn, use `eval_metric` in constructor or`set_params` instead.\n",
      "  warnings.warn(\n",
      "\n",
      "C:\\Users\\heroa\\AppData\\Local\\Packages\\PythonSoftwareFoundation.Python.3.11_qbz5n2kfra8p0\\LocalCache\\local-packages\\Python311\\site-packages\\xgboost\\sklearn.py:889: UserWarning: `early_stopping_rounds` in `fit` method is deprecated for better compatibility with scikit-learn, use `early_stopping_rounds` in constructor or`set_params` instead.\n",
      "  warnings.warn(\n",
      "\n"
     ]
    },
    {
     "name": "stdout",
     "output_type": "stream",
     "text": [
      "SCORE:                                                                             \n",
      "0.44500784108729746                                                                \n",
      " 62%|██████▏   | 62/100 [03:41<02:14,  3.54s/trial, best loss: -0.4452692106638787]"
     ]
    },
    {
     "name": "stderr",
     "output_type": "stream",
     "text": [
      "C:\\Users\\heroa\\AppData\\Local\\Packages\\PythonSoftwareFoundation.Python.3.11_qbz5n2kfra8p0\\LocalCache\\local-packages\\Python311\\site-packages\\xgboost\\sklearn.py:889: UserWarning: `eval_metric` in `fit` method is deprecated for better compatibility with scikit-learn, use `eval_metric` in constructor or`set_params` instead.\n",
      "  warnings.warn(\n",
      "\n",
      "C:\\Users\\heroa\\AppData\\Local\\Packages\\PythonSoftwareFoundation.Python.3.11_qbz5n2kfra8p0\\LocalCache\\local-packages\\Python311\\site-packages\\xgboost\\sklearn.py:889: UserWarning: `early_stopping_rounds` in `fit` method is deprecated for better compatibility with scikit-learn, use `early_stopping_rounds` in constructor or`set_params` instead.\n",
      "  warnings.warn(\n",
      "\n"
     ]
    },
    {
     "name": "stdout",
     "output_type": "stream",
     "text": [
      "SCORE:                                                                             \n",
      "0.44385781495033977                                                                \n",
      " 63%|██████▎   | 63/100 [03:44<02:10,  3.54s/trial, best loss: -0.4452692106638787]"
     ]
    },
    {
     "name": "stderr",
     "output_type": "stream",
     "text": [
      "C:\\Users\\heroa\\AppData\\Local\\Packages\\PythonSoftwareFoundation.Python.3.11_qbz5n2kfra8p0\\LocalCache\\local-packages\\Python311\\site-packages\\xgboost\\sklearn.py:889: UserWarning: `eval_metric` in `fit` method is deprecated for better compatibility with scikit-learn, use `eval_metric` in constructor or`set_params` instead.\n",
      "  warnings.warn(\n",
      "\n",
      "C:\\Users\\heroa\\AppData\\Local\\Packages\\PythonSoftwareFoundation.Python.3.11_qbz5n2kfra8p0\\LocalCache\\local-packages\\Python311\\site-packages\\xgboost\\sklearn.py:889: UserWarning: `early_stopping_rounds` in `fit` method is deprecated for better compatibility with scikit-learn, use `early_stopping_rounds` in constructor or`set_params` instead.\n",
      "  warnings.warn(\n",
      "\n"
     ]
    },
    {
     "name": "stdout",
     "output_type": "stream",
     "text": [
      "SCORE:                                                                             \n",
      "0.44474647151071617                                                                \n",
      " 64%|██████▍   | 64/100 [03:48<02:08,  3.58s/trial, best loss: -0.4452692106638787]"
     ]
    },
    {
     "name": "stderr",
     "output_type": "stream",
     "text": [
      "C:\\Users\\heroa\\AppData\\Local\\Packages\\PythonSoftwareFoundation.Python.3.11_qbz5n2kfra8p0\\LocalCache\\local-packages\\Python311\\site-packages\\xgboost\\sklearn.py:889: UserWarning: `eval_metric` in `fit` method is deprecated for better compatibility with scikit-learn, use `eval_metric` in constructor or`set_params` instead.\n",
      "  warnings.warn(\n",
      "\n",
      "C:\\Users\\heroa\\AppData\\Local\\Packages\\PythonSoftwareFoundation.Python.3.11_qbz5n2kfra8p0\\LocalCache\\local-packages\\Python311\\site-packages\\xgboost\\sklearn.py:889: UserWarning: `early_stopping_rounds` in `fit` method is deprecated for better compatibility with scikit-learn, use `early_stopping_rounds` in constructor or`set_params` instead.\n",
      "  warnings.warn(\n",
      "\n"
     ]
    },
    {
     "name": "stdout",
     "output_type": "stream",
     "text": [
      "SCORE:                                                                             \n",
      "0.4448510193413487                                                                 \n",
      " 65%|██████▌   | 65/100 [03:51<02:05,  3.59s/trial, best loss: -0.4452692106638787]"
     ]
    },
    {
     "name": "stderr",
     "output_type": "stream",
     "text": [
      "C:\\Users\\heroa\\AppData\\Local\\Packages\\PythonSoftwareFoundation.Python.3.11_qbz5n2kfra8p0\\LocalCache\\local-packages\\Python311\\site-packages\\xgboost\\sklearn.py:889: UserWarning: `eval_metric` in `fit` method is deprecated for better compatibility with scikit-learn, use `eval_metric` in constructor or`set_params` instead.\n",
      "  warnings.warn(\n",
      "\n",
      "C:\\Users\\heroa\\AppData\\Local\\Packages\\PythonSoftwareFoundation.Python.3.11_qbz5n2kfra8p0\\LocalCache\\local-packages\\Python311\\site-packages\\xgboost\\sklearn.py:889: UserWarning: `early_stopping_rounds` in `fit` method is deprecated for better compatibility with scikit-learn, use `early_stopping_rounds` in constructor or`set_params` instead.\n",
      "  warnings.warn(\n",
      "\n"
     ]
    },
    {
     "name": "stdout",
     "output_type": "stream",
     "text": [
      "SCORE:                                                                             \n",
      "0.4450601150026137                                                                 \n",
      " 66%|██████▌   | 66/100 [03:55<02:03,  3.62s/trial, best loss: -0.4452692106638787]"
     ]
    },
    {
     "name": "stderr",
     "output_type": "stream",
     "text": [
      "C:\\Users\\heroa\\AppData\\Local\\Packages\\PythonSoftwareFoundation.Python.3.11_qbz5n2kfra8p0\\LocalCache\\local-packages\\Python311\\site-packages\\xgboost\\sklearn.py:889: UserWarning: `eval_metric` in `fit` method is deprecated for better compatibility with scikit-learn, use `eval_metric` in constructor or`set_params` instead.\n",
      "  warnings.warn(\n",
      "\n",
      "C:\\Users\\heroa\\AppData\\Local\\Packages\\PythonSoftwareFoundation.Python.3.11_qbz5n2kfra8p0\\LocalCache\\local-packages\\Python311\\site-packages\\xgboost\\sklearn.py:889: UserWarning: `early_stopping_rounds` in `fit` method is deprecated for better compatibility with scikit-learn, use `early_stopping_rounds` in constructor or`set_params` instead.\n",
      "  warnings.warn(\n",
      "\n"
     ]
    },
    {
     "name": "stdout",
     "output_type": "stream",
     "text": [
      "SCORE:                                                                             \n",
      "0.44532148457919496                                                                \n",
      " 67%|██████▋   | 67/100 [03:59<02:00,  3.64s/trial, best loss: -0.44532148457919496]"
     ]
    },
    {
     "name": "stderr",
     "output_type": "stream",
     "text": [
      "C:\\Users\\heroa\\AppData\\Local\\Packages\\PythonSoftwareFoundation.Python.3.11_qbz5n2kfra8p0\\LocalCache\\local-packages\\Python311\\site-packages\\xgboost\\sklearn.py:889: UserWarning: `eval_metric` in `fit` method is deprecated for better compatibility with scikit-learn, use `eval_metric` in constructor or`set_params` instead.\n",
      "  warnings.warn(\n",
      "\n",
      "C:\\Users\\heroa\\AppData\\Local\\Packages\\PythonSoftwareFoundation.Python.3.11_qbz5n2kfra8p0\\LocalCache\\local-packages\\Python311\\site-packages\\xgboost\\sklearn.py:889: UserWarning: `early_stopping_rounds` in `fit` method is deprecated for better compatibility with scikit-learn, use `early_stopping_rounds` in constructor or`set_params` instead.\n",
      "  warnings.warn(\n",
      "\n"
     ]
    },
    {
     "name": "stdout",
     "output_type": "stream",
     "text": [
      "SCORE:                                                                              \n",
      "0.44511238891793                                                                    \n",
      " 68%|██████▊   | 68/100 [04:03<01:58,  3.71s/trial, best loss: -0.44532148457919496]"
     ]
    },
    {
     "name": "stderr",
     "output_type": "stream",
     "text": [
      "C:\\Users\\heroa\\AppData\\Local\\Packages\\PythonSoftwareFoundation.Python.3.11_qbz5n2kfra8p0\\LocalCache\\local-packages\\Python311\\site-packages\\xgboost\\sklearn.py:889: UserWarning: `eval_metric` in `fit` method is deprecated for better compatibility with scikit-learn, use `eval_metric` in constructor or`set_params` instead.\n",
      "  warnings.warn(\n",
      "\n",
      "C:\\Users\\heroa\\AppData\\Local\\Packages\\PythonSoftwareFoundation.Python.3.11_qbz5n2kfra8p0\\LocalCache\\local-packages\\Python311\\site-packages\\xgboost\\sklearn.py:889: UserWarning: `early_stopping_rounds` in `fit` method is deprecated for better compatibility with scikit-learn, use `early_stopping_rounds` in constructor or`set_params` instead.\n",
      "  warnings.warn(\n",
      "\n"
     ]
    },
    {
     "name": "stdout",
     "output_type": "stream",
     "text": [
      "SCORE:                                                                              \n",
      "0.4446941975953999                                                                  \n",
      " 69%|██████▉   | 69/100 [04:06<01:54,  3.69s/trial, best loss: -0.44532148457919496]"
     ]
    },
    {
     "name": "stderr",
     "output_type": "stream",
     "text": [
      "C:\\Users\\heroa\\AppData\\Local\\Packages\\PythonSoftwareFoundation.Python.3.11_qbz5n2kfra8p0\\LocalCache\\local-packages\\Python311\\site-packages\\xgboost\\sklearn.py:889: UserWarning: `eval_metric` in `fit` method is deprecated for better compatibility with scikit-learn, use `eval_metric` in constructor or`set_params` instead.\n",
      "  warnings.warn(\n",
      "\n",
      "C:\\Users\\heroa\\AppData\\Local\\Packages\\PythonSoftwareFoundation.Python.3.11_qbz5n2kfra8p0\\LocalCache\\local-packages\\Python311\\site-packages\\xgboost\\sklearn.py:889: UserWarning: `early_stopping_rounds` in `fit` method is deprecated for better compatibility with scikit-learn, use `early_stopping_rounds` in constructor or`set_params` instead.\n",
      "  warnings.warn(\n",
      "\n"
     ]
    },
    {
     "name": "stdout",
     "output_type": "stream",
     "text": [
      "SCORE:                                                                              \n",
      "0.44474647151071617                                                                 \n",
      " 70%|███████   | 70/100 [04:10<01:50,  3.69s/trial, best loss: -0.44532148457919496]"
     ]
    },
    {
     "name": "stderr",
     "output_type": "stream",
     "text": [
      "C:\\Users\\heroa\\AppData\\Local\\Packages\\PythonSoftwareFoundation.Python.3.11_qbz5n2kfra8p0\\LocalCache\\local-packages\\Python311\\site-packages\\xgboost\\sklearn.py:889: UserWarning: `eval_metric` in `fit` method is deprecated for better compatibility with scikit-learn, use `eval_metric` in constructor or`set_params` instead.\n",
      "  warnings.warn(\n",
      "\n",
      "C:\\Users\\heroa\\AppData\\Local\\Packages\\PythonSoftwareFoundation.Python.3.11_qbz5n2kfra8p0\\LocalCache\\local-packages\\Python311\\site-packages\\xgboost\\sklearn.py:889: UserWarning: `early_stopping_rounds` in `fit` method is deprecated for better compatibility with scikit-learn, use `early_stopping_rounds` in constructor or`set_params` instead.\n",
      "  warnings.warn(\n",
      "\n"
     ]
    },
    {
     "name": "stdout",
     "output_type": "stream",
     "text": [
      "SCORE:                                                                              \n",
      "0.44464192368008365                                                                 \n",
      " 71%|███████   | 71/100 [04:14<01:46,  3.68s/trial, best loss: -0.44532148457919496]"
     ]
    },
    {
     "name": "stderr",
     "output_type": "stream",
     "text": [
      "C:\\Users\\heroa\\AppData\\Local\\Packages\\PythonSoftwareFoundation.Python.3.11_qbz5n2kfra8p0\\LocalCache\\local-packages\\Python311\\site-packages\\xgboost\\sklearn.py:889: UserWarning: `eval_metric` in `fit` method is deprecated for better compatibility with scikit-learn, use `eval_metric` in constructor or`set_params` instead.\n",
      "  warnings.warn(\n",
      "\n",
      "C:\\Users\\heroa\\AppData\\Local\\Packages\\PythonSoftwareFoundation.Python.3.11_qbz5n2kfra8p0\\LocalCache\\local-packages\\Python311\\site-packages\\xgboost\\sklearn.py:889: UserWarning: `early_stopping_rounds` in `fit` method is deprecated for better compatibility with scikit-learn, use `early_stopping_rounds` in constructor or`set_params` instead.\n",
      "  warnings.warn(\n",
      "\n"
     ]
    },
    {
     "name": "stdout",
     "output_type": "stream",
     "text": [
      "SCORE:                                                                              \n",
      "0.4441714584422373                                                                  \n",
      " 72%|███████▏  | 72/100 [04:17<01:43,  3.68s/trial, best loss: -0.44532148457919496]"
     ]
    },
    {
     "name": "stderr",
     "output_type": "stream",
     "text": [
      "C:\\Users\\heroa\\AppData\\Local\\Packages\\PythonSoftwareFoundation.Python.3.11_qbz5n2kfra8p0\\LocalCache\\local-packages\\Python311\\site-packages\\xgboost\\sklearn.py:889: UserWarning: `eval_metric` in `fit` method is deprecated for better compatibility with scikit-learn, use `eval_metric` in constructor or`set_params` instead.\n",
      "  warnings.warn(\n",
      "\n",
      "C:\\Users\\heroa\\AppData\\Local\\Packages\\PythonSoftwareFoundation.Python.3.11_qbz5n2kfra8p0\\LocalCache\\local-packages\\Python311\\site-packages\\xgboost\\sklearn.py:889: UserWarning: `early_stopping_rounds` in `fit` method is deprecated for better compatibility with scikit-learn, use `early_stopping_rounds` in constructor or`set_params` instead.\n",
      "  warnings.warn(\n",
      "\n"
     ]
    },
    {
     "name": "stdout",
     "output_type": "stream",
     "text": [
      "SCORE:                                                                              \n",
      "0.44464192368008365                                                                 \n",
      " 73%|███████▎  | 73/100 [04:21<01:39,  3.69s/trial, best loss: -0.44532148457919496]"
     ]
    },
    {
     "name": "stderr",
     "output_type": "stream",
     "text": [
      "C:\\Users\\heroa\\AppData\\Local\\Packages\\PythonSoftwareFoundation.Python.3.11_qbz5n2kfra8p0\\LocalCache\\local-packages\\Python311\\site-packages\\xgboost\\sklearn.py:889: UserWarning: `eval_metric` in `fit` method is deprecated for better compatibility with scikit-learn, use `eval_metric` in constructor or`set_params` instead.\n",
      "  warnings.warn(\n",
      "\n",
      "C:\\Users\\heroa\\AppData\\Local\\Packages\\PythonSoftwareFoundation.Python.3.11_qbz5n2kfra8p0\\LocalCache\\local-packages\\Python311\\site-packages\\xgboost\\sklearn.py:889: UserWarning: `early_stopping_rounds` in `fit` method is deprecated for better compatibility with scikit-learn, use `early_stopping_rounds` in constructor or`set_params` instead.\n",
      "  warnings.warn(\n",
      "\n"
     ]
    },
    {
     "name": "stdout",
     "output_type": "stream",
     "text": [
      "SCORE:                                                                              \n",
      "0.4449555671719812                                                                  \n",
      " 74%|███████▍  | 74/100 [04:25<01:35,  3.69s/trial, best loss: -0.44532148457919496]"
     ]
    },
    {
     "name": "stderr",
     "output_type": "stream",
     "text": [
      "C:\\Users\\heroa\\AppData\\Local\\Packages\\PythonSoftwareFoundation.Python.3.11_qbz5n2kfra8p0\\LocalCache\\local-packages\\Python311\\site-packages\\xgboost\\sklearn.py:889: UserWarning: `eval_metric` in `fit` method is deprecated for better compatibility with scikit-learn, use `eval_metric` in constructor or`set_params` instead.\n",
      "  warnings.warn(\n",
      "\n",
      "C:\\Users\\heroa\\AppData\\Local\\Packages\\PythonSoftwareFoundation.Python.3.11_qbz5n2kfra8p0\\LocalCache\\local-packages\\Python311\\site-packages\\xgboost\\sklearn.py:889: UserWarning: `early_stopping_rounds` in `fit` method is deprecated for better compatibility with scikit-learn, use `early_stopping_rounds` in constructor or`set_params` instead.\n",
      "  warnings.warn(\n",
      "\n"
     ]
    },
    {
     "name": "stdout",
     "output_type": "stream",
     "text": [
      "SCORE:                                                                              \n",
      "0.44500784108729746                                                                 \n",
      " 75%|███████▌  | 75/100 [04:28<01:32,  3.69s/trial, best loss: -0.44532148457919496]"
     ]
    },
    {
     "name": "stderr",
     "output_type": "stream",
     "text": [
      "C:\\Users\\heroa\\AppData\\Local\\Packages\\PythonSoftwareFoundation.Python.3.11_qbz5n2kfra8p0\\LocalCache\\local-packages\\Python311\\site-packages\\xgboost\\sklearn.py:889: UserWarning: `eval_metric` in `fit` method is deprecated for better compatibility with scikit-learn, use `eval_metric` in constructor or`set_params` instead.\n",
      "  warnings.warn(\n",
      "\n",
      "C:\\Users\\heroa\\AppData\\Local\\Packages\\PythonSoftwareFoundation.Python.3.11_qbz5n2kfra8p0\\LocalCache\\local-packages\\Python311\\site-packages\\xgboost\\sklearn.py:889: UserWarning: `early_stopping_rounds` in `fit` method is deprecated for better compatibility with scikit-learn, use `early_stopping_rounds` in constructor or`set_params` instead.\n",
      "  warnings.warn(\n",
      "\n"
     ]
    },
    {
     "name": "stdout",
     "output_type": "stream",
     "text": [
      "SCORE:                                                                              \n",
      "0.44490329325666494                                                                 \n",
      " 76%|███████▌  | 76/100 [04:32<01:28,  3.69s/trial, best loss: -0.44532148457919496]"
     ]
    },
    {
     "name": "stderr",
     "output_type": "stream",
     "text": [
      "C:\\Users\\heroa\\AppData\\Local\\Packages\\PythonSoftwareFoundation.Python.3.11_qbz5n2kfra8p0\\LocalCache\\local-packages\\Python311\\site-packages\\xgboost\\sklearn.py:889: UserWarning: `eval_metric` in `fit` method is deprecated for better compatibility with scikit-learn, use `eval_metric` in constructor or`set_params` instead.\n",
      "  warnings.warn(\n",
      "\n",
      "C:\\Users\\heroa\\AppData\\Local\\Packages\\PythonSoftwareFoundation.Python.3.11_qbz5n2kfra8p0\\LocalCache\\local-packages\\Python311\\site-packages\\xgboost\\sklearn.py:889: UserWarning: `early_stopping_rounds` in `fit` method is deprecated for better compatibility with scikit-learn, use `early_stopping_rounds` in constructor or`set_params` instead.\n",
      "  warnings.warn(\n",
      "\n"
     ]
    },
    {
     "name": "stdout",
     "output_type": "stream",
     "text": [
      "SCORE:                                                                              \n",
      "0.4450601150026137                                                                  \n",
      " 77%|███████▋  | 77/100 [04:36<01:24,  3.69s/trial, best loss: -0.44532148457919496]"
     ]
    },
    {
     "name": "stderr",
     "output_type": "stream",
     "text": [
      "C:\\Users\\heroa\\AppData\\Local\\Packages\\PythonSoftwareFoundation.Python.3.11_qbz5n2kfra8p0\\LocalCache\\local-packages\\Python311\\site-packages\\xgboost\\sklearn.py:889: UserWarning: `eval_metric` in `fit` method is deprecated for better compatibility with scikit-learn, use `eval_metric` in constructor or`set_params` instead.\n",
      "  warnings.warn(\n",
      "\n",
      "C:\\Users\\heroa\\AppData\\Local\\Packages\\PythonSoftwareFoundation.Python.3.11_qbz5n2kfra8p0\\LocalCache\\local-packages\\Python311\\site-packages\\xgboost\\sklearn.py:889: UserWarning: `early_stopping_rounds` in `fit` method is deprecated for better compatibility with scikit-learn, use `early_stopping_rounds` in constructor or`set_params` instead.\n",
      "  warnings.warn(\n",
      "\n"
     ]
    },
    {
     "name": "stdout",
     "output_type": "stream",
     "text": [
      "SCORE:                                                                              \n",
      "0.4446941975953999                                                                  \n",
      " 78%|███████▊  | 78/100 [04:39<01:20,  3.68s/trial, best loss: -0.44532148457919496]"
     ]
    },
    {
     "name": "stderr",
     "output_type": "stream",
     "text": [
      "C:\\Users\\heroa\\AppData\\Local\\Packages\\PythonSoftwareFoundation.Python.3.11_qbz5n2kfra8p0\\LocalCache\\local-packages\\Python311\\site-packages\\xgboost\\sklearn.py:889: UserWarning: `eval_metric` in `fit` method is deprecated for better compatibility with scikit-learn, use `eval_metric` in constructor or`set_params` instead.\n",
      "  warnings.warn(\n",
      "\n",
      "C:\\Users\\heroa\\AppData\\Local\\Packages\\PythonSoftwareFoundation.Python.3.11_qbz5n2kfra8p0\\LocalCache\\local-packages\\Python311\\site-packages\\xgboost\\sklearn.py:889: UserWarning: `early_stopping_rounds` in `fit` method is deprecated for better compatibility with scikit-learn, use `early_stopping_rounds` in constructor or`set_params` instead.\n",
      "  warnings.warn(\n",
      "\n"
     ]
    },
    {
     "name": "stdout",
     "output_type": "stream",
     "text": [
      "SCORE:                                                                              \n",
      "0.4447987454260324                                                                  \n",
      " 79%|███████▉  | 79/100 [04:43<01:17,  3.69s/trial, best loss: -0.44532148457919496]"
     ]
    },
    {
     "name": "stderr",
     "output_type": "stream",
     "text": [
      "C:\\Users\\heroa\\AppData\\Local\\Packages\\PythonSoftwareFoundation.Python.3.11_qbz5n2kfra8p0\\LocalCache\\local-packages\\Python311\\site-packages\\xgboost\\sklearn.py:889: UserWarning: `eval_metric` in `fit` method is deprecated for better compatibility with scikit-learn, use `eval_metric` in constructor or`set_params` instead.\n",
      "  warnings.warn(\n",
      "\n",
      "C:\\Users\\heroa\\AppData\\Local\\Packages\\PythonSoftwareFoundation.Python.3.11_qbz5n2kfra8p0\\LocalCache\\local-packages\\Python311\\site-packages\\xgboost\\sklearn.py:889: UserWarning: `early_stopping_rounds` in `fit` method is deprecated for better compatibility with scikit-learn, use `early_stopping_rounds` in constructor or`set_params` instead.\n",
      "  warnings.warn(\n",
      "\n"
     ]
    },
    {
     "name": "stdout",
     "output_type": "stream",
     "text": [
      "SCORE:                                                                              \n",
      "0.44521693674856244                                                                 \n",
      " 80%|████████  | 80/100 [04:47<01:14,  3.71s/trial, best loss: -0.44532148457919496]"
     ]
    },
    {
     "name": "stderr",
     "output_type": "stream",
     "text": [
      "C:\\Users\\heroa\\AppData\\Local\\Packages\\PythonSoftwareFoundation.Python.3.11_qbz5n2kfra8p0\\LocalCache\\local-packages\\Python311\\site-packages\\xgboost\\sklearn.py:889: UserWarning: `eval_metric` in `fit` method is deprecated for better compatibility with scikit-learn, use `eval_metric` in constructor or`set_params` instead.\n",
      "  warnings.warn(\n",
      "\n",
      "C:\\Users\\heroa\\AppData\\Local\\Packages\\PythonSoftwareFoundation.Python.3.11_qbz5n2kfra8p0\\LocalCache\\local-packages\\Python311\\site-packages\\xgboost\\sklearn.py:889: UserWarning: `early_stopping_rounds` in `fit` method is deprecated for better compatibility with scikit-learn, use `early_stopping_rounds` in constructor or`set_params` instead.\n",
      "  warnings.warn(\n",
      "\n"
     ]
    },
    {
     "name": "stdout",
     "output_type": "stream",
     "text": [
      "SCORE:                                                                              \n",
      "0.4446941975953999                                                                  \n",
      " 81%|████████  | 81/100 [04:51<01:10,  3.70s/trial, best loss: -0.44532148457919496]"
     ]
    },
    {
     "name": "stderr",
     "output_type": "stream",
     "text": [
      "C:\\Users\\heroa\\AppData\\Local\\Packages\\PythonSoftwareFoundation.Python.3.11_qbz5n2kfra8p0\\LocalCache\\local-packages\\Python311\\site-packages\\xgboost\\sklearn.py:889: UserWarning: `eval_metric` in `fit` method is deprecated for better compatibility with scikit-learn, use `eval_metric` in constructor or`set_params` instead.\n",
      "  warnings.warn(\n",
      "\n",
      "C:\\Users\\heroa\\AppData\\Local\\Packages\\PythonSoftwareFoundation.Python.3.11_qbz5n2kfra8p0\\LocalCache\\local-packages\\Python311\\site-packages\\xgboost\\sklearn.py:889: UserWarning: `early_stopping_rounds` in `fit` method is deprecated for better compatibility with scikit-learn, use `early_stopping_rounds` in constructor or`set_params` instead.\n",
      "  warnings.warn(\n",
      "\n"
     ]
    },
    {
     "name": "stdout",
     "output_type": "stream",
     "text": [
      "SCORE:                                                                              \n",
      "0.4451646628332462                                                                  \n",
      " 82%|████████▏ | 82/100 [04:54<01:06,  3.70s/trial, best loss: -0.44532148457919496]"
     ]
    },
    {
     "name": "stderr",
     "output_type": "stream",
     "text": [
      "C:\\Users\\heroa\\AppData\\Local\\Packages\\PythonSoftwareFoundation.Python.3.11_qbz5n2kfra8p0\\LocalCache\\local-packages\\Python311\\site-packages\\xgboost\\sklearn.py:889: UserWarning: `eval_metric` in `fit` method is deprecated for better compatibility with scikit-learn, use `eval_metric` in constructor or`set_params` instead.\n",
      "  warnings.warn(\n",
      "\n",
      "C:\\Users\\heroa\\AppData\\Local\\Packages\\PythonSoftwareFoundation.Python.3.11_qbz5n2kfra8p0\\LocalCache\\local-packages\\Python311\\site-packages\\xgboost\\sklearn.py:889: UserWarning: `early_stopping_rounds` in `fit` method is deprecated for better compatibility with scikit-learn, use `early_stopping_rounds` in constructor or`set_params` instead.\n",
      "  warnings.warn(\n",
      "\n"
     ]
    },
    {
     "name": "stdout",
     "output_type": "stream",
     "text": [
      "SCORE:                                                                              \n",
      "0.44307370622059594                                                                 \n",
      " 83%|████████▎ | 83/100 [04:58<01:01,  3.61s/trial, best loss: -0.44532148457919496]"
     ]
    },
    {
     "name": "stderr",
     "output_type": "stream",
     "text": [
      "C:\\Users\\heroa\\AppData\\Local\\Packages\\PythonSoftwareFoundation.Python.3.11_qbz5n2kfra8p0\\LocalCache\\local-packages\\Python311\\site-packages\\xgboost\\sklearn.py:889: UserWarning: `eval_metric` in `fit` method is deprecated for better compatibility with scikit-learn, use `eval_metric` in constructor or`set_params` instead.\n",
      "  warnings.warn(\n",
      "\n",
      "C:\\Users\\heroa\\AppData\\Local\\Packages\\PythonSoftwareFoundation.Python.3.11_qbz5n2kfra8p0\\LocalCache\\local-packages\\Python311\\site-packages\\xgboost\\sklearn.py:889: UserWarning: `early_stopping_rounds` in `fit` method is deprecated for better compatibility with scikit-learn, use `early_stopping_rounds` in constructor or`set_params` instead.\n",
      "  warnings.warn(\n",
      "\n"
     ]
    },
    {
     "name": "stdout",
     "output_type": "stream",
     "text": [
      "SCORE:                                                                              \n",
      "0.44438055410350236                                                                 \n",
      " 84%|████████▍ | 84/100 [05:01<00:58,  3.65s/trial, best loss: -0.44532148457919496]"
     ]
    },
    {
     "name": "stderr",
     "output_type": "stream",
     "text": [
      "C:\\Users\\heroa\\AppData\\Local\\Packages\\PythonSoftwareFoundation.Python.3.11_qbz5n2kfra8p0\\LocalCache\\local-packages\\Python311\\site-packages\\xgboost\\sklearn.py:889: UserWarning: `eval_metric` in `fit` method is deprecated for better compatibility with scikit-learn, use `eval_metric` in constructor or`set_params` instead.\n",
      "  warnings.warn(\n",
      "\n",
      "C:\\Users\\heroa\\AppData\\Local\\Packages\\PythonSoftwareFoundation.Python.3.11_qbz5n2kfra8p0\\LocalCache\\local-packages\\Python311\\site-packages\\xgboost\\sklearn.py:889: UserWarning: `early_stopping_rounds` in `fit` method is deprecated for better compatibility with scikit-learn, use `early_stopping_rounds` in constructor or`set_params` instead.\n",
      "  warnings.warn(\n",
      "\n"
     ]
    },
    {
     "name": "stdout",
     "output_type": "stream",
     "text": [
      "SCORE:                                                                              \n",
      "0.44474647151071617                                                                 \n",
      " 85%|████████▌ | 85/100 [05:05<00:54,  3.65s/trial, best loss: -0.44532148457919496]"
     ]
    },
    {
     "name": "stderr",
     "output_type": "stream",
     "text": [
      "C:\\Users\\heroa\\AppData\\Local\\Packages\\PythonSoftwareFoundation.Python.3.11_qbz5n2kfra8p0\\LocalCache\\local-packages\\Python311\\site-packages\\xgboost\\sklearn.py:889: UserWarning: `eval_metric` in `fit` method is deprecated for better compatibility with scikit-learn, use `eval_metric` in constructor or`set_params` instead.\n",
      "  warnings.warn(\n",
      "\n",
      "C:\\Users\\heroa\\AppData\\Local\\Packages\\PythonSoftwareFoundation.Python.3.11_qbz5n2kfra8p0\\LocalCache\\local-packages\\Python311\\site-packages\\xgboost\\sklearn.py:889: UserWarning: `early_stopping_rounds` in `fit` method is deprecated for better compatibility with scikit-learn, use `early_stopping_rounds` in constructor or`set_params` instead.\n",
      "  warnings.warn(\n",
      "\n"
     ]
    },
    {
     "name": "stdout",
     "output_type": "stream",
     "text": [
      "SCORE:                                                                              \n",
      "0.4442237323575536                                                                  \n",
      " 86%|████████▌ | 86/100 [05:09<00:51,  3.65s/trial, best loss: -0.44532148457919496]"
     ]
    },
    {
     "name": "stderr",
     "output_type": "stream",
     "text": [
      "C:\\Users\\heroa\\AppData\\Local\\Packages\\PythonSoftwareFoundation.Python.3.11_qbz5n2kfra8p0\\LocalCache\\local-packages\\Python311\\site-packages\\xgboost\\sklearn.py:889: UserWarning: `eval_metric` in `fit` method is deprecated for better compatibility with scikit-learn, use `eval_metric` in constructor or`set_params` instead.\n",
      "  warnings.warn(\n",
      "\n",
      "C:\\Users\\heroa\\AppData\\Local\\Packages\\PythonSoftwareFoundation.Python.3.11_qbz5n2kfra8p0\\LocalCache\\local-packages\\Python311\\site-packages\\xgboost\\sklearn.py:889: UserWarning: `early_stopping_rounds` in `fit` method is deprecated for better compatibility with scikit-learn, use `early_stopping_rounds` in constructor or`set_params` instead.\n",
      "  warnings.warn(\n",
      "\n"
     ]
    },
    {
     "name": "stdout",
     "output_type": "stream",
     "text": [
      "SCORE:                                                                              \n",
      "0.44464192368008365                                                                 \n",
      " 87%|████████▋ | 87/100 [05:12<00:47,  3.66s/trial, best loss: -0.44532148457919496]"
     ]
    },
    {
     "name": "stderr",
     "output_type": "stream",
     "text": [
      "C:\\Users\\heroa\\AppData\\Local\\Packages\\PythonSoftwareFoundation.Python.3.11_qbz5n2kfra8p0\\LocalCache\\local-packages\\Python311\\site-packages\\xgboost\\sklearn.py:889: UserWarning: `eval_metric` in `fit` method is deprecated for better compatibility with scikit-learn, use `eval_metric` in constructor or`set_params` instead.\n",
      "  warnings.warn(\n",
      "\n",
      "C:\\Users\\heroa\\AppData\\Local\\Packages\\PythonSoftwareFoundation.Python.3.11_qbz5n2kfra8p0\\LocalCache\\local-packages\\Python311\\site-packages\\xgboost\\sklearn.py:889: UserWarning: `early_stopping_rounds` in `fit` method is deprecated for better compatibility with scikit-learn, use `early_stopping_rounds` in constructor or`set_params` instead.\n",
      "  warnings.warn(\n",
      "\n"
     ]
    },
    {
     "name": "stdout",
     "output_type": "stream",
     "text": [
      "SCORE:                                                                              \n",
      "0.4440669106116048                                                                  \n",
      " 88%|████████▊ | 88/100 [05:16<00:44,  3.67s/trial, best loss: -0.44532148457919496]"
     ]
    },
    {
     "name": "stderr",
     "output_type": "stream",
     "text": [
      "C:\\Users\\heroa\\AppData\\Local\\Packages\\PythonSoftwareFoundation.Python.3.11_qbz5n2kfra8p0\\LocalCache\\local-packages\\Python311\\site-packages\\xgboost\\sklearn.py:889: UserWarning: `eval_metric` in `fit` method is deprecated for better compatibility with scikit-learn, use `eval_metric` in constructor or`set_params` instead.\n",
      "  warnings.warn(\n",
      "\n",
      "C:\\Users\\heroa\\AppData\\Local\\Packages\\PythonSoftwareFoundation.Python.3.11_qbz5n2kfra8p0\\LocalCache\\local-packages\\Python311\\site-packages\\xgboost\\sklearn.py:889: UserWarning: `early_stopping_rounds` in `fit` method is deprecated for better compatibility with scikit-learn, use `early_stopping_rounds` in constructor or`set_params` instead.\n",
      "  warnings.warn(\n",
      "\n"
     ]
    },
    {
     "name": "stdout",
     "output_type": "stream",
     "text": [
      "SCORE:                                                                              \n",
      "0.4441714584422373                                                                  \n",
      " 89%|████████▉ | 89/100 [05:20<00:40,  3.71s/trial, best loss: -0.44532148457919496]"
     ]
    },
    {
     "name": "stderr",
     "output_type": "stream",
     "text": [
      "C:\\Users\\heroa\\AppData\\Local\\Packages\\PythonSoftwareFoundation.Python.3.11_qbz5n2kfra8p0\\LocalCache\\local-packages\\Python311\\site-packages\\xgboost\\sklearn.py:889: UserWarning: `eval_metric` in `fit` method is deprecated for better compatibility with scikit-learn, use `eval_metric` in constructor or`set_params` instead.\n",
      "  warnings.warn(\n",
      "\n",
      "C:\\Users\\heroa\\AppData\\Local\\Packages\\PythonSoftwareFoundation.Python.3.11_qbz5n2kfra8p0\\LocalCache\\local-packages\\Python311\\site-packages\\xgboost\\sklearn.py:889: UserWarning: `early_stopping_rounds` in `fit` method is deprecated for better compatibility with scikit-learn, use `early_stopping_rounds` in constructor or`set_params` instead.\n",
      "  warnings.warn(\n",
      "\n"
     ]
    },
    {
     "name": "stdout",
     "output_type": "stream",
     "text": [
      "SCORE:                                                                              \n",
      "0.4440669106116048                                                                  \n",
      " 90%|█████████ | 90/100 [05:24<00:38,  3.81s/trial, best loss: -0.44532148457919496]"
     ]
    },
    {
     "name": "stderr",
     "output_type": "stream",
     "text": [
      "C:\\Users\\heroa\\AppData\\Local\\Packages\\PythonSoftwareFoundation.Python.3.11_qbz5n2kfra8p0\\LocalCache\\local-packages\\Python311\\site-packages\\xgboost\\sklearn.py:889: UserWarning: `eval_metric` in `fit` method is deprecated for better compatibility with scikit-learn, use `eval_metric` in constructor or`set_params` instead.\n",
      "  warnings.warn(\n",
      "\n",
      "C:\\Users\\heroa\\AppData\\Local\\Packages\\PythonSoftwareFoundation.Python.3.11_qbz5n2kfra8p0\\LocalCache\\local-packages\\Python311\\site-packages\\xgboost\\sklearn.py:889: UserWarning: `early_stopping_rounds` in `fit` method is deprecated for better compatibility with scikit-learn, use `early_stopping_rounds` in constructor or`set_params` instead.\n",
      "  warnings.warn(\n",
      "\n"
     ]
    },
    {
     "name": "stdout",
     "output_type": "stream",
     "text": [
      "SCORE:                                                                              \n",
      "0.4442237323575536                                                                  \n",
      " 91%|█████████ | 91/100 [05:28<00:34,  3.81s/trial, best loss: -0.44532148457919496]"
     ]
    },
    {
     "name": "stderr",
     "output_type": "stream",
     "text": [
      "C:\\Users\\heroa\\AppData\\Local\\Packages\\PythonSoftwareFoundation.Python.3.11_qbz5n2kfra8p0\\LocalCache\\local-packages\\Python311\\site-packages\\xgboost\\sklearn.py:889: UserWarning: `eval_metric` in `fit` method is deprecated for better compatibility with scikit-learn, use `eval_metric` in constructor or`set_params` instead.\n",
      "  warnings.warn(\n",
      "\n",
      "C:\\Users\\heroa\\AppData\\Local\\Packages\\PythonSoftwareFoundation.Python.3.11_qbz5n2kfra8p0\\LocalCache\\local-packages\\Python311\\site-packages\\xgboost\\sklearn.py:889: UserWarning: `early_stopping_rounds` in `fit` method is deprecated for better compatibility with scikit-learn, use `early_stopping_rounds` in constructor or`set_params` instead.\n",
      "  warnings.warn(\n",
      "\n"
     ]
    },
    {
     "name": "stdout",
     "output_type": "stream",
     "text": [
      "SCORE:                                                                              \n",
      "0.44490329325666494                                                                 \n",
      " 92%|█████████▏| 92/100 [05:32<00:30,  3.86s/trial, best loss: -0.44532148457919496]"
     ]
    },
    {
     "name": "stderr",
     "output_type": "stream",
     "text": [
      "C:\\Users\\heroa\\AppData\\Local\\Packages\\PythonSoftwareFoundation.Python.3.11_qbz5n2kfra8p0\\LocalCache\\local-packages\\Python311\\site-packages\\xgboost\\sklearn.py:889: UserWarning: `eval_metric` in `fit` method is deprecated for better compatibility with scikit-learn, use `eval_metric` in constructor or`set_params` instead.\n",
      "  warnings.warn(\n",
      "\n",
      "C:\\Users\\heroa\\AppData\\Local\\Packages\\PythonSoftwareFoundation.Python.3.11_qbz5n2kfra8p0\\LocalCache\\local-packages\\Python311\\site-packages\\xgboost\\sklearn.py:889: UserWarning: `early_stopping_rounds` in `fit` method is deprecated for better compatibility with scikit-learn, use `early_stopping_rounds` in constructor or`set_params` instead.\n",
      "  warnings.warn(\n",
      "\n"
     ]
    },
    {
     "name": "stdout",
     "output_type": "stream",
     "text": [
      "SCORE:                                                                              \n",
      "0.4442237323575536                                                                  \n",
      " 93%|█████████▎| 93/100 [05:36<00:27,  3.88s/trial, best loss: -0.44532148457919496]"
     ]
    },
    {
     "name": "stderr",
     "output_type": "stream",
     "text": [
      "C:\\Users\\heroa\\AppData\\Local\\Packages\\PythonSoftwareFoundation.Python.3.11_qbz5n2kfra8p0\\LocalCache\\local-packages\\Python311\\site-packages\\xgboost\\sklearn.py:889: UserWarning: `eval_metric` in `fit` method is deprecated for better compatibility with scikit-learn, use `eval_metric` in constructor or`set_params` instead.\n",
      "  warnings.warn(\n",
      "\n",
      "C:\\Users\\heroa\\AppData\\Local\\Packages\\PythonSoftwareFoundation.Python.3.11_qbz5n2kfra8p0\\LocalCache\\local-packages\\Python311\\site-packages\\xgboost\\sklearn.py:889: UserWarning: `early_stopping_rounds` in `fit` method is deprecated for better compatibility with scikit-learn, use `early_stopping_rounds` in constructor or`set_params` instead.\n",
      "  warnings.warn(\n",
      "\n"
     ]
    },
    {
     "name": "stdout",
     "output_type": "stream",
     "text": [
      "SCORE:                                                                              \n",
      "0.44281233664401465                                                                 \n",
      " 94%|█████████▍| 94/100 [05:40<00:23,  3.92s/trial, best loss: -0.44532148457919496]"
     ]
    },
    {
     "name": "stderr",
     "output_type": "stream",
     "text": [
      "C:\\Users\\heroa\\AppData\\Local\\Packages\\PythonSoftwareFoundation.Python.3.11_qbz5n2kfra8p0\\LocalCache\\local-packages\\Python311\\site-packages\\xgboost\\sklearn.py:889: UserWarning: `eval_metric` in `fit` method is deprecated for better compatibility with scikit-learn, use `eval_metric` in constructor or`set_params` instead.\n",
      "  warnings.warn(\n",
      "\n",
      "C:\\Users\\heroa\\AppData\\Local\\Packages\\PythonSoftwareFoundation.Python.3.11_qbz5n2kfra8p0\\LocalCache\\local-packages\\Python311\\site-packages\\xgboost\\sklearn.py:889: UserWarning: `early_stopping_rounds` in `fit` method is deprecated for better compatibility with scikit-learn, use `early_stopping_rounds` in constructor or`set_params` instead.\n",
      "  warnings.warn(\n",
      "\n"
     ]
    },
    {
     "name": "stdout",
     "output_type": "stream",
     "text": [
      "SCORE:                                                                              \n",
      "0.4449555671719812                                                                  \n",
      " 95%|█████████▌| 95/100 [05:44<00:19,  3.88s/trial, best loss: -0.44532148457919496]"
     ]
    },
    {
     "name": "stderr",
     "output_type": "stream",
     "text": [
      "C:\\Users\\heroa\\AppData\\Local\\Packages\\PythonSoftwareFoundation.Python.3.11_qbz5n2kfra8p0\\LocalCache\\local-packages\\Python311\\site-packages\\xgboost\\sklearn.py:889: UserWarning: `eval_metric` in `fit` method is deprecated for better compatibility with scikit-learn, use `eval_metric` in constructor or`set_params` instead.\n",
      "  warnings.warn(\n",
      "\n",
      "C:\\Users\\heroa\\AppData\\Local\\Packages\\PythonSoftwareFoundation.Python.3.11_qbz5n2kfra8p0\\LocalCache\\local-packages\\Python311\\site-packages\\xgboost\\sklearn.py:889: UserWarning: `early_stopping_rounds` in `fit` method is deprecated for better compatibility with scikit-learn, use `early_stopping_rounds` in constructor or`set_params` instead.\n",
      "  warnings.warn(\n",
      "\n"
     ]
    },
    {
     "name": "stdout",
     "output_type": "stream",
     "text": [
      "SCORE:                                                                              \n",
      "0.4442237323575536                                                                  \n",
      " 96%|█████████▌| 96/100 [05:47<00:15,  3.84s/trial, best loss: -0.44532148457919496]"
     ]
    },
    {
     "name": "stderr",
     "output_type": "stream",
     "text": [
      "C:\\Users\\heroa\\AppData\\Local\\Packages\\PythonSoftwareFoundation.Python.3.11_qbz5n2kfra8p0\\LocalCache\\local-packages\\Python311\\site-packages\\xgboost\\sklearn.py:889: UserWarning: `eval_metric` in `fit` method is deprecated for better compatibility with scikit-learn, use `eval_metric` in constructor or`set_params` instead.\n",
      "  warnings.warn(\n",
      "\n",
      "C:\\Users\\heroa\\AppData\\Local\\Packages\\PythonSoftwareFoundation.Python.3.11_qbz5n2kfra8p0\\LocalCache\\local-packages\\Python311\\site-packages\\xgboost\\sklearn.py:889: UserWarning: `early_stopping_rounds` in `fit` method is deprecated for better compatibility with scikit-learn, use `early_stopping_rounds` in constructor or`set_params` instead.\n",
      "  warnings.warn(\n",
      "\n"
     ]
    },
    {
     "name": "stdout",
     "output_type": "stream",
     "text": [
      "SCORE:                                                                              \n",
      "0.44411918452692106                                                                 \n",
      " 97%|█████████▋| 97/100 [05:51<00:11,  3.83s/trial, best loss: -0.44532148457919496]"
     ]
    },
    {
     "name": "stderr",
     "output_type": "stream",
     "text": [
      "C:\\Users\\heroa\\AppData\\Local\\Packages\\PythonSoftwareFoundation.Python.3.11_qbz5n2kfra8p0\\LocalCache\\local-packages\\Python311\\site-packages\\xgboost\\sklearn.py:889: UserWarning: `eval_metric` in `fit` method is deprecated for better compatibility with scikit-learn, use `eval_metric` in constructor or`set_params` instead.\n",
      "  warnings.warn(\n",
      "\n",
      "C:\\Users\\heroa\\AppData\\Local\\Packages\\PythonSoftwareFoundation.Python.3.11_qbz5n2kfra8p0\\LocalCache\\local-packages\\Python311\\site-packages\\xgboost\\sklearn.py:889: UserWarning: `early_stopping_rounds` in `fit` method is deprecated for better compatibility with scikit-learn, use `early_stopping_rounds` in constructor or`set_params` instead.\n",
      "  warnings.warn(\n",
      "\n"
     ]
    },
    {
     "name": "stdout",
     "output_type": "stream",
     "text": [
      "SCORE:                                                                              \n",
      "0.4435441714584422                                                                  \n",
      " 98%|█████████▊| 98/100 [05:55<00:07,  3.81s/trial, best loss: -0.44532148457919496]"
     ]
    },
    {
     "name": "stderr",
     "output_type": "stream",
     "text": [
      "C:\\Users\\heroa\\AppData\\Local\\Packages\\PythonSoftwareFoundation.Python.3.11_qbz5n2kfra8p0\\LocalCache\\local-packages\\Python311\\site-packages\\xgboost\\sklearn.py:889: UserWarning: `eval_metric` in `fit` method is deprecated for better compatibility with scikit-learn, use `eval_metric` in constructor or`set_params` instead.\n",
      "  warnings.warn(\n",
      "\n",
      "C:\\Users\\heroa\\AppData\\Local\\Packages\\PythonSoftwareFoundation.Python.3.11_qbz5n2kfra8p0\\LocalCache\\local-packages\\Python311\\site-packages\\xgboost\\sklearn.py:889: UserWarning: `early_stopping_rounds` in `fit` method is deprecated for better compatibility with scikit-learn, use `early_stopping_rounds` in constructor or`set_params` instead.\n",
      "  warnings.warn(\n",
      "\n"
     ]
    },
    {
     "name": "stdout",
     "output_type": "stream",
     "text": [
      "SCORE:                                                                              \n",
      "0.44427600627286984                                                                 \n",
      " 99%|█████████▉| 99/100 [05:59<00:03,  3.83s/trial, best loss: -0.44532148457919496]"
     ]
    },
    {
     "name": "stderr",
     "output_type": "stream",
     "text": [
      "C:\\Users\\heroa\\AppData\\Local\\Packages\\PythonSoftwareFoundation.Python.3.11_qbz5n2kfra8p0\\LocalCache\\local-packages\\Python311\\site-packages\\xgboost\\sklearn.py:889: UserWarning: `eval_metric` in `fit` method is deprecated for better compatibility with scikit-learn, use `eval_metric` in constructor or`set_params` instead.\n",
      "  warnings.warn(\n",
      "\n",
      "C:\\Users\\heroa\\AppData\\Local\\Packages\\PythonSoftwareFoundation.Python.3.11_qbz5n2kfra8p0\\LocalCache\\local-packages\\Python311\\site-packages\\xgboost\\sklearn.py:889: UserWarning: `early_stopping_rounds` in `fit` method is deprecated for better compatibility with scikit-learn, use `early_stopping_rounds` in constructor or`set_params` instead.\n",
      "  warnings.warn(\n",
      "\n"
     ]
    },
    {
     "name": "stdout",
     "output_type": "stream",
     "text": [
      "SCORE:                                                                              \n",
      "0.4434396236278097                                                                  \n",
      "100%|██████████| 100/100 [06:02<00:00,  3.63s/trial, best loss: -0.44532148457919496]\n",
      "The best hyperparameters are :  \n",
      "\n",
      "{'colsample_bytree': 0.5651153103317633, 'gamma': 1.1175786832078596, 'learning_rate': 0.07, 'max_depth': 14.0, 'min_child_weight': 9.0, 'reg_alpha': 40.0, 'reg_lambda': 0.3567502256248526, 'scale_pos_weight': 23.0}\n"
     ]
    }
   ],
   "source": [
    "#Testing for best parameters\n",
    "space={'learning_rate': hp.quniform(\"learning_rate\", 0.01, 20,0.01),\n",
    "        'max_depth': hp.quniform(\"max_depth\", 3, 18, 1),\n",
    "        'gamma': hp.uniform ('gamma', 1,9),\n",
    "        'reg_alpha' : hp.quniform('reg_alpha', 40,180,1),\n",
    "        'reg_lambda' : hp.uniform('reg_lambda', 0,1),\n",
    "        'colsample_bytree' : hp.uniform('colsample_bytree', 0.5,1),\n",
    "        'min_child_weight' : hp.quniform('min_child_weight', 0, 10, 1),\n",
    "        'n_estimators': 180,\n",
    "        'seed': 0,\n",
    "        'scale_pos_weight':hp.quniform('scale_pos_weight',1,100,1)\n",
    "    }\n",
    "def objective(space):\n",
    "    clf=xgb.XGBClassifier(\n",
    "                    n_estimators =space['n_estimators'], max_depth = int(space['max_depth']), gamma = space['gamma'],\n",
    "                    reg_alpha = int(space['reg_alpha']),min_child_weight=int(space['min_child_weight']),\n",
    "                    colsample_bytree=int(space['colsample_bytree']))\n",
    "    \n",
    "    evaluation = [( x_train, y_train), ( x_test, y_test)]\n",
    "    \n",
    "    clf.fit(x_train, y_train,\n",
    "            eval_set=evaluation, eval_metric=\"auc\",\n",
    "            early_stopping_rounds=10,verbose=False)\n",
    "    \n",
    "\n",
    "    pred = clf.predict(x_test)\n",
    "    accuracy = accuracy_score(y_test, pred>0.5)\n",
    "    print (\"SCORE:\", accuracy)\n",
    "    return {'loss': -accuracy, 'status': STATUS_OK }\n",
    "\n",
    "trials = Trials()\n",
    "\n",
    "best_hyperparams = fmin(fn = objective,\n",
    "                        space = space,\n",
    "                        algo = tpe.suggest,\n",
    "                        max_evals = 100,\n",
    "                        trials = trials)\n",
    "\n",
    "print(\"The best hyperparameters are : \",\"\\n\")\n",
    "print(best_hyperparams)"
   ]
  },
  {
   "cell_type": "code",
   "execution_count": 56,
   "metadata": {},
   "outputs": [],
   "source": [
    "model = xgb.XGBClassifier(learning_rate =0.07,\n",
    "    colsample_bytree=0.56,\n",
    "    n_estimators=1000,\n",
    "    early_stopping_rounds=50,\n",
    "    max_depth=14,\n",
    "    min_child_weight=9,\n",
    "    gamma=1.11,\n",
    "    subsample=0.65,\n",
    "    reg_alpha=40,\n",
    "    reg_lambda=0.3567,\n",
    "    objective= 'multi:softprob',\n",
    "    nthread=-1,\n",
    "    scale_pos_weight=23,\n",
    "    random_state=42)"
   ]
  },
  {
   "cell_type": "code",
   "execution_count": 57,
   "metadata": {},
   "outputs": [
    {
     "name": "stdout",
     "output_type": "stream",
     "text": [
      "[0]\tvalidation_0-mlogloss:1.04687\n",
      "[1]\tvalidation_0-mlogloss:0.99868\n",
      "[2]\tvalidation_0-mlogloss:0.95302\n",
      "[3]\tvalidation_0-mlogloss:0.91410\n",
      "[4]\tvalidation_0-mlogloss:0.88025\n",
      "[5]\tvalidation_0-mlogloss:0.84687\n",
      "[6]\tvalidation_0-mlogloss:0.81586\n",
      "[7]\tvalidation_0-mlogloss:0.78913\n",
      "[8]\tvalidation_0-mlogloss:0.76493\n",
      "[9]\tvalidation_0-mlogloss:0.74174\n",
      "[10]\tvalidation_0-mlogloss:0.72073\n",
      "[11]\tvalidation_0-mlogloss:0.70257\n",
      "[12]\tvalidation_0-mlogloss:0.68591\n",
      "[13]\tvalidation_0-mlogloss:0.67047\n",
      "[14]\tvalidation_0-mlogloss:0.65571\n",
      "[15]\tvalidation_0-mlogloss:0.64153\n",
      "[16]\tvalidation_0-mlogloss:0.62940\n",
      "[17]\tvalidation_0-mlogloss:0.61905\n",
      "[18]\tvalidation_0-mlogloss:0.60838\n",
      "[19]\tvalidation_0-mlogloss:0.59815\n",
      "[20]\tvalidation_0-mlogloss:0.58930\n",
      "[21]\tvalidation_0-mlogloss:0.58083\n",
      "[22]\tvalidation_0-mlogloss:0.57245\n",
      "[23]\tvalidation_0-mlogloss:0.56580\n",
      "[24]\tvalidation_0-mlogloss:0.55914\n",
      "[25]\tvalidation_0-mlogloss:0.55294\n",
      "[26]\tvalidation_0-mlogloss:0.54705\n",
      "[27]\tvalidation_0-mlogloss:0.54111\n",
      "[28]\tvalidation_0-mlogloss:0.53606\n",
      "[29]\tvalidation_0-mlogloss:0.53121\n",
      "[30]\tvalidation_0-mlogloss:0.52644\n",
      "[31]\tvalidation_0-mlogloss:0.52185\n",
      "[32]\tvalidation_0-mlogloss:0.51781\n",
      "[33]\tvalidation_0-mlogloss:0.51453\n",
      "[34]\tvalidation_0-mlogloss:0.51075\n",
      "[35]\tvalidation_0-mlogloss:0.50732\n",
      "[36]\tvalidation_0-mlogloss:0.50418\n",
      "[37]\tvalidation_0-mlogloss:0.50137\n",
      "[38]\tvalidation_0-mlogloss:0.49882\n",
      "[39]\tvalidation_0-mlogloss:0.49637\n",
      "[40]\tvalidation_0-mlogloss:0.49424\n",
      "[41]\tvalidation_0-mlogloss:0.49194\n",
      "[42]\tvalidation_0-mlogloss:0.48976\n",
      "[43]\tvalidation_0-mlogloss:0.48794\n",
      "[44]\tvalidation_0-mlogloss:0.48612\n",
      "[45]\tvalidation_0-mlogloss:0.48446\n",
      "[46]\tvalidation_0-mlogloss:0.48280\n",
      "[47]\tvalidation_0-mlogloss:0.48124\n",
      "[48]\tvalidation_0-mlogloss:0.47962\n",
      "[49]\tvalidation_0-mlogloss:0.47824\n",
      "[50]\tvalidation_0-mlogloss:0.47699\n",
      "[51]\tvalidation_0-mlogloss:0.47578\n",
      "[52]\tvalidation_0-mlogloss:0.47456\n",
      "[53]\tvalidation_0-mlogloss:0.47359\n",
      "[54]\tvalidation_0-mlogloss:0.47252\n",
      "[55]\tvalidation_0-mlogloss:0.47136\n",
      "[56]\tvalidation_0-mlogloss:0.47034\n",
      "[57]\tvalidation_0-mlogloss:0.46940\n",
      "[58]\tvalidation_0-mlogloss:0.46854\n",
      "[59]\tvalidation_0-mlogloss:0.46772\n",
      "[60]\tvalidation_0-mlogloss:0.46688\n",
      "[61]\tvalidation_0-mlogloss:0.46619\n",
      "[62]\tvalidation_0-mlogloss:0.46544\n",
      "[63]\tvalidation_0-mlogloss:0.46469\n",
      "[64]\tvalidation_0-mlogloss:0.46401\n",
      "[65]\tvalidation_0-mlogloss:0.46324\n",
      "[66]\tvalidation_0-mlogloss:0.46250\n",
      "[67]\tvalidation_0-mlogloss:0.46195\n",
      "[68]\tvalidation_0-mlogloss:0.46124\n",
      "[69]\tvalidation_0-mlogloss:0.46062\n",
      "[70]\tvalidation_0-mlogloss:0.46002\n",
      "[71]\tvalidation_0-mlogloss:0.45957\n",
      "[72]\tvalidation_0-mlogloss:0.45910\n",
      "[73]\tvalidation_0-mlogloss:0.45851\n",
      "[74]\tvalidation_0-mlogloss:0.45806\n",
      "[75]\tvalidation_0-mlogloss:0.45762\n",
      "[76]\tvalidation_0-mlogloss:0.45729\n",
      "[77]\tvalidation_0-mlogloss:0.45686\n",
      "[78]\tvalidation_0-mlogloss:0.45650\n",
      "[79]\tvalidation_0-mlogloss:0.45605\n",
      "[80]\tvalidation_0-mlogloss:0.45561\n",
      "[81]\tvalidation_0-mlogloss:0.45527\n",
      "[82]\tvalidation_0-mlogloss:0.45496\n",
      "[83]\tvalidation_0-mlogloss:0.45461\n",
      "[84]\tvalidation_0-mlogloss:0.45439\n",
      "[85]\tvalidation_0-mlogloss:0.45408\n",
      "[86]\tvalidation_0-mlogloss:0.45368\n",
      "[87]\tvalidation_0-mlogloss:0.45340\n",
      "[88]\tvalidation_0-mlogloss:0.45320\n",
      "[89]\tvalidation_0-mlogloss:0.45289\n",
      "[90]\tvalidation_0-mlogloss:0.45257\n",
      "[91]\tvalidation_0-mlogloss:0.45232\n",
      "[92]\tvalidation_0-mlogloss:0.45217\n",
      "[93]\tvalidation_0-mlogloss:0.45188\n",
      "[94]\tvalidation_0-mlogloss:0.45162\n",
      "[95]\tvalidation_0-mlogloss:0.45137\n",
      "[96]\tvalidation_0-mlogloss:0.45113\n",
      "[97]\tvalidation_0-mlogloss:0.45091\n",
      "[98]\tvalidation_0-mlogloss:0.45066\n",
      "[99]\tvalidation_0-mlogloss:0.45045\n",
      "[100]\tvalidation_0-mlogloss:0.45018\n",
      "[101]\tvalidation_0-mlogloss:0.45001\n",
      "[102]\tvalidation_0-mlogloss:0.44974\n",
      "[103]\tvalidation_0-mlogloss:0.44951\n",
      "[104]\tvalidation_0-mlogloss:0.44930\n",
      "[105]\tvalidation_0-mlogloss:0.44907\n",
      "[106]\tvalidation_0-mlogloss:0.44886\n",
      "[107]\tvalidation_0-mlogloss:0.44867\n",
      "[108]\tvalidation_0-mlogloss:0.44850\n",
      "[109]\tvalidation_0-mlogloss:0.44824\n",
      "[110]\tvalidation_0-mlogloss:0.44800\n",
      "[111]\tvalidation_0-mlogloss:0.44785\n",
      "[112]\tvalidation_0-mlogloss:0.44771\n",
      "[113]\tvalidation_0-mlogloss:0.44755\n",
      "[114]\tvalidation_0-mlogloss:0.44739\n",
      "[115]\tvalidation_0-mlogloss:0.44723\n",
      "[116]\tvalidation_0-mlogloss:0.44705\n",
      "[117]\tvalidation_0-mlogloss:0.44687\n",
      "[118]\tvalidation_0-mlogloss:0.44671\n",
      "[119]\tvalidation_0-mlogloss:0.44648\n",
      "[120]\tvalidation_0-mlogloss:0.44629\n",
      "[121]\tvalidation_0-mlogloss:0.44620\n",
      "[122]\tvalidation_0-mlogloss:0.44604\n",
      "[123]\tvalidation_0-mlogloss:0.44593\n",
      "[124]\tvalidation_0-mlogloss:0.44580\n",
      "[125]\tvalidation_0-mlogloss:0.44567\n",
      "[126]\tvalidation_0-mlogloss:0.44557\n",
      "[127]\tvalidation_0-mlogloss:0.44543\n",
      "[128]\tvalidation_0-mlogloss:0.44526\n",
      "[129]\tvalidation_0-mlogloss:0.44514\n",
      "[130]\tvalidation_0-mlogloss:0.44504\n",
      "[131]\tvalidation_0-mlogloss:0.44495\n",
      "[132]\tvalidation_0-mlogloss:0.44481\n",
      "[133]\tvalidation_0-mlogloss:0.44472\n",
      "[134]\tvalidation_0-mlogloss:0.44462\n",
      "[135]\tvalidation_0-mlogloss:0.44453\n",
      "[136]\tvalidation_0-mlogloss:0.44441\n",
      "[137]\tvalidation_0-mlogloss:0.44427\n",
      "[138]\tvalidation_0-mlogloss:0.44416\n",
      "[139]\tvalidation_0-mlogloss:0.44405\n",
      "[140]\tvalidation_0-mlogloss:0.44393\n",
      "[141]\tvalidation_0-mlogloss:0.44383\n",
      "[142]\tvalidation_0-mlogloss:0.44371\n",
      "[143]\tvalidation_0-mlogloss:0.44357\n",
      "[144]\tvalidation_0-mlogloss:0.44346\n",
      "[145]\tvalidation_0-mlogloss:0.44337\n",
      "[146]\tvalidation_0-mlogloss:0.44323\n",
      "[147]\tvalidation_0-mlogloss:0.44318\n",
      "[148]\tvalidation_0-mlogloss:0.44311\n",
      "[149]\tvalidation_0-mlogloss:0.44294\n",
      "[150]\tvalidation_0-mlogloss:0.44286\n",
      "[151]\tvalidation_0-mlogloss:0.44278\n",
      "[152]\tvalidation_0-mlogloss:0.44275\n",
      "[153]\tvalidation_0-mlogloss:0.44272\n",
      "[154]\tvalidation_0-mlogloss:0.44263\n",
      "[155]\tvalidation_0-mlogloss:0.44254\n",
      "[156]\tvalidation_0-mlogloss:0.44251\n",
      "[157]\tvalidation_0-mlogloss:0.44249\n",
      "[158]\tvalidation_0-mlogloss:0.44241\n",
      "[159]\tvalidation_0-mlogloss:0.44236\n",
      "[160]\tvalidation_0-mlogloss:0.44227\n",
      "[161]\tvalidation_0-mlogloss:0.44224\n",
      "[162]\tvalidation_0-mlogloss:0.44213\n",
      "[163]\tvalidation_0-mlogloss:0.44210\n",
      "[164]\tvalidation_0-mlogloss:0.44203\n",
      "[165]\tvalidation_0-mlogloss:0.44200\n",
      "[166]\tvalidation_0-mlogloss:0.44199\n",
      "[167]\tvalidation_0-mlogloss:0.44191\n",
      "[168]\tvalidation_0-mlogloss:0.44182\n",
      "[169]\tvalidation_0-mlogloss:0.44177\n",
      "[170]\tvalidation_0-mlogloss:0.44173\n",
      "[171]\tvalidation_0-mlogloss:0.44170\n",
      "[172]\tvalidation_0-mlogloss:0.44163\n",
      "[173]\tvalidation_0-mlogloss:0.44159\n",
      "[174]\tvalidation_0-mlogloss:0.44151\n",
      "[175]\tvalidation_0-mlogloss:0.44146\n",
      "[176]\tvalidation_0-mlogloss:0.44142\n",
      "[177]\tvalidation_0-mlogloss:0.44139\n",
      "[178]\tvalidation_0-mlogloss:0.44137\n",
      "[179]\tvalidation_0-mlogloss:0.44131\n",
      "[180]\tvalidation_0-mlogloss:0.44128\n",
      "[181]\tvalidation_0-mlogloss:0.44124\n",
      "[182]\tvalidation_0-mlogloss:0.44122\n",
      "[183]\tvalidation_0-mlogloss:0.44117\n",
      "[184]\tvalidation_0-mlogloss:0.44113\n",
      "[185]\tvalidation_0-mlogloss:0.44107\n",
      "[186]\tvalidation_0-mlogloss:0.44105\n",
      "[187]\tvalidation_0-mlogloss:0.44099\n",
      "[188]\tvalidation_0-mlogloss:0.44097\n",
      "[189]\tvalidation_0-mlogloss:0.44094\n",
      "[190]\tvalidation_0-mlogloss:0.44093\n",
      "[191]\tvalidation_0-mlogloss:0.44093\n",
      "[192]\tvalidation_0-mlogloss:0.44092\n",
      "[193]\tvalidation_0-mlogloss:0.44090\n",
      "[194]\tvalidation_0-mlogloss:0.44087\n",
      "[195]\tvalidation_0-mlogloss:0.44082\n",
      "[196]\tvalidation_0-mlogloss:0.44078\n",
      "[197]\tvalidation_0-mlogloss:0.44078\n",
      "[198]\tvalidation_0-mlogloss:0.44077\n",
      "[199]\tvalidation_0-mlogloss:0.44074\n",
      "[200]\tvalidation_0-mlogloss:0.44073\n",
      "[201]\tvalidation_0-mlogloss:0.44073\n",
      "[202]\tvalidation_0-mlogloss:0.44063\n",
      "[203]\tvalidation_0-mlogloss:0.44063\n",
      "[204]\tvalidation_0-mlogloss:0.44063\n",
      "[205]\tvalidation_0-mlogloss:0.44063\n",
      "[206]\tvalidation_0-mlogloss:0.44057\n",
      "[207]\tvalidation_0-mlogloss:0.44052\n",
      "[208]\tvalidation_0-mlogloss:0.44048\n",
      "[209]\tvalidation_0-mlogloss:0.44047\n",
      "[210]\tvalidation_0-mlogloss:0.44047\n",
      "[211]\tvalidation_0-mlogloss:0.44047\n",
      "[212]\tvalidation_0-mlogloss:0.44047\n",
      "[213]\tvalidation_0-mlogloss:0.44044\n",
      "[214]\tvalidation_0-mlogloss:0.44044\n",
      "[215]\tvalidation_0-mlogloss:0.44043\n",
      "[216]\tvalidation_0-mlogloss:0.44043\n",
      "[217]\tvalidation_0-mlogloss:0.44042\n",
      "[218]\tvalidation_0-mlogloss:0.44042\n",
      "[219]\tvalidation_0-mlogloss:0.44040\n",
      "[220]\tvalidation_0-mlogloss:0.44036\n",
      "[221]\tvalidation_0-mlogloss:0.44036\n",
      "[222]\tvalidation_0-mlogloss:0.44036\n",
      "[223]\tvalidation_0-mlogloss:0.44036\n",
      "[224]\tvalidation_0-mlogloss:0.44037\n",
      "[225]\tvalidation_0-mlogloss:0.44034\n",
      "[226]\tvalidation_0-mlogloss:0.44034\n",
      "[227]\tvalidation_0-mlogloss:0.44034\n",
      "[228]\tvalidation_0-mlogloss:0.44033\n",
      "[229]\tvalidation_0-mlogloss:0.44032\n",
      "[230]\tvalidation_0-mlogloss:0.44032\n",
      "[231]\tvalidation_0-mlogloss:0.44030\n",
      "[232]\tvalidation_0-mlogloss:0.44027\n",
      "[233]\tvalidation_0-mlogloss:0.44026\n",
      "[234]\tvalidation_0-mlogloss:0.44024\n",
      "[235]\tvalidation_0-mlogloss:0.44022\n",
      "[236]\tvalidation_0-mlogloss:0.44016\n",
      "[237]\tvalidation_0-mlogloss:0.44015\n",
      "[238]\tvalidation_0-mlogloss:0.44015\n",
      "[239]\tvalidation_0-mlogloss:0.44014\n",
      "[240]\tvalidation_0-mlogloss:0.44008\n",
      "[241]\tvalidation_0-mlogloss:0.44002\n",
      "[242]\tvalidation_0-mlogloss:0.43997\n",
      "[243]\tvalidation_0-mlogloss:0.43997\n",
      "[244]\tvalidation_0-mlogloss:0.43995\n",
      "[245]\tvalidation_0-mlogloss:0.43994\n",
      "[246]\tvalidation_0-mlogloss:0.43994\n",
      "[247]\tvalidation_0-mlogloss:0.43992\n",
      "[248]\tvalidation_0-mlogloss:0.43991\n",
      "[249]\tvalidation_0-mlogloss:0.43988\n",
      "[250]\tvalidation_0-mlogloss:0.43988\n",
      "[251]\tvalidation_0-mlogloss:0.43984\n",
      "[252]\tvalidation_0-mlogloss:0.43983\n",
      "[253]\tvalidation_0-mlogloss:0.43984\n",
      "[254]\tvalidation_0-mlogloss:0.43980\n",
      "[255]\tvalidation_0-mlogloss:0.43976\n",
      "[256]\tvalidation_0-mlogloss:0.43973\n",
      "[257]\tvalidation_0-mlogloss:0.43973\n",
      "[258]\tvalidation_0-mlogloss:0.43970\n",
      "[259]\tvalidation_0-mlogloss:0.43968\n",
      "[260]\tvalidation_0-mlogloss:0.43964\n",
      "[261]\tvalidation_0-mlogloss:0.43963\n",
      "[262]\tvalidation_0-mlogloss:0.43962\n",
      "[263]\tvalidation_0-mlogloss:0.43959\n",
      "[264]\tvalidation_0-mlogloss:0.43957\n",
      "[265]\tvalidation_0-mlogloss:0.43957\n",
      "[266]\tvalidation_0-mlogloss:0.43954\n",
      "[267]\tvalidation_0-mlogloss:0.43952\n",
      "[268]\tvalidation_0-mlogloss:0.43947\n",
      "[269]\tvalidation_0-mlogloss:0.43947\n",
      "[270]\tvalidation_0-mlogloss:0.43948\n",
      "[271]\tvalidation_0-mlogloss:0.43948\n",
      "[272]\tvalidation_0-mlogloss:0.43948\n",
      "[273]\tvalidation_0-mlogloss:0.43947\n",
      "[274]\tvalidation_0-mlogloss:0.43946\n",
      "[275]\tvalidation_0-mlogloss:0.43946\n",
      "[276]\tvalidation_0-mlogloss:0.43947\n",
      "[277]\tvalidation_0-mlogloss:0.43945\n",
      "[278]\tvalidation_0-mlogloss:0.43945\n",
      "[279]\tvalidation_0-mlogloss:0.43940\n",
      "[280]\tvalidation_0-mlogloss:0.43940\n",
      "[281]\tvalidation_0-mlogloss:0.43939\n",
      "[282]\tvalidation_0-mlogloss:0.43937\n",
      "[283]\tvalidation_0-mlogloss:0.43936\n",
      "[284]\tvalidation_0-mlogloss:0.43936\n",
      "[285]\tvalidation_0-mlogloss:0.43936\n",
      "[286]\tvalidation_0-mlogloss:0.43936\n",
      "[287]\tvalidation_0-mlogloss:0.43932\n",
      "[288]\tvalidation_0-mlogloss:0.43929\n",
      "[289]\tvalidation_0-mlogloss:0.43929\n",
      "[290]\tvalidation_0-mlogloss:0.43929\n",
      "[291]\tvalidation_0-mlogloss:0.43928\n",
      "[292]\tvalidation_0-mlogloss:0.43927\n",
      "[293]\tvalidation_0-mlogloss:0.43926\n",
      "[294]\tvalidation_0-mlogloss:0.43922\n",
      "[295]\tvalidation_0-mlogloss:0.43921\n",
      "[296]\tvalidation_0-mlogloss:0.43921\n",
      "[297]\tvalidation_0-mlogloss:0.43921\n",
      "[298]\tvalidation_0-mlogloss:0.43920\n",
      "[299]\tvalidation_0-mlogloss:0.43919\n",
      "[300]\tvalidation_0-mlogloss:0.43918\n",
      "[301]\tvalidation_0-mlogloss:0.43918\n",
      "[302]\tvalidation_0-mlogloss:0.43918\n",
      "[303]\tvalidation_0-mlogloss:0.43918\n",
      "[304]\tvalidation_0-mlogloss:0.43914\n",
      "[305]\tvalidation_0-mlogloss:0.43914\n",
      "[306]\tvalidation_0-mlogloss:0.43914\n",
      "[307]\tvalidation_0-mlogloss:0.43914\n",
      "[308]\tvalidation_0-mlogloss:0.43914\n",
      "[309]\tvalidation_0-mlogloss:0.43913\n",
      "[310]\tvalidation_0-mlogloss:0.43910\n",
      "[311]\tvalidation_0-mlogloss:0.43910\n",
      "[312]\tvalidation_0-mlogloss:0.43910\n",
      "[313]\tvalidation_0-mlogloss:0.43910\n",
      "[314]\tvalidation_0-mlogloss:0.43910\n",
      "[315]\tvalidation_0-mlogloss:0.43905\n",
      "[316]\tvalidation_0-mlogloss:0.43905\n",
      "[317]\tvalidation_0-mlogloss:0.43904\n",
      "[318]\tvalidation_0-mlogloss:0.43903\n",
      "[319]\tvalidation_0-mlogloss:0.43902\n",
      "[320]\tvalidation_0-mlogloss:0.43899\n",
      "[321]\tvalidation_0-mlogloss:0.43899\n",
      "[322]\tvalidation_0-mlogloss:0.43897\n",
      "[323]\tvalidation_0-mlogloss:0.43896\n",
      "[324]\tvalidation_0-mlogloss:0.43896\n",
      "[325]\tvalidation_0-mlogloss:0.43896\n",
      "[326]\tvalidation_0-mlogloss:0.43896\n",
      "[327]\tvalidation_0-mlogloss:0.43896\n",
      "[328]\tvalidation_0-mlogloss:0.43895\n",
      "[329]\tvalidation_0-mlogloss:0.43894\n",
      "[330]\tvalidation_0-mlogloss:0.43893\n",
      "[331]\tvalidation_0-mlogloss:0.43890\n",
      "[332]\tvalidation_0-mlogloss:0.43890\n",
      "[333]\tvalidation_0-mlogloss:0.43890\n",
      "[334]\tvalidation_0-mlogloss:0.43890\n",
      "[335]\tvalidation_0-mlogloss:0.43888\n",
      "[336]\tvalidation_0-mlogloss:0.43888\n",
      "[337]\tvalidation_0-mlogloss:0.43888\n",
      "[338]\tvalidation_0-mlogloss:0.43888\n",
      "[339]\tvalidation_0-mlogloss:0.43886\n",
      "[340]\tvalidation_0-mlogloss:0.43886\n",
      "[341]\tvalidation_0-mlogloss:0.43885\n",
      "[342]\tvalidation_0-mlogloss:0.43885\n",
      "[343]\tvalidation_0-mlogloss:0.43885\n",
      "[344]\tvalidation_0-mlogloss:0.43884\n",
      "[345]\tvalidation_0-mlogloss:0.43883\n",
      "[346]\tvalidation_0-mlogloss:0.43883\n",
      "[347]\tvalidation_0-mlogloss:0.43882\n",
      "[348]\tvalidation_0-mlogloss:0.43882\n",
      "[349]\tvalidation_0-mlogloss:0.43882\n",
      "[350]\tvalidation_0-mlogloss:0.43880\n",
      "[351]\tvalidation_0-mlogloss:0.43880\n",
      "[352]\tvalidation_0-mlogloss:0.43880\n",
      "[353]\tvalidation_0-mlogloss:0.43877\n",
      "[354]\tvalidation_0-mlogloss:0.43875\n",
      "[355]\tvalidation_0-mlogloss:0.43875\n",
      "[356]\tvalidation_0-mlogloss:0.43875\n",
      "[357]\tvalidation_0-mlogloss:0.43875\n",
      "[358]\tvalidation_0-mlogloss:0.43875\n",
      "[359]\tvalidation_0-mlogloss:0.43874\n",
      "[360]\tvalidation_0-mlogloss:0.43873\n",
      "[361]\tvalidation_0-mlogloss:0.43872\n",
      "[362]\tvalidation_0-mlogloss:0.43872\n",
      "[363]\tvalidation_0-mlogloss:0.43869\n",
      "[364]\tvalidation_0-mlogloss:0.43868\n",
      "[365]\tvalidation_0-mlogloss:0.43867\n",
      "[366]\tvalidation_0-mlogloss:0.43866\n",
      "[367]\tvalidation_0-mlogloss:0.43866\n",
      "[368]\tvalidation_0-mlogloss:0.43865\n",
      "[369]\tvalidation_0-mlogloss:0.43865\n",
      "[370]\tvalidation_0-mlogloss:0.43865\n",
      "[371]\tvalidation_0-mlogloss:0.43865\n",
      "[372]\tvalidation_0-mlogloss:0.43865\n",
      "[373]\tvalidation_0-mlogloss:0.43863\n",
      "[374]\tvalidation_0-mlogloss:0.43862\n",
      "[375]\tvalidation_0-mlogloss:0.43861\n",
      "[376]\tvalidation_0-mlogloss:0.43861\n",
      "[377]\tvalidation_0-mlogloss:0.43861\n",
      "[378]\tvalidation_0-mlogloss:0.43861\n",
      "[379]\tvalidation_0-mlogloss:0.43861\n",
      "[380]\tvalidation_0-mlogloss:0.43861\n",
      "[381]\tvalidation_0-mlogloss:0.43861\n",
      "[382]\tvalidation_0-mlogloss:0.43859\n",
      "[383]\tvalidation_0-mlogloss:0.43859\n",
      "[384]\tvalidation_0-mlogloss:0.43858\n",
      "[385]\tvalidation_0-mlogloss:0.43857\n",
      "[386]\tvalidation_0-mlogloss:0.43854\n",
      "[387]\tvalidation_0-mlogloss:0.43855\n",
      "[388]\tvalidation_0-mlogloss:0.43853\n",
      "[389]\tvalidation_0-mlogloss:0.43853\n",
      "[390]\tvalidation_0-mlogloss:0.43853\n",
      "[391]\tvalidation_0-mlogloss:0.43852\n",
      "[392]\tvalidation_0-mlogloss:0.43852\n",
      "[393]\tvalidation_0-mlogloss:0.43851\n",
      "[394]\tvalidation_0-mlogloss:0.43848\n",
      "[395]\tvalidation_0-mlogloss:0.43848\n",
      "[396]\tvalidation_0-mlogloss:0.43848\n",
      "[397]\tvalidation_0-mlogloss:0.43848\n",
      "[398]\tvalidation_0-mlogloss:0.43846\n",
      "[399]\tvalidation_0-mlogloss:0.43846\n",
      "[400]\tvalidation_0-mlogloss:0.43845\n",
      "[401]\tvalidation_0-mlogloss:0.43841\n",
      "[402]\tvalidation_0-mlogloss:0.43838\n",
      "[403]\tvalidation_0-mlogloss:0.43838\n",
      "[404]\tvalidation_0-mlogloss:0.43838\n",
      "[405]\tvalidation_0-mlogloss:0.43838\n",
      "[406]\tvalidation_0-mlogloss:0.43836\n",
      "[407]\tvalidation_0-mlogloss:0.43836\n",
      "[408]\tvalidation_0-mlogloss:0.43836\n",
      "[409]\tvalidation_0-mlogloss:0.43836\n",
      "[410]\tvalidation_0-mlogloss:0.43836\n",
      "[411]\tvalidation_0-mlogloss:0.43836\n",
      "[412]\tvalidation_0-mlogloss:0.43836\n",
      "[413]\tvalidation_0-mlogloss:0.43836\n",
      "[414]\tvalidation_0-mlogloss:0.43836\n",
      "[415]\tvalidation_0-mlogloss:0.43836\n",
      "[416]\tvalidation_0-mlogloss:0.43836\n",
      "[417]\tvalidation_0-mlogloss:0.43834\n",
      "[418]\tvalidation_0-mlogloss:0.43834\n",
      "[419]\tvalidation_0-mlogloss:0.43832\n",
      "[420]\tvalidation_0-mlogloss:0.43832\n",
      "[421]\tvalidation_0-mlogloss:0.43832\n",
      "[422]\tvalidation_0-mlogloss:0.43831\n",
      "[423]\tvalidation_0-mlogloss:0.43831\n",
      "[424]\tvalidation_0-mlogloss:0.43831\n",
      "[425]\tvalidation_0-mlogloss:0.43831\n",
      "[426]\tvalidation_0-mlogloss:0.43831\n",
      "[427]\tvalidation_0-mlogloss:0.43831\n",
      "[428]\tvalidation_0-mlogloss:0.43826\n",
      "[429]\tvalidation_0-mlogloss:0.43825\n",
      "[430]\tvalidation_0-mlogloss:0.43824\n",
      "[431]\tvalidation_0-mlogloss:0.43824\n",
      "[432]\tvalidation_0-mlogloss:0.43824\n",
      "[433]\tvalidation_0-mlogloss:0.43823\n",
      "[434]\tvalidation_0-mlogloss:0.43823\n",
      "[435]\tvalidation_0-mlogloss:0.43823\n",
      "[436]\tvalidation_0-mlogloss:0.43823\n",
      "[437]\tvalidation_0-mlogloss:0.43823\n",
      "[438]\tvalidation_0-mlogloss:0.43823\n",
      "[439]\tvalidation_0-mlogloss:0.43823\n",
      "[440]\tvalidation_0-mlogloss:0.43823\n",
      "[441]\tvalidation_0-mlogloss:0.43823\n",
      "[442]\tvalidation_0-mlogloss:0.43819\n",
      "[443]\tvalidation_0-mlogloss:0.43819\n",
      "[444]\tvalidation_0-mlogloss:0.43819\n",
      "[445]\tvalidation_0-mlogloss:0.43817\n",
      "[446]\tvalidation_0-mlogloss:0.43817\n",
      "[447]\tvalidation_0-mlogloss:0.43816\n",
      "[448]\tvalidation_0-mlogloss:0.43816\n",
      "[449]\tvalidation_0-mlogloss:0.43816\n",
      "[450]\tvalidation_0-mlogloss:0.43816\n",
      "[451]\tvalidation_0-mlogloss:0.43815\n",
      "[452]\tvalidation_0-mlogloss:0.43815\n",
      "[453]\tvalidation_0-mlogloss:0.43815\n",
      "[454]\tvalidation_0-mlogloss:0.43815\n",
      "[455]\tvalidation_0-mlogloss:0.43815\n",
      "[456]\tvalidation_0-mlogloss:0.43815\n",
      "[457]\tvalidation_0-mlogloss:0.43812\n",
      "[458]\tvalidation_0-mlogloss:0.43812\n",
      "[459]\tvalidation_0-mlogloss:0.43812\n",
      "[460]\tvalidation_0-mlogloss:0.43812\n",
      "[461]\tvalidation_0-mlogloss:0.43812\n",
      "[462]\tvalidation_0-mlogloss:0.43812\n",
      "[463]\tvalidation_0-mlogloss:0.43812\n",
      "[464]\tvalidation_0-mlogloss:0.43811\n",
      "[465]\tvalidation_0-mlogloss:0.43811\n",
      "[466]\tvalidation_0-mlogloss:0.43811\n",
      "[467]\tvalidation_0-mlogloss:0.43811\n",
      "[468]\tvalidation_0-mlogloss:0.43811\n",
      "[469]\tvalidation_0-mlogloss:0.43811\n",
      "[470]\tvalidation_0-mlogloss:0.43811\n",
      "[471]\tvalidation_0-mlogloss:0.43811\n",
      "[472]\tvalidation_0-mlogloss:0.43811\n",
      "[473]\tvalidation_0-mlogloss:0.43811\n",
      "[474]\tvalidation_0-mlogloss:0.43808\n",
      "[475]\tvalidation_0-mlogloss:0.43808\n",
      "[476]\tvalidation_0-mlogloss:0.43807\n",
      "[477]\tvalidation_0-mlogloss:0.43807\n",
      "[478]\tvalidation_0-mlogloss:0.43807\n",
      "[479]\tvalidation_0-mlogloss:0.43807\n",
      "[480]\tvalidation_0-mlogloss:0.43807\n",
      "[481]\tvalidation_0-mlogloss:0.43807\n",
      "[482]\tvalidation_0-mlogloss:0.43803\n",
      "[483]\tvalidation_0-mlogloss:0.43803\n",
      "[484]\tvalidation_0-mlogloss:0.43803\n",
      "[485]\tvalidation_0-mlogloss:0.43803\n",
      "[486]\tvalidation_0-mlogloss:0.43800\n",
      "[487]\tvalidation_0-mlogloss:0.43800\n",
      "[488]\tvalidation_0-mlogloss:0.43800\n",
      "[489]\tvalidation_0-mlogloss:0.43799\n",
      "[490]\tvalidation_0-mlogloss:0.43797\n",
      "[491]\tvalidation_0-mlogloss:0.43797\n",
      "[492]\tvalidation_0-mlogloss:0.43797\n",
      "[493]\tvalidation_0-mlogloss:0.43797\n",
      "[494]\tvalidation_0-mlogloss:0.43797\n",
      "[495]\tvalidation_0-mlogloss:0.43797\n",
      "[496]\tvalidation_0-mlogloss:0.43797\n",
      "[497]\tvalidation_0-mlogloss:0.43797\n",
      "[498]\tvalidation_0-mlogloss:0.43797\n",
      "[499]\tvalidation_0-mlogloss:0.43796\n",
      "[500]\tvalidation_0-mlogloss:0.43796\n",
      "[501]\tvalidation_0-mlogloss:0.43796\n",
      "[502]\tvalidation_0-mlogloss:0.43796\n",
      "[503]\tvalidation_0-mlogloss:0.43795\n",
      "[504]\tvalidation_0-mlogloss:0.43795\n",
      "[505]\tvalidation_0-mlogloss:0.43795\n",
      "[506]\tvalidation_0-mlogloss:0.43795\n",
      "[507]\tvalidation_0-mlogloss:0.43795\n",
      "[508]\tvalidation_0-mlogloss:0.43795\n",
      "[509]\tvalidation_0-mlogloss:0.43795\n",
      "[510]\tvalidation_0-mlogloss:0.43794\n",
      "[511]\tvalidation_0-mlogloss:0.43794\n",
      "[512]\tvalidation_0-mlogloss:0.43793\n",
      "[513]\tvalidation_0-mlogloss:0.43793\n",
      "[514]\tvalidation_0-mlogloss:0.43793\n",
      "[515]\tvalidation_0-mlogloss:0.43791\n",
      "[516]\tvalidation_0-mlogloss:0.43791\n",
      "[517]\tvalidation_0-mlogloss:0.43791\n",
      "[518]\tvalidation_0-mlogloss:0.43789\n",
      "[519]\tvalidation_0-mlogloss:0.43789\n",
      "[520]\tvalidation_0-mlogloss:0.43789\n",
      "[521]\tvalidation_0-mlogloss:0.43789\n",
      "[522]\tvalidation_0-mlogloss:0.43789\n",
      "[523]\tvalidation_0-mlogloss:0.43789\n",
      "[524]\tvalidation_0-mlogloss:0.43789\n",
      "[525]\tvalidation_0-mlogloss:0.43789\n",
      "[526]\tvalidation_0-mlogloss:0.43789\n",
      "[527]\tvalidation_0-mlogloss:0.43789\n",
      "[528]\tvalidation_0-mlogloss:0.43789\n",
      "[529]\tvalidation_0-mlogloss:0.43789\n",
      "[530]\tvalidation_0-mlogloss:0.43788\n",
      "[531]\tvalidation_0-mlogloss:0.43784\n",
      "[532]\tvalidation_0-mlogloss:0.43784\n",
      "[533]\tvalidation_0-mlogloss:0.43785\n",
      "[534]\tvalidation_0-mlogloss:0.43784\n",
      "[535]\tvalidation_0-mlogloss:0.43783\n",
      "[536]\tvalidation_0-mlogloss:0.43782\n",
      "[537]\tvalidation_0-mlogloss:0.43781\n",
      "[538]\tvalidation_0-mlogloss:0.43781\n",
      "[539]\tvalidation_0-mlogloss:0.43781\n",
      "[540]\tvalidation_0-mlogloss:0.43781\n",
      "[541]\tvalidation_0-mlogloss:0.43780\n",
      "[542]\tvalidation_0-mlogloss:0.43780\n",
      "[543]\tvalidation_0-mlogloss:0.43780\n",
      "[544]\tvalidation_0-mlogloss:0.43780\n",
      "[545]\tvalidation_0-mlogloss:0.43780\n",
      "[546]\tvalidation_0-mlogloss:0.43778\n",
      "[547]\tvalidation_0-mlogloss:0.43778\n",
      "[548]\tvalidation_0-mlogloss:0.43778\n",
      "[549]\tvalidation_0-mlogloss:0.43778\n",
      "[550]\tvalidation_0-mlogloss:0.43778\n",
      "[551]\tvalidation_0-mlogloss:0.43778\n",
      "[552]\tvalidation_0-mlogloss:0.43778\n",
      "[553]\tvalidation_0-mlogloss:0.43778\n",
      "[554]\tvalidation_0-mlogloss:0.43778\n",
      "[555]\tvalidation_0-mlogloss:0.43778\n",
      "[556]\tvalidation_0-mlogloss:0.43778\n",
      "[557]\tvalidation_0-mlogloss:0.43778\n",
      "[558]\tvalidation_0-mlogloss:0.43777\n",
      "[559]\tvalidation_0-mlogloss:0.43777\n",
      "[560]\tvalidation_0-mlogloss:0.43774\n",
      "[561]\tvalidation_0-mlogloss:0.43774\n",
      "[562]\tvalidation_0-mlogloss:0.43774\n",
      "[563]\tvalidation_0-mlogloss:0.43774\n",
      "[564]\tvalidation_0-mlogloss:0.43774\n",
      "[565]\tvalidation_0-mlogloss:0.43774\n",
      "[566]\tvalidation_0-mlogloss:0.43770\n",
      "[567]\tvalidation_0-mlogloss:0.43770\n",
      "[568]\tvalidation_0-mlogloss:0.43770\n",
      "[569]\tvalidation_0-mlogloss:0.43770\n",
      "[570]\tvalidation_0-mlogloss:0.43769\n",
      "[571]\tvalidation_0-mlogloss:0.43769\n",
      "[572]\tvalidation_0-mlogloss:0.43769\n",
      "[573]\tvalidation_0-mlogloss:0.43768\n",
      "[574]\tvalidation_0-mlogloss:0.43768\n",
      "[575]\tvalidation_0-mlogloss:0.43768\n",
      "[576]\tvalidation_0-mlogloss:0.43768\n",
      "[577]\tvalidation_0-mlogloss:0.43768\n",
      "[578]\tvalidation_0-mlogloss:0.43768\n",
      "[579]\tvalidation_0-mlogloss:0.43768\n",
      "[580]\tvalidation_0-mlogloss:0.43768\n",
      "[581]\tvalidation_0-mlogloss:0.43768\n",
      "[582]\tvalidation_0-mlogloss:0.43768\n",
      "[583]\tvalidation_0-mlogloss:0.43767\n",
      "[584]\tvalidation_0-mlogloss:0.43767\n",
      "[585]\tvalidation_0-mlogloss:0.43767\n",
      "[586]\tvalidation_0-mlogloss:0.43767\n",
      "[587]\tvalidation_0-mlogloss:0.43767\n",
      "[588]\tvalidation_0-mlogloss:0.43767\n",
      "[589]\tvalidation_0-mlogloss:0.43767\n",
      "[590]\tvalidation_0-mlogloss:0.43767\n",
      "[591]\tvalidation_0-mlogloss:0.43767\n",
      "[592]\tvalidation_0-mlogloss:0.43767\n",
      "[593]\tvalidation_0-mlogloss:0.43765\n",
      "[594]\tvalidation_0-mlogloss:0.43765\n",
      "[595]\tvalidation_0-mlogloss:0.43765\n",
      "[596]\tvalidation_0-mlogloss:0.43763\n",
      "[597]\tvalidation_0-mlogloss:0.43763\n",
      "[598]\tvalidation_0-mlogloss:0.43763\n",
      "[599]\tvalidation_0-mlogloss:0.43762\n",
      "[600]\tvalidation_0-mlogloss:0.43762\n",
      "[601]\tvalidation_0-mlogloss:0.43760\n",
      "[602]\tvalidation_0-mlogloss:0.43759\n",
      "[603]\tvalidation_0-mlogloss:0.43759\n",
      "[604]\tvalidation_0-mlogloss:0.43759\n",
      "[605]\tvalidation_0-mlogloss:0.43759\n",
      "[606]\tvalidation_0-mlogloss:0.43759\n",
      "[607]\tvalidation_0-mlogloss:0.43759\n",
      "[608]\tvalidation_0-mlogloss:0.43759\n",
      "[609]\tvalidation_0-mlogloss:0.43758\n",
      "[610]\tvalidation_0-mlogloss:0.43758\n",
      "[611]\tvalidation_0-mlogloss:0.43758\n",
      "[612]\tvalidation_0-mlogloss:0.43758\n",
      "[613]\tvalidation_0-mlogloss:0.43758\n",
      "[614]\tvalidation_0-mlogloss:0.43758\n",
      "[615]\tvalidation_0-mlogloss:0.43759\n",
      "[616]\tvalidation_0-mlogloss:0.43759\n",
      "[617]\tvalidation_0-mlogloss:0.43759\n",
      "[618]\tvalidation_0-mlogloss:0.43758\n",
      "[619]\tvalidation_0-mlogloss:0.43758\n",
      "[620]\tvalidation_0-mlogloss:0.43758\n",
      "[621]\tvalidation_0-mlogloss:0.43756\n",
      "[622]\tvalidation_0-mlogloss:0.43756\n",
      "[623]\tvalidation_0-mlogloss:0.43756\n",
      "[624]\tvalidation_0-mlogloss:0.43756\n",
      "[625]\tvalidation_0-mlogloss:0.43756\n",
      "[626]\tvalidation_0-mlogloss:0.43756\n",
      "[627]\tvalidation_0-mlogloss:0.43756\n",
      "[628]\tvalidation_0-mlogloss:0.43756\n",
      "[629]\tvalidation_0-mlogloss:0.43756\n",
      "[630]\tvalidation_0-mlogloss:0.43756\n",
      "[631]\tvalidation_0-mlogloss:0.43755\n",
      "[632]\tvalidation_0-mlogloss:0.43756\n",
      "[633]\tvalidation_0-mlogloss:0.43755\n",
      "[634]\tvalidation_0-mlogloss:0.43755\n",
      "[635]\tvalidation_0-mlogloss:0.43753\n",
      "[636]\tvalidation_0-mlogloss:0.43754\n",
      "[637]\tvalidation_0-mlogloss:0.43754\n",
      "[638]\tvalidation_0-mlogloss:0.43754\n",
      "[639]\tvalidation_0-mlogloss:0.43754\n",
      "[640]\tvalidation_0-mlogloss:0.43754\n",
      "[641]\tvalidation_0-mlogloss:0.43754\n",
      "[642]\tvalidation_0-mlogloss:0.43753\n",
      "[643]\tvalidation_0-mlogloss:0.43753\n",
      "[644]\tvalidation_0-mlogloss:0.43751\n",
      "[645]\tvalidation_0-mlogloss:0.43751\n",
      "[646]\tvalidation_0-mlogloss:0.43751\n",
      "[647]\tvalidation_0-mlogloss:0.43751\n",
      "[648]\tvalidation_0-mlogloss:0.43751\n",
      "[649]\tvalidation_0-mlogloss:0.43751\n",
      "[650]\tvalidation_0-mlogloss:0.43751\n",
      "[651]\tvalidation_0-mlogloss:0.43751\n",
      "[652]\tvalidation_0-mlogloss:0.43750\n",
      "[653]\tvalidation_0-mlogloss:0.43749\n",
      "[654]\tvalidation_0-mlogloss:0.43749\n",
      "[655]\tvalidation_0-mlogloss:0.43748\n",
      "[656]\tvalidation_0-mlogloss:0.43748\n",
      "[657]\tvalidation_0-mlogloss:0.43748\n",
      "[658]\tvalidation_0-mlogloss:0.43748\n",
      "[659]\tvalidation_0-mlogloss:0.43747\n",
      "[660]\tvalidation_0-mlogloss:0.43747\n",
      "[661]\tvalidation_0-mlogloss:0.43748\n",
      "[662]\tvalidation_0-mlogloss:0.43748\n",
      "[663]\tvalidation_0-mlogloss:0.43748\n",
      "[664]\tvalidation_0-mlogloss:0.43748\n",
      "[665]\tvalidation_0-mlogloss:0.43747\n",
      "[666]\tvalidation_0-mlogloss:0.43747\n",
      "[667]\tvalidation_0-mlogloss:0.43747\n",
      "[668]\tvalidation_0-mlogloss:0.43747\n",
      "[669]\tvalidation_0-mlogloss:0.43746\n",
      "[670]\tvalidation_0-mlogloss:0.43746\n",
      "[671]\tvalidation_0-mlogloss:0.43746\n",
      "[672]\tvalidation_0-mlogloss:0.43745\n",
      "[673]\tvalidation_0-mlogloss:0.43745\n",
      "[674]\tvalidation_0-mlogloss:0.43745\n",
      "[675]\tvalidation_0-mlogloss:0.43745\n",
      "[676]\tvalidation_0-mlogloss:0.43745\n",
      "[677]\tvalidation_0-mlogloss:0.43745\n",
      "[678]\tvalidation_0-mlogloss:0.43745\n",
      "[679]\tvalidation_0-mlogloss:0.43745\n",
      "[680]\tvalidation_0-mlogloss:0.43745\n",
      "[681]\tvalidation_0-mlogloss:0.43743\n",
      "[682]\tvalidation_0-mlogloss:0.43743\n",
      "[683]\tvalidation_0-mlogloss:0.43743\n",
      "[684]\tvalidation_0-mlogloss:0.43742\n",
      "[685]\tvalidation_0-mlogloss:0.43742\n",
      "[686]\tvalidation_0-mlogloss:0.43742\n",
      "[687]\tvalidation_0-mlogloss:0.43742\n",
      "[688]\tvalidation_0-mlogloss:0.43742\n",
      "[689]\tvalidation_0-mlogloss:0.43741\n",
      "[690]\tvalidation_0-mlogloss:0.43741\n",
      "[691]\tvalidation_0-mlogloss:0.43741\n",
      "[692]\tvalidation_0-mlogloss:0.43741\n",
      "[693]\tvalidation_0-mlogloss:0.43741\n",
      "[694]\tvalidation_0-mlogloss:0.43740\n",
      "[695]\tvalidation_0-mlogloss:0.43740\n",
      "[696]\tvalidation_0-mlogloss:0.43740\n",
      "[697]\tvalidation_0-mlogloss:0.43739\n",
      "[698]\tvalidation_0-mlogloss:0.43739\n",
      "[699]\tvalidation_0-mlogloss:0.43739\n",
      "[700]\tvalidation_0-mlogloss:0.43739\n",
      "[701]\tvalidation_0-mlogloss:0.43739\n",
      "[702]\tvalidation_0-mlogloss:0.43739\n",
      "[703]\tvalidation_0-mlogloss:0.43739\n",
      "[704]\tvalidation_0-mlogloss:0.43739\n",
      "[705]\tvalidation_0-mlogloss:0.43739\n",
      "[706]\tvalidation_0-mlogloss:0.43739\n",
      "[707]\tvalidation_0-mlogloss:0.43739\n",
      "[708]\tvalidation_0-mlogloss:0.43739\n",
      "[709]\tvalidation_0-mlogloss:0.43739\n",
      "[710]\tvalidation_0-mlogloss:0.43739\n",
      "[711]\tvalidation_0-mlogloss:0.43739\n",
      "[712]\tvalidation_0-mlogloss:0.43739\n",
      "[713]\tvalidation_0-mlogloss:0.43739\n",
      "[714]\tvalidation_0-mlogloss:0.43739\n",
      "[715]\tvalidation_0-mlogloss:0.43739\n",
      "[716]\tvalidation_0-mlogloss:0.43739\n",
      "[717]\tvalidation_0-mlogloss:0.43739\n",
      "[718]\tvalidation_0-mlogloss:0.43738\n",
      "[719]\tvalidation_0-mlogloss:0.43738\n",
      "[720]\tvalidation_0-mlogloss:0.43738\n",
      "[721]\tvalidation_0-mlogloss:0.43738\n",
      "[722]\tvalidation_0-mlogloss:0.43738\n",
      "[723]\tvalidation_0-mlogloss:0.43736\n",
      "[724]\tvalidation_0-mlogloss:0.43734\n",
      "[725]\tvalidation_0-mlogloss:0.43734\n",
      "[726]\tvalidation_0-mlogloss:0.43734\n",
      "[727]\tvalidation_0-mlogloss:0.43734\n",
      "[728]\tvalidation_0-mlogloss:0.43733\n",
      "[729]\tvalidation_0-mlogloss:0.43732\n",
      "[730]\tvalidation_0-mlogloss:0.43732\n",
      "[731]\tvalidation_0-mlogloss:0.43732\n",
      "[732]\tvalidation_0-mlogloss:0.43732\n",
      "[733]\tvalidation_0-mlogloss:0.43732\n",
      "[734]\tvalidation_0-mlogloss:0.43732\n",
      "[735]\tvalidation_0-mlogloss:0.43732\n",
      "[736]\tvalidation_0-mlogloss:0.43732\n",
      "[737]\tvalidation_0-mlogloss:0.43732\n",
      "[738]\tvalidation_0-mlogloss:0.43732\n",
      "[739]\tvalidation_0-mlogloss:0.43732\n",
      "[740]\tvalidation_0-mlogloss:0.43732\n",
      "[741]\tvalidation_0-mlogloss:0.43732\n",
      "[742]\tvalidation_0-mlogloss:0.43732\n",
      "[743]\tvalidation_0-mlogloss:0.43732\n",
      "[744]\tvalidation_0-mlogloss:0.43732\n",
      "[745]\tvalidation_0-mlogloss:0.43732\n",
      "[746]\tvalidation_0-mlogloss:0.43732\n",
      "[747]\tvalidation_0-mlogloss:0.43732\n",
      "[748]\tvalidation_0-mlogloss:0.43732\n",
      "[749]\tvalidation_0-mlogloss:0.43732\n",
      "[750]\tvalidation_0-mlogloss:0.43732\n",
      "[751]\tvalidation_0-mlogloss:0.43732\n",
      "[752]\tvalidation_0-mlogloss:0.43732\n",
      "[753]\tvalidation_0-mlogloss:0.43732\n",
      "[754]\tvalidation_0-mlogloss:0.43732\n",
      "[755]\tvalidation_0-mlogloss:0.43732\n",
      "[756]\tvalidation_0-mlogloss:0.43732\n",
      "[757]\tvalidation_0-mlogloss:0.43730\n",
      "[758]\tvalidation_0-mlogloss:0.43730\n",
      "[759]\tvalidation_0-mlogloss:0.43730\n",
      "[760]\tvalidation_0-mlogloss:0.43729\n",
      "[761]\tvalidation_0-mlogloss:0.43729\n",
      "[762]\tvalidation_0-mlogloss:0.43729\n",
      "[763]\tvalidation_0-mlogloss:0.43729\n",
      "[764]\tvalidation_0-mlogloss:0.43729\n",
      "[765]\tvalidation_0-mlogloss:0.43726\n",
      "[766]\tvalidation_0-mlogloss:0.43723\n",
      "[767]\tvalidation_0-mlogloss:0.43723\n",
      "[768]\tvalidation_0-mlogloss:0.43722\n",
      "[769]\tvalidation_0-mlogloss:0.43722\n",
      "[770]\tvalidation_0-mlogloss:0.43722\n",
      "[771]\tvalidation_0-mlogloss:0.43722\n",
      "[772]\tvalidation_0-mlogloss:0.43722\n",
      "[773]\tvalidation_0-mlogloss:0.43722\n",
      "[774]\tvalidation_0-mlogloss:0.43723\n",
      "[775]\tvalidation_0-mlogloss:0.43723\n",
      "[776]\tvalidation_0-mlogloss:0.43723\n",
      "[777]\tvalidation_0-mlogloss:0.43723\n",
      "[778]\tvalidation_0-mlogloss:0.43722\n",
      "[779]\tvalidation_0-mlogloss:0.43723\n",
      "[780]\tvalidation_0-mlogloss:0.43723\n",
      "[781]\tvalidation_0-mlogloss:0.43723\n",
      "[782]\tvalidation_0-mlogloss:0.43723\n",
      "[783]\tvalidation_0-mlogloss:0.43723\n",
      "[784]\tvalidation_0-mlogloss:0.43723\n",
      "[785]\tvalidation_0-mlogloss:0.43723\n",
      "[786]\tvalidation_0-mlogloss:0.43723\n",
      "[787]\tvalidation_0-mlogloss:0.43723\n",
      "[788]\tvalidation_0-mlogloss:0.43723\n",
      "[789]\tvalidation_0-mlogloss:0.43723\n",
      "[790]\tvalidation_0-mlogloss:0.43723\n",
      "[791]\tvalidation_0-mlogloss:0.43723\n",
      "[792]\tvalidation_0-mlogloss:0.43723\n",
      "[793]\tvalidation_0-mlogloss:0.43723\n",
      "[794]\tvalidation_0-mlogloss:0.43723\n",
      "[795]\tvalidation_0-mlogloss:0.43723\n",
      "[796]\tvalidation_0-mlogloss:0.43723\n",
      "[797]\tvalidation_0-mlogloss:0.43723\n",
      "[798]\tvalidation_0-mlogloss:0.43723\n",
      "[799]\tvalidation_0-mlogloss:0.43723\n",
      "[800]\tvalidation_0-mlogloss:0.43723\n",
      "[801]\tvalidation_0-mlogloss:0.43723\n",
      "[802]\tvalidation_0-mlogloss:0.43723\n",
      "[803]\tvalidation_0-mlogloss:0.43723\n",
      "[804]\tvalidation_0-mlogloss:0.43723\n",
      "[805]\tvalidation_0-mlogloss:0.43721\n",
      "[806]\tvalidation_0-mlogloss:0.43721\n",
      "[807]\tvalidation_0-mlogloss:0.43721\n",
      "[808]\tvalidation_0-mlogloss:0.43721\n",
      "[809]\tvalidation_0-mlogloss:0.43721\n",
      "[810]\tvalidation_0-mlogloss:0.43721\n",
      "[811]\tvalidation_0-mlogloss:0.43721\n",
      "[812]\tvalidation_0-mlogloss:0.43719\n",
      "[813]\tvalidation_0-mlogloss:0.43719\n",
      "[814]\tvalidation_0-mlogloss:0.43719\n",
      "[815]\tvalidation_0-mlogloss:0.43719\n",
      "[816]\tvalidation_0-mlogloss:0.43719\n",
      "[817]\tvalidation_0-mlogloss:0.43719\n",
      "[818]\tvalidation_0-mlogloss:0.43719\n",
      "[819]\tvalidation_0-mlogloss:0.43719\n",
      "[820]\tvalidation_0-mlogloss:0.43719\n",
      "[821]\tvalidation_0-mlogloss:0.43719\n",
      "[822]\tvalidation_0-mlogloss:0.43719\n",
      "[823]\tvalidation_0-mlogloss:0.43718\n",
      "[824]\tvalidation_0-mlogloss:0.43718\n",
      "[825]\tvalidation_0-mlogloss:0.43718\n",
      "[826]\tvalidation_0-mlogloss:0.43718\n",
      "[827]\tvalidation_0-mlogloss:0.43718\n",
      "[828]\tvalidation_0-mlogloss:0.43717\n",
      "[829]\tvalidation_0-mlogloss:0.43717\n",
      "[830]\tvalidation_0-mlogloss:0.43717\n",
      "[831]\tvalidation_0-mlogloss:0.43718\n",
      "[832]\tvalidation_0-mlogloss:0.43717\n",
      "[833]\tvalidation_0-mlogloss:0.43717\n",
      "[834]\tvalidation_0-mlogloss:0.43717\n",
      "[835]\tvalidation_0-mlogloss:0.43717\n",
      "[836]\tvalidation_0-mlogloss:0.43717\n",
      "[837]\tvalidation_0-mlogloss:0.43717\n",
      "[838]\tvalidation_0-mlogloss:0.43716\n",
      "[839]\tvalidation_0-mlogloss:0.43716\n",
      "[840]\tvalidation_0-mlogloss:0.43716\n",
      "[841]\tvalidation_0-mlogloss:0.43716\n",
      "[842]\tvalidation_0-mlogloss:0.43716\n",
      "[843]\tvalidation_0-mlogloss:0.43716\n",
      "[844]\tvalidation_0-mlogloss:0.43716\n",
      "[845]\tvalidation_0-mlogloss:0.43716\n",
      "[846]\tvalidation_0-mlogloss:0.43716\n",
      "[847]\tvalidation_0-mlogloss:0.43716\n",
      "[848]\tvalidation_0-mlogloss:0.43716\n",
      "[849]\tvalidation_0-mlogloss:0.43716\n",
      "[850]\tvalidation_0-mlogloss:0.43716\n",
      "[851]\tvalidation_0-mlogloss:0.43716\n",
      "[852]\tvalidation_0-mlogloss:0.43716\n",
      "[853]\tvalidation_0-mlogloss:0.43716\n",
      "[854]\tvalidation_0-mlogloss:0.43716\n",
      "[855]\tvalidation_0-mlogloss:0.43716\n",
      "[856]\tvalidation_0-mlogloss:0.43715\n",
      "[857]\tvalidation_0-mlogloss:0.43715\n",
      "[858]\tvalidation_0-mlogloss:0.43715\n",
      "[859]\tvalidation_0-mlogloss:0.43715\n",
      "[860]\tvalidation_0-mlogloss:0.43715\n",
      "[861]\tvalidation_0-mlogloss:0.43715\n",
      "[862]\tvalidation_0-mlogloss:0.43715\n",
      "[863]\tvalidation_0-mlogloss:0.43715\n",
      "[864]\tvalidation_0-mlogloss:0.43715\n",
      "[865]\tvalidation_0-mlogloss:0.43715\n",
      "[866]\tvalidation_0-mlogloss:0.43715\n",
      "[867]\tvalidation_0-mlogloss:0.43715\n",
      "[868]\tvalidation_0-mlogloss:0.43715\n",
      "[869]\tvalidation_0-mlogloss:0.43715\n",
      "[870]\tvalidation_0-mlogloss:0.43715\n",
      "[871]\tvalidation_0-mlogloss:0.43715\n",
      "[872]\tvalidation_0-mlogloss:0.43715\n",
      "[873]\tvalidation_0-mlogloss:0.43714\n",
      "[874]\tvalidation_0-mlogloss:0.43714\n",
      "[875]\tvalidation_0-mlogloss:0.43714\n",
      "[876]\tvalidation_0-mlogloss:0.43714\n",
      "[877]\tvalidation_0-mlogloss:0.43713\n",
      "[878]\tvalidation_0-mlogloss:0.43713\n",
      "[879]\tvalidation_0-mlogloss:0.43711\n",
      "[880]\tvalidation_0-mlogloss:0.43711\n",
      "[881]\tvalidation_0-mlogloss:0.43711\n",
      "[882]\tvalidation_0-mlogloss:0.43711\n",
      "[883]\tvalidation_0-mlogloss:0.43709\n",
      "[884]\tvalidation_0-mlogloss:0.43709\n",
      "[885]\tvalidation_0-mlogloss:0.43709\n",
      "[886]\tvalidation_0-mlogloss:0.43709\n",
      "[887]\tvalidation_0-mlogloss:0.43709\n",
      "[888]\tvalidation_0-mlogloss:0.43709\n",
      "[889]\tvalidation_0-mlogloss:0.43709\n",
      "[890]\tvalidation_0-mlogloss:0.43709\n",
      "[891]\tvalidation_0-mlogloss:0.43709\n",
      "[892]\tvalidation_0-mlogloss:0.43709\n",
      "[893]\tvalidation_0-mlogloss:0.43709\n",
      "[894]\tvalidation_0-mlogloss:0.43708\n",
      "[895]\tvalidation_0-mlogloss:0.43708\n",
      "[896]\tvalidation_0-mlogloss:0.43708\n",
      "[897]\tvalidation_0-mlogloss:0.43708\n",
      "[898]\tvalidation_0-mlogloss:0.43708\n",
      "[899]\tvalidation_0-mlogloss:0.43708\n",
      "[900]\tvalidation_0-mlogloss:0.43708\n",
      "[901]\tvalidation_0-mlogloss:0.43707\n",
      "[902]\tvalidation_0-mlogloss:0.43707\n",
      "[903]\tvalidation_0-mlogloss:0.43707\n",
      "[904]\tvalidation_0-mlogloss:0.43707\n",
      "[905]\tvalidation_0-mlogloss:0.43707\n",
      "[906]\tvalidation_0-mlogloss:0.43707\n",
      "[907]\tvalidation_0-mlogloss:0.43707\n",
      "[908]\tvalidation_0-mlogloss:0.43707\n",
      "[909]\tvalidation_0-mlogloss:0.43707\n",
      "[910]\tvalidation_0-mlogloss:0.43707\n",
      "[911]\tvalidation_0-mlogloss:0.43707\n",
      "[912]\tvalidation_0-mlogloss:0.43707\n",
      "[913]\tvalidation_0-mlogloss:0.43707\n",
      "[914]\tvalidation_0-mlogloss:0.43706\n",
      "[915]\tvalidation_0-mlogloss:0.43706\n",
      "[916]\tvalidation_0-mlogloss:0.43706\n",
      "[917]\tvalidation_0-mlogloss:0.43706\n",
      "[918]\tvalidation_0-mlogloss:0.43706\n",
      "[919]\tvalidation_0-mlogloss:0.43706\n",
      "[920]\tvalidation_0-mlogloss:0.43706\n",
      "[921]\tvalidation_0-mlogloss:0.43706\n",
      "[922]\tvalidation_0-mlogloss:0.43706\n",
      "[923]\tvalidation_0-mlogloss:0.43706\n",
      "[924]\tvalidation_0-mlogloss:0.43707\n",
      "[925]\tvalidation_0-mlogloss:0.43707\n",
      "[926]\tvalidation_0-mlogloss:0.43707\n",
      "[927]\tvalidation_0-mlogloss:0.43707\n",
      "[928]\tvalidation_0-mlogloss:0.43707\n",
      "[929]\tvalidation_0-mlogloss:0.43707\n",
      "[930]\tvalidation_0-mlogloss:0.43707\n",
      "[931]\tvalidation_0-mlogloss:0.43707\n",
      "[932]\tvalidation_0-mlogloss:0.43705\n",
      "[933]\tvalidation_0-mlogloss:0.43705\n",
      "[934]\tvalidation_0-mlogloss:0.43705\n",
      "[935]\tvalidation_0-mlogloss:0.43705\n",
      "[936]\tvalidation_0-mlogloss:0.43705\n",
      "[937]\tvalidation_0-mlogloss:0.43705\n",
      "[938]\tvalidation_0-mlogloss:0.43705\n",
      "[939]\tvalidation_0-mlogloss:0.43705\n",
      "[940]\tvalidation_0-mlogloss:0.43705\n",
      "[941]\tvalidation_0-mlogloss:0.43705\n",
      "[942]\tvalidation_0-mlogloss:0.43705\n",
      "[943]\tvalidation_0-mlogloss:0.43705\n",
      "[944]\tvalidation_0-mlogloss:0.43704\n",
      "[945]\tvalidation_0-mlogloss:0.43704\n",
      "[946]\tvalidation_0-mlogloss:0.43703\n",
      "[947]\tvalidation_0-mlogloss:0.43703\n",
      "[948]\tvalidation_0-mlogloss:0.43703\n",
      "[949]\tvalidation_0-mlogloss:0.43702\n",
      "[950]\tvalidation_0-mlogloss:0.43702\n",
      "[951]\tvalidation_0-mlogloss:0.43702\n",
      "[952]\tvalidation_0-mlogloss:0.43699\n",
      "[953]\tvalidation_0-mlogloss:0.43699\n",
      "[954]\tvalidation_0-mlogloss:0.43699\n",
      "[955]\tvalidation_0-mlogloss:0.43699\n",
      "[956]\tvalidation_0-mlogloss:0.43699\n",
      "[957]\tvalidation_0-mlogloss:0.43699\n",
      "[958]\tvalidation_0-mlogloss:0.43699\n",
      "[959]\tvalidation_0-mlogloss:0.43699\n",
      "[960]\tvalidation_0-mlogloss:0.43699\n",
      "[961]\tvalidation_0-mlogloss:0.43699\n",
      "[962]\tvalidation_0-mlogloss:0.43699\n",
      "[963]\tvalidation_0-mlogloss:0.43700\n",
      "[964]\tvalidation_0-mlogloss:0.43700\n",
      "[965]\tvalidation_0-mlogloss:0.43700\n",
      "[966]\tvalidation_0-mlogloss:0.43700\n",
      "[967]\tvalidation_0-mlogloss:0.43700\n",
      "[968]\tvalidation_0-mlogloss:0.43699\n",
      "[969]\tvalidation_0-mlogloss:0.43699\n",
      "[970]\tvalidation_0-mlogloss:0.43699\n",
      "[971]\tvalidation_0-mlogloss:0.43699\n",
      "[972]\tvalidation_0-mlogloss:0.43699\n",
      "[973]\tvalidation_0-mlogloss:0.43699\n",
      "[974]\tvalidation_0-mlogloss:0.43699\n",
      "[975]\tvalidation_0-mlogloss:0.43699\n",
      "[976]\tvalidation_0-mlogloss:0.43698\n",
      "[977]\tvalidation_0-mlogloss:0.43698\n",
      "[978]\tvalidation_0-mlogloss:0.43698\n",
      "[979]\tvalidation_0-mlogloss:0.43697\n",
      "[980]\tvalidation_0-mlogloss:0.43697\n",
      "[981]\tvalidation_0-mlogloss:0.43698\n",
      "[982]\tvalidation_0-mlogloss:0.43698\n",
      "[983]\tvalidation_0-mlogloss:0.43698\n",
      "[984]\tvalidation_0-mlogloss:0.43698\n",
      "[985]\tvalidation_0-mlogloss:0.43697\n",
      "[986]\tvalidation_0-mlogloss:0.43697\n",
      "[987]\tvalidation_0-mlogloss:0.43697\n",
      "[988]\tvalidation_0-mlogloss:0.43697\n",
      "[989]\tvalidation_0-mlogloss:0.43697\n",
      "[990]\tvalidation_0-mlogloss:0.43697\n",
      "[991]\tvalidation_0-mlogloss:0.43697\n",
      "[992]\tvalidation_0-mlogloss:0.43697\n",
      "[993]\tvalidation_0-mlogloss:0.43697\n",
      "[994]\tvalidation_0-mlogloss:0.43697\n",
      "[995]\tvalidation_0-mlogloss:0.43697\n",
      "[996]\tvalidation_0-mlogloss:0.43697\n",
      "[997]\tvalidation_0-mlogloss:0.43697\n",
      "[998]\tvalidation_0-mlogloss:0.43697\n",
      "[999]\tvalidation_0-mlogloss:0.43697\n"
     ]
    },
    {
     "data": {
      "text/html": [
       "<style>#sk-container-id-8 {\n",
       "  /* Definition of color scheme common for light and dark mode */\n",
       "  --sklearn-color-text: black;\n",
       "  --sklearn-color-line: gray;\n",
       "  /* Definition of color scheme for unfitted estimators */\n",
       "  --sklearn-color-unfitted-level-0: #fff5e6;\n",
       "  --sklearn-color-unfitted-level-1: #f6e4d2;\n",
       "  --sklearn-color-unfitted-level-2: #ffe0b3;\n",
       "  --sklearn-color-unfitted-level-3: chocolate;\n",
       "  /* Definition of color scheme for fitted estimators */\n",
       "  --sklearn-color-fitted-level-0: #f0f8ff;\n",
       "  --sklearn-color-fitted-level-1: #d4ebff;\n",
       "  --sklearn-color-fitted-level-2: #b3dbfd;\n",
       "  --sklearn-color-fitted-level-3: cornflowerblue;\n",
       "\n",
       "  /* Specific color for light theme */\n",
       "  --sklearn-color-text-on-default-background: var(--sg-text-color, var(--theme-code-foreground, var(--jp-content-font-color1, black)));\n",
       "  --sklearn-color-background: var(--sg-background-color, var(--theme-background, var(--jp-layout-color0, white)));\n",
       "  --sklearn-color-border-box: var(--sg-text-color, var(--theme-code-foreground, var(--jp-content-font-color1, black)));\n",
       "  --sklearn-color-icon: #696969;\n",
       "\n",
       "  @media (prefers-color-scheme: dark) {\n",
       "    /* Redefinition of color scheme for dark theme */\n",
       "    --sklearn-color-text-on-default-background: var(--sg-text-color, var(--theme-code-foreground, var(--jp-content-font-color1, white)));\n",
       "    --sklearn-color-background: var(--sg-background-color, var(--theme-background, var(--jp-layout-color0, #111)));\n",
       "    --sklearn-color-border-box: var(--sg-text-color, var(--theme-code-foreground, var(--jp-content-font-color1, white)));\n",
       "    --sklearn-color-icon: #878787;\n",
       "  }\n",
       "}\n",
       "\n",
       "#sk-container-id-8 {\n",
       "  color: var(--sklearn-color-text);\n",
       "}\n",
       "\n",
       "#sk-container-id-8 pre {\n",
       "  padding: 0;\n",
       "}\n",
       "\n",
       "#sk-container-id-8 input.sk-hidden--visually {\n",
       "  border: 0;\n",
       "  clip: rect(1px 1px 1px 1px);\n",
       "  clip: rect(1px, 1px, 1px, 1px);\n",
       "  height: 1px;\n",
       "  margin: -1px;\n",
       "  overflow: hidden;\n",
       "  padding: 0;\n",
       "  position: absolute;\n",
       "  width: 1px;\n",
       "}\n",
       "\n",
       "#sk-container-id-8 div.sk-dashed-wrapped {\n",
       "  border: 1px dashed var(--sklearn-color-line);\n",
       "  margin: 0 0.4em 0.5em 0.4em;\n",
       "  box-sizing: border-box;\n",
       "  padding-bottom: 0.4em;\n",
       "  background-color: var(--sklearn-color-background);\n",
       "}\n",
       "\n",
       "#sk-container-id-8 div.sk-container {\n",
       "  /* jupyter's `normalize.less` sets `[hidden] { display: none; }`\n",
       "     but bootstrap.min.css set `[hidden] { display: none !important; }`\n",
       "     so we also need the `!important` here to be able to override the\n",
       "     default hidden behavior on the sphinx rendered scikit-learn.org.\n",
       "     See: https://github.com/scikit-learn/scikit-learn/issues/21755 */\n",
       "  display: inline-block !important;\n",
       "  position: relative;\n",
       "}\n",
       "\n",
       "#sk-container-id-8 div.sk-text-repr-fallback {\n",
       "  display: none;\n",
       "}\n",
       "\n",
       "div.sk-parallel-item,\n",
       "div.sk-serial,\n",
       "div.sk-item {\n",
       "  /* draw centered vertical line to link estimators */\n",
       "  background-image: linear-gradient(var(--sklearn-color-text-on-default-background), var(--sklearn-color-text-on-default-background));\n",
       "  background-size: 2px 100%;\n",
       "  background-repeat: no-repeat;\n",
       "  background-position: center center;\n",
       "}\n",
       "\n",
       "/* Parallel-specific style estimator block */\n",
       "\n",
       "#sk-container-id-8 div.sk-parallel-item::after {\n",
       "  content: \"\";\n",
       "  width: 100%;\n",
       "  border-bottom: 2px solid var(--sklearn-color-text-on-default-background);\n",
       "  flex-grow: 1;\n",
       "}\n",
       "\n",
       "#sk-container-id-8 div.sk-parallel {\n",
       "  display: flex;\n",
       "  align-items: stretch;\n",
       "  justify-content: center;\n",
       "  background-color: var(--sklearn-color-background);\n",
       "  position: relative;\n",
       "}\n",
       "\n",
       "#sk-container-id-8 div.sk-parallel-item {\n",
       "  display: flex;\n",
       "  flex-direction: column;\n",
       "}\n",
       "\n",
       "#sk-container-id-8 div.sk-parallel-item:first-child::after {\n",
       "  align-self: flex-end;\n",
       "  width: 50%;\n",
       "}\n",
       "\n",
       "#sk-container-id-8 div.sk-parallel-item:last-child::after {\n",
       "  align-self: flex-start;\n",
       "  width: 50%;\n",
       "}\n",
       "\n",
       "#sk-container-id-8 div.sk-parallel-item:only-child::after {\n",
       "  width: 0;\n",
       "}\n",
       "\n",
       "/* Serial-specific style estimator block */\n",
       "\n",
       "#sk-container-id-8 div.sk-serial {\n",
       "  display: flex;\n",
       "  flex-direction: column;\n",
       "  align-items: center;\n",
       "  background-color: var(--sklearn-color-background);\n",
       "  padding-right: 1em;\n",
       "  padding-left: 1em;\n",
       "}\n",
       "\n",
       "\n",
       "/* Toggleable style: style used for estimator/Pipeline/ColumnTransformer box that is\n",
       "clickable and can be expanded/collapsed.\n",
       "- Pipeline and ColumnTransformer use this feature and define the default style\n",
       "- Estimators will overwrite some part of the style using the `sk-estimator` class\n",
       "*/\n",
       "\n",
       "/* Pipeline and ColumnTransformer style (default) */\n",
       "\n",
       "#sk-container-id-8 div.sk-toggleable {\n",
       "  /* Default theme specific background. It is overwritten whether we have a\n",
       "  specific estimator or a Pipeline/ColumnTransformer */\n",
       "  background-color: var(--sklearn-color-background);\n",
       "}\n",
       "\n",
       "/* Toggleable label */\n",
       "#sk-container-id-8 label.sk-toggleable__label {\n",
       "  cursor: pointer;\n",
       "  display: block;\n",
       "  width: 100%;\n",
       "  margin-bottom: 0;\n",
       "  padding: 0.5em;\n",
       "  box-sizing: border-box;\n",
       "  text-align: center;\n",
       "}\n",
       "\n",
       "#sk-container-id-8 label.sk-toggleable__label-arrow:before {\n",
       "  /* Arrow on the left of the label */\n",
       "  content: \"▸\";\n",
       "  float: left;\n",
       "  margin-right: 0.25em;\n",
       "  color: var(--sklearn-color-icon);\n",
       "}\n",
       "\n",
       "#sk-container-id-8 label.sk-toggleable__label-arrow:hover:before {\n",
       "  color: var(--sklearn-color-text);\n",
       "}\n",
       "\n",
       "/* Toggleable content - dropdown */\n",
       "\n",
       "#sk-container-id-8 div.sk-toggleable__content {\n",
       "  max-height: 0;\n",
       "  max-width: 0;\n",
       "  overflow: hidden;\n",
       "  text-align: left;\n",
       "  /* unfitted */\n",
       "  background-color: var(--sklearn-color-unfitted-level-0);\n",
       "}\n",
       "\n",
       "#sk-container-id-8 div.sk-toggleable__content.fitted {\n",
       "  /* fitted */\n",
       "  background-color: var(--sklearn-color-fitted-level-0);\n",
       "}\n",
       "\n",
       "#sk-container-id-8 div.sk-toggleable__content pre {\n",
       "  margin: 0.2em;\n",
       "  border-radius: 0.25em;\n",
       "  color: var(--sklearn-color-text);\n",
       "  /* unfitted */\n",
       "  background-color: var(--sklearn-color-unfitted-level-0);\n",
       "}\n",
       "\n",
       "#sk-container-id-8 div.sk-toggleable__content.fitted pre {\n",
       "  /* unfitted */\n",
       "  background-color: var(--sklearn-color-fitted-level-0);\n",
       "}\n",
       "\n",
       "#sk-container-id-8 input.sk-toggleable__control:checked~div.sk-toggleable__content {\n",
       "  /* Expand drop-down */\n",
       "  max-height: 200px;\n",
       "  max-width: 100%;\n",
       "  overflow: auto;\n",
       "}\n",
       "\n",
       "#sk-container-id-8 input.sk-toggleable__control:checked~label.sk-toggleable__label-arrow:before {\n",
       "  content: \"▾\";\n",
       "}\n",
       "\n",
       "/* Pipeline/ColumnTransformer-specific style */\n",
       "\n",
       "#sk-container-id-8 div.sk-label input.sk-toggleable__control:checked~label.sk-toggleable__label {\n",
       "  color: var(--sklearn-color-text);\n",
       "  background-color: var(--sklearn-color-unfitted-level-2);\n",
       "}\n",
       "\n",
       "#sk-container-id-8 div.sk-label.fitted input.sk-toggleable__control:checked~label.sk-toggleable__label {\n",
       "  background-color: var(--sklearn-color-fitted-level-2);\n",
       "}\n",
       "\n",
       "/* Estimator-specific style */\n",
       "\n",
       "/* Colorize estimator box */\n",
       "#sk-container-id-8 div.sk-estimator input.sk-toggleable__control:checked~label.sk-toggleable__label {\n",
       "  /* unfitted */\n",
       "  background-color: var(--sklearn-color-unfitted-level-2);\n",
       "}\n",
       "\n",
       "#sk-container-id-8 div.sk-estimator.fitted input.sk-toggleable__control:checked~label.sk-toggleable__label {\n",
       "  /* fitted */\n",
       "  background-color: var(--sklearn-color-fitted-level-2);\n",
       "}\n",
       "\n",
       "#sk-container-id-8 div.sk-label label.sk-toggleable__label,\n",
       "#sk-container-id-8 div.sk-label label {\n",
       "  /* The background is the default theme color */\n",
       "  color: var(--sklearn-color-text-on-default-background);\n",
       "}\n",
       "\n",
       "/* On hover, darken the color of the background */\n",
       "#sk-container-id-8 div.sk-label:hover label.sk-toggleable__label {\n",
       "  color: var(--sklearn-color-text);\n",
       "  background-color: var(--sklearn-color-unfitted-level-2);\n",
       "}\n",
       "\n",
       "/* Label box, darken color on hover, fitted */\n",
       "#sk-container-id-8 div.sk-label.fitted:hover label.sk-toggleable__label.fitted {\n",
       "  color: var(--sklearn-color-text);\n",
       "  background-color: var(--sklearn-color-fitted-level-2);\n",
       "}\n",
       "\n",
       "/* Estimator label */\n",
       "\n",
       "#sk-container-id-8 div.sk-label label {\n",
       "  font-family: monospace;\n",
       "  font-weight: bold;\n",
       "  display: inline-block;\n",
       "  line-height: 1.2em;\n",
       "}\n",
       "\n",
       "#sk-container-id-8 div.sk-label-container {\n",
       "  text-align: center;\n",
       "}\n",
       "\n",
       "/* Estimator-specific */\n",
       "#sk-container-id-8 div.sk-estimator {\n",
       "  font-family: monospace;\n",
       "  border: 1px dotted var(--sklearn-color-border-box);\n",
       "  border-radius: 0.25em;\n",
       "  box-sizing: border-box;\n",
       "  margin-bottom: 0.5em;\n",
       "  /* unfitted */\n",
       "  background-color: var(--sklearn-color-unfitted-level-0);\n",
       "}\n",
       "\n",
       "#sk-container-id-8 div.sk-estimator.fitted {\n",
       "  /* fitted */\n",
       "  background-color: var(--sklearn-color-fitted-level-0);\n",
       "}\n",
       "\n",
       "/* on hover */\n",
       "#sk-container-id-8 div.sk-estimator:hover {\n",
       "  /* unfitted */\n",
       "  background-color: var(--sklearn-color-unfitted-level-2);\n",
       "}\n",
       "\n",
       "#sk-container-id-8 div.sk-estimator.fitted:hover {\n",
       "  /* fitted */\n",
       "  background-color: var(--sklearn-color-fitted-level-2);\n",
       "}\n",
       "\n",
       "/* Specification for estimator info (e.g. \"i\" and \"?\") */\n",
       "\n",
       "/* Common style for \"i\" and \"?\" */\n",
       "\n",
       ".sk-estimator-doc-link,\n",
       "a:link.sk-estimator-doc-link,\n",
       "a:visited.sk-estimator-doc-link {\n",
       "  float: right;\n",
       "  font-size: smaller;\n",
       "  line-height: 1em;\n",
       "  font-family: monospace;\n",
       "  background-color: var(--sklearn-color-background);\n",
       "  border-radius: 1em;\n",
       "  height: 1em;\n",
       "  width: 1em;\n",
       "  text-decoration: none !important;\n",
       "  margin-left: 1ex;\n",
       "  /* unfitted */\n",
       "  border: var(--sklearn-color-unfitted-level-1) 1pt solid;\n",
       "  color: var(--sklearn-color-unfitted-level-1);\n",
       "}\n",
       "\n",
       ".sk-estimator-doc-link.fitted,\n",
       "a:link.sk-estimator-doc-link.fitted,\n",
       "a:visited.sk-estimator-doc-link.fitted {\n",
       "  /* fitted */\n",
       "  border: var(--sklearn-color-fitted-level-1) 1pt solid;\n",
       "  color: var(--sklearn-color-fitted-level-1);\n",
       "}\n",
       "\n",
       "/* On hover */\n",
       "div.sk-estimator:hover .sk-estimator-doc-link:hover,\n",
       ".sk-estimator-doc-link:hover,\n",
       "div.sk-label-container:hover .sk-estimator-doc-link:hover,\n",
       ".sk-estimator-doc-link:hover {\n",
       "  /* unfitted */\n",
       "  background-color: var(--sklearn-color-unfitted-level-3);\n",
       "  color: var(--sklearn-color-background);\n",
       "  text-decoration: none;\n",
       "}\n",
       "\n",
       "div.sk-estimator.fitted:hover .sk-estimator-doc-link.fitted:hover,\n",
       ".sk-estimator-doc-link.fitted:hover,\n",
       "div.sk-label-container:hover .sk-estimator-doc-link.fitted:hover,\n",
       ".sk-estimator-doc-link.fitted:hover {\n",
       "  /* fitted */\n",
       "  background-color: var(--sklearn-color-fitted-level-3);\n",
       "  color: var(--sklearn-color-background);\n",
       "  text-decoration: none;\n",
       "}\n",
       "\n",
       "/* Span, style for the box shown on hovering the info icon */\n",
       ".sk-estimator-doc-link span {\n",
       "  display: none;\n",
       "  z-index: 9999;\n",
       "  position: relative;\n",
       "  font-weight: normal;\n",
       "  right: .2ex;\n",
       "  padding: .5ex;\n",
       "  margin: .5ex;\n",
       "  width: min-content;\n",
       "  min-width: 20ex;\n",
       "  max-width: 50ex;\n",
       "  color: var(--sklearn-color-text);\n",
       "  box-shadow: 2pt 2pt 4pt #999;\n",
       "  /* unfitted */\n",
       "  background: var(--sklearn-color-unfitted-level-0);\n",
       "  border: .5pt solid var(--sklearn-color-unfitted-level-3);\n",
       "}\n",
       "\n",
       ".sk-estimator-doc-link.fitted span {\n",
       "  /* fitted */\n",
       "  background: var(--sklearn-color-fitted-level-0);\n",
       "  border: var(--sklearn-color-fitted-level-3);\n",
       "}\n",
       "\n",
       ".sk-estimator-doc-link:hover span {\n",
       "  display: block;\n",
       "}\n",
       "\n",
       "/* \"?\"-specific style due to the `<a>` HTML tag */\n",
       "\n",
       "#sk-container-id-8 a.estimator_doc_link {\n",
       "  float: right;\n",
       "  font-size: 1rem;\n",
       "  line-height: 1em;\n",
       "  font-family: monospace;\n",
       "  background-color: var(--sklearn-color-background);\n",
       "  border-radius: 1rem;\n",
       "  height: 1rem;\n",
       "  width: 1rem;\n",
       "  text-decoration: none;\n",
       "  /* unfitted */\n",
       "  color: var(--sklearn-color-unfitted-level-1);\n",
       "  border: var(--sklearn-color-unfitted-level-1) 1pt solid;\n",
       "}\n",
       "\n",
       "#sk-container-id-8 a.estimator_doc_link.fitted {\n",
       "  /* fitted */\n",
       "  border: var(--sklearn-color-fitted-level-1) 1pt solid;\n",
       "  color: var(--sklearn-color-fitted-level-1);\n",
       "}\n",
       "\n",
       "/* On hover */\n",
       "#sk-container-id-8 a.estimator_doc_link:hover {\n",
       "  /* unfitted */\n",
       "  background-color: var(--sklearn-color-unfitted-level-3);\n",
       "  color: var(--sklearn-color-background);\n",
       "  text-decoration: none;\n",
       "}\n",
       "\n",
       "#sk-container-id-8 a.estimator_doc_link.fitted:hover {\n",
       "  /* fitted */\n",
       "  background-color: var(--sklearn-color-fitted-level-3);\n",
       "}\n",
       "</style><div id=\"sk-container-id-8\" class=\"sk-top-container\"><div class=\"sk-text-repr-fallback\"><pre>XGBClassifier(base_score=None, booster=None, callbacks=None,\n",
       "              colsample_bylevel=None, colsample_bynode=None,\n",
       "              colsample_bytree=0.56, device=None, early_stopping_rounds=50,\n",
       "              enable_categorical=False, eval_metric=None, feature_types=None,\n",
       "              gamma=1.11, grow_policy=None, importance_type=None,\n",
       "              interaction_constraints=None, learning_rate=0.07, max_bin=None,\n",
       "              max_cat_threshold=None, max_cat_to_onehot=None,\n",
       "              max_delta_step=None, max_depth=14, max_leaves=None,\n",
       "              min_child_weight=9, missing=nan, monotone_constraints=None,\n",
       "              multi_strategy=None, n_estimators=1000, n_jobs=None, nthread=-1,\n",
       "              num_parallel_tree=None, ...)</pre><b>In a Jupyter environment, please rerun this cell to show the HTML representation or trust the notebook. <br />On GitHub, the HTML representation is unable to render, please try loading this page with nbviewer.org.</b></div><div class=\"sk-container\" hidden><div class=\"sk-item\"><div class=\"sk-estimator fitted sk-toggleable\"><input class=\"sk-toggleable__control sk-hidden--visually\" id=\"sk-estimator-id-8\" type=\"checkbox\" checked><label for=\"sk-estimator-id-8\" class=\"sk-toggleable__label fitted sk-toggleable__label-arrow fitted\">&nbsp;XGBClassifier<span class=\"sk-estimator-doc-link fitted\">i<span>Fitted</span></span></label><div class=\"sk-toggleable__content fitted\"><pre>XGBClassifier(base_score=None, booster=None, callbacks=None,\n",
       "              colsample_bylevel=None, colsample_bynode=None,\n",
       "              colsample_bytree=0.56, device=None, early_stopping_rounds=50,\n",
       "              enable_categorical=False, eval_metric=None, feature_types=None,\n",
       "              gamma=1.11, grow_policy=None, importance_type=None,\n",
       "              interaction_constraints=None, learning_rate=0.07, max_bin=None,\n",
       "              max_cat_threshold=None, max_cat_to_onehot=None,\n",
       "              max_delta_step=None, max_depth=14, max_leaves=None,\n",
       "              min_child_weight=9, missing=nan, monotone_constraints=None,\n",
       "              multi_strategy=None, n_estimators=1000, n_jobs=None, nthread=-1,\n",
       "              num_parallel_tree=None, ...)</pre></div> </div></div></div></div>"
      ],
      "text/plain": [
       "XGBClassifier(base_score=None, booster=None, callbacks=None,\n",
       "              colsample_bylevel=None, colsample_bynode=None,\n",
       "              colsample_bytree=0.56, device=None, early_stopping_rounds=50,\n",
       "              enable_categorical=False, eval_metric=None, feature_types=None,\n",
       "              gamma=1.11, grow_policy=None, importance_type=None,\n",
       "              interaction_constraints=None, learning_rate=0.07, max_bin=None,\n",
       "              max_cat_threshold=None, max_cat_to_onehot=None,\n",
       "              max_delta_step=None, max_depth=14, max_leaves=None,\n",
       "              min_child_weight=9, missing=nan, monotone_constraints=None,\n",
       "              multi_strategy=None, n_estimators=1000, n_jobs=None, nthread=-1,\n",
       "              num_parallel_tree=None, ...)"
      ]
     },
     "execution_count": 57,
     "metadata": {},
     "output_type": "execute_result"
    }
   ],
   "source": [
    "model.fit(x_train, \n",
    "          y_train, \n",
    "          verbose=True, \n",
    "          eval_set=[(x_test, y_test)])"
   ]
  },
  {
   "cell_type": "code",
   "execution_count": 58,
   "metadata": {},
   "outputs": [
    {
     "name": "stdout",
     "output_type": "stream",
     "text": [
      " The importance of feature 'Marital status' is 0.32%.\n",
      " The importance of feature 'Application mode' is 0.69%.\n",
      " The importance of feature 'Application order' is 0.3%.\n",
      " The importance of feature 'Course' is 0.7%.\n",
      " The importance of feature 'Daytime/evening attendance' is 0.43%.\n",
      " The importance of feature 'Previous qualification' is 0.32%.\n",
      " The importance of feature 'Previous qualification (grade)' is 0.33%.\n",
      " The importance of feature 'Nacionality' is 0.22%.\n",
      " The importance of feature 'Mother's qualification' is 0.47%.\n",
      " The importance of feature 'Father's qualification' is 0.32%.\n",
      " The importance of feature 'Mother's occupation' is 0.44%.\n",
      " The importance of feature 'Father's occupation' is 0.38%.\n",
      " The importance of feature 'Admission grade' is 0.39%.\n",
      " The importance of feature 'Displaced' is 0.31%.\n",
      " The importance of feature 'Educational special needs' is 0.34%.\n",
      " The importance of feature 'Debtor' is 1.44%.\n",
      " The importance of feature 'Tuition fees up to date' is 6.83%.\n",
      " The importance of feature 'Gender' is 1.09%.\n",
      " The importance of feature 'Scholarship holder' is 3.42%.\n",
      " The importance of feature 'Age at enrollment' is 1.37%.\n",
      " The importance of feature 'International' is 0.21%.\n",
      " The importance of feature 'Curricular units 1st sem (credited)' is 0.49%.\n",
      " The importance of feature 'Curricular units 1st sem (enrolled)' is 1.36%.\n",
      " The importance of feature 'Curricular units 1st sem (evaluations)' is 3.67%.\n",
      " The importance of feature 'Curricular units 1st sem (approved)' is 18.64%.\n",
      " The importance of feature 'Curricular units 1st sem (grade)' is 4.34%.\n",
      " The importance of feature 'Curricular units 1st sem (without evaluations)' is 0.25%.\n",
      " The importance of feature 'Curricular units 2nd sem (credited)' is 0.53%.\n",
      " The importance of feature 'Curricular units 2nd sem (enrolled)' is 1.75%.\n",
      " The importance of feature 'Curricular units 2nd sem (evaluations)' is 6.41%.\n",
      " The importance of feature 'Curricular units 2nd sem (approved)' is 29.59%.\n",
      " The importance of feature 'Curricular units 2nd sem (grade)' is 10.81%.\n",
      " The importance of feature 'Curricular units 2nd sem (without evaluations)' is 0.32%.\n",
      " The importance of feature 'Unemployment rate' is 0.4%.\n",
      " The importance of feature 'Inflation rate' is 0.29%.\n",
      " The importance of feature 'GDP' is 0.86%.\n"
     ]
    }
   ],
   "source": [
    "#Check feature Importance\n",
    "importances = model.feature_importances_\n",
    "columns = x.columns\n",
    "i = 0\n",
    "\n",
    "while i< len(columns):\n",
    "    print (f\" The importance of feature '{columns[i]}' is {round(importances[i]*100, 2)}%.\")\n",
    "    i += 1"
   ]
  },
  {
   "cell_type": "code",
   "execution_count": 59,
   "metadata": {},
   "outputs": [
    {
     "name": "stdout",
     "output_type": "stream",
     "text": [
      "Accuracy: 0.83\n",
      "\n",
      "Classification Report:\n",
      "              precision    recall  f1-score   support\n",
      "\n",
      "           0       0.90      0.83      0.87      6287\n",
      "           1       0.65      0.61      0.63      3746\n",
      "           2       0.86      0.92      0.89      9097\n",
      "\n",
      "    accuracy                           0.83     19130\n",
      "   macro avg       0.80      0.79      0.80     19130\n",
      "weighted avg       0.83      0.83      0.83     19130\n",
      "\n"
     ]
    }
   ],
   "source": [
    "y_pred = model.predict(x_test)\n",
    "accuracy = accuracy_score(y_test, y_pred)\n",
    "print(f'Accuracy: {accuracy:.2f}')\n",
    "\n",
    "print('\\nClassification Report:')\n",
    "print(classification_report(y_test, y_pred))\n"
   ]
  },
  {
   "cell_type": "code",
   "execution_count": 61,
   "metadata": {},
   "outputs": [
    {
     "data": {
      "text/plain": [
       "array(['Dropout', 'Graduate', 'Graduate', ..., 'Dropout', 'Dropout',\n",
       "       'Dropout'], dtype='<U8')"
      ]
     },
     "execution_count": 61,
     "metadata": {},
     "output_type": "execute_result"
    }
   ],
   "source": [
    "x_test = df_test.drop(['id'], axis=1)\n",
    "\n",
    "predictions = model.predict(x_test)\n",
    "\n",
    "columns = ['Dropout', 'Enrolled', 'Graduate']\n",
    "\n",
    "# Mapping dictionary\n",
    "label_mapping = {i: column for i, column in enumerate(columns)}\n",
    "\n",
    "# Map the numeric labels to column titles\n",
    "predictions_mapped = np.array([label_mapping[label] for label in predictions])\n",
    "\n",
    "predictions_mapped\n"
   ]
  },
  {
   "cell_type": "code",
   "execution_count": 62,
   "metadata": {},
   "outputs": [
    {
     "data": {
      "text/html": [
       "<div>\n",
       "<style scoped>\n",
       "    .dataframe tbody tr th:only-of-type {\n",
       "        vertical-align: middle;\n",
       "    }\n",
       "\n",
       "    .dataframe tbody tr th {\n",
       "        vertical-align: top;\n",
       "    }\n",
       "\n",
       "    .dataframe thead th {\n",
       "        text-align: right;\n",
       "    }\n",
       "</style>\n",
       "<table border=\"1\" class=\"dataframe\">\n",
       "  <thead>\n",
       "    <tr style=\"text-align: right;\">\n",
       "      <th></th>\n",
       "      <th>id</th>\n",
       "      <th>NObeyesdad</th>\n",
       "    </tr>\n",
       "  </thead>\n",
       "  <tbody>\n",
       "    <tr>\n",
       "      <th>0</th>\n",
       "      <td>76518</td>\n",
       "      <td>Dropout</td>\n",
       "    </tr>\n",
       "    <tr>\n",
       "      <th>1</th>\n",
       "      <td>76519</td>\n",
       "      <td>Graduate</td>\n",
       "    </tr>\n",
       "    <tr>\n",
       "      <th>2</th>\n",
       "      <td>76520</td>\n",
       "      <td>Graduate</td>\n",
       "    </tr>\n",
       "    <tr>\n",
       "      <th>3</th>\n",
       "      <td>76521</td>\n",
       "      <td>Graduate</td>\n",
       "    </tr>\n",
       "    <tr>\n",
       "      <th>4</th>\n",
       "      <td>76522</td>\n",
       "      <td>Enrolled</td>\n",
       "    </tr>\n",
       "    <tr>\n",
       "      <th>...</th>\n",
       "      <td>...</td>\n",
       "      <td>...</td>\n",
       "    </tr>\n",
       "    <tr>\n",
       "      <th>51007</th>\n",
       "      <td>127525</td>\n",
       "      <td>Dropout</td>\n",
       "    </tr>\n",
       "    <tr>\n",
       "      <th>51008</th>\n",
       "      <td>127526</td>\n",
       "      <td>Dropout</td>\n",
       "    </tr>\n",
       "    <tr>\n",
       "      <th>51009</th>\n",
       "      <td>127527</td>\n",
       "      <td>Dropout</td>\n",
       "    </tr>\n",
       "    <tr>\n",
       "      <th>51010</th>\n",
       "      <td>127528</td>\n",
       "      <td>Dropout</td>\n",
       "    </tr>\n",
       "    <tr>\n",
       "      <th>51011</th>\n",
       "      <td>127529</td>\n",
       "      <td>Dropout</td>\n",
       "    </tr>\n",
       "  </tbody>\n",
       "</table>\n",
       "<p>51012 rows × 2 columns</p>\n",
       "</div>"
      ],
      "text/plain": [
       "           id NObeyesdad\n",
       "0       76518    Dropout\n",
       "1       76519   Graduate\n",
       "2       76520   Graduate\n",
       "3       76521   Graduate\n",
       "4       76522   Enrolled\n",
       "...       ...        ...\n",
       "51007  127525    Dropout\n",
       "51008  127526    Dropout\n",
       "51009  127527    Dropout\n",
       "51010  127528    Dropout\n",
       "51011  127529    Dropout\n",
       "\n",
       "[51012 rows x 2 columns]"
      ]
     },
     "execution_count": 62,
     "metadata": {},
     "output_type": "execute_result"
    }
   ],
   "source": [
    "df_submission = pd.DataFrame({\n",
    "    'id': df_test['id'],\n",
    "    'NObeyesdad': predictions_mapped\n",
    "})\n",
    "df_submission"
   ]
  },
  {
   "cell_type": "code",
   "execution_count": 63,
   "metadata": {},
   "outputs": [],
   "source": [
    "df_submission.to_csv('XGBoost_Submission_Hypertuned.csv', index=False)"
   ]
  }
 ],
 "metadata": {
  "kernelspec": {
   "display_name": "Python 3",
   "language": "python",
   "name": "python3"
  },
  "language_info": {
   "codemirror_mode": {
    "name": "ipython",
    "version": 3
   },
   "file_extension": ".py",
   "mimetype": "text/x-python",
   "name": "python",
   "nbconvert_exporter": "python",
   "pygments_lexer": "ipython3",
   "version": "3.11.9"
  }
 },
 "nbformat": 4,
 "nbformat_minor": 2
}
