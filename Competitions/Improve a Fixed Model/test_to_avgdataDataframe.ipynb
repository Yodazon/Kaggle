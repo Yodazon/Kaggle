{
 "cells": [
  {
   "cell_type": "code",
   "execution_count": 1,
   "metadata": {},
   "outputs": [
    {
     "name": "stdout",
     "output_type": "stream",
     "text": [
      "   O2_1  O2_2  O2_3  NH4_1  NH4_2  NH4_3  avg_O2  avg_NH4\n",
      "0     5     6     7      2      3      4     6.0      3.0\n",
      "1     7     8     9      4      5      6     8.0      5.0\n",
      "2     9    10    11      6      7      8    10.0      7.0\n"
     ]
    }
   ],
   "source": [
    "import pandas as pd\n",
    "\n",
    "def add_avg_columns(dataframe, column_prefixes):\n",
    "    new_dataframe = dataframe.copy()\n",
    "    \n",
    "    for prefix in column_prefixes:\n",
    "        relevant_columns = [col for col in new_dataframe.columns if col.startswith(prefix)]\n",
    "        avg_column_name = f'avg_{prefix}'\n",
    "        \n",
    "        new_dataframe[avg_column_name] = new_dataframe[relevant_columns].mean(axis=1)\n",
    "    \n",
    "    return new_dataframe\n",
    "\n",
    "# Sample data\n",
    "data = {\n",
    "    'O2_1': [5, 7, 9],\n",
    "    'O2_2': [6, 8, 10],\n",
    "    'O2_3': [7, 9, 11],\n",
    "    'NH4_1': [2, 4, 6],\n",
    "    'NH4_2': [3, 5, 7],\n",
    "    'NH4_3': [4, 6, 8]\n",
    "}\n",
    "\n",
    "df = pd.DataFrame(data)\n",
    "\n",
    "# List of prefixes for which you want to calculate the average\n",
    "prefixes = ['O2', 'NH4']\n",
    "\n",
    "# Call the function to add average columns\n",
    "new_df = add_avg_columns(df, prefixes)\n",
    "\n",
    "print(new_df)"
   ]
  },
  {
   "cell_type": "code",
   "execution_count": 2,
   "metadata": {},
   "outputs": [
    {
     "name": "stdout",
     "output_type": "stream",
     "text": [
      "   O2_1  O2_2  O2_3  NH4_1  NH4_2  NH4_3  avg_O2  avg_NH4\n",
      "0     5     6     7      2      3      4     6.0      3.0\n",
      "1     7     8     9      4      5      6     8.0      5.0\n",
      "2     9    10    11      6      7      8    10.0      7.0\n"
     ]
    }
   ],
   "source": [
    "import pandas as pd\n",
    "\n",
    "def add_avg_columns(dataframe):\n",
    "    new_dataframe = dataframe.copy()\n",
    "    \n",
    "    # Extract prefixes from the columns in the DataFrame\n",
    "    column_prefixes = list(set(col.split('_')[0] for col in new_dataframe.columns))\n",
    "    \n",
    "    for prefix in column_prefixes:\n",
    "        relevant_columns = [col for col in new_dataframe.columns if col.startswith(prefix)]\n",
    "        avg_column_name = f'avg_{prefix}'\n",
    "        \n",
    "        new_dataframe[avg_column_name] = new_dataframe[relevant_columns].mean(axis=1)\n",
    "    \n",
    "    return new_dataframe\n",
    "\n",
    "# Sample data\n",
    "data = {\n",
    "    'O2_1': [5, 7, 9],\n",
    "    'O2_2': [6, 8, 10],\n",
    "    'O2_3': [7, 9, 11],\n",
    "    'NH4_1': [2, 4, 6],\n",
    "    'NH4_2': [3, 5, 7],\n",
    "    'NH4_3': [4, 6, 8]\n",
    "}\n",
    "\n",
    "df = pd.DataFrame(data)\n",
    "\n",
    "# Call the function to add average columns\n",
    "new_df = add_avg_columns(df)\n",
    "\n",
    "print(new_df)"
   ]
  }
 ],
 "metadata": {
  "kernelspec": {
   "display_name": "Python 3",
   "language": "python",
   "name": "python3"
  },
  "language_info": {
   "codemirror_mode": {
    "name": "ipython",
    "version": 3
   },
   "file_extension": ".py",
   "mimetype": "text/x-python",
   "name": "python",
   "nbconvert_exporter": "python",
   "pygments_lexer": "ipython3",
   "version": "3.11.4"
  },
  "orig_nbformat": 4
 },
 "nbformat": 4,
 "nbformat_minor": 2
}
